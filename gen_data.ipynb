{
 "cells": [
  {
   "cell_type": "code",
   "execution_count": 42,
   "metadata": {
    "collapsed": false
   },
   "outputs": [
    {
     "name": "stdout",
     "output_type": "stream",
     "text": [
      "Populating the interactive namespace from numpy and matplotlib\n"
     ]
    },
    {
     "name": "stderr",
     "output_type": "stream",
     "text": [
      "WARNING: pylab import has clobbered these variables: ['randint', 'flag']\n",
      "`%matplotlib` prevents importing * from pylab and numpy\n"
     ]
    }
   ],
   "source": [
    "%matplotlib inline\n",
    "%pylab inline\n",
    "from time import sleep\n",
    "import numpy as np \n",
    "import scipy\n",
    "import os\n",
    "import sys\n",
    "import matplotlib.pyplot as plt\n",
    "\n",
    "from sklearn.ensemble import RandomForestRegressor, RandomForestClassifier\n",
    "from sklearn.metrics import mean_absolute_error, confusion_matrix\n",
    "\n",
    "from random import randint\n",
    "from keras.callbacks import Callback\n",
    "from keras.models import Sequential\n",
    "from keras.layers import Dense\n",
    "from keras.layers import GRU\n",
    "from keras.layers import LSTM\n",
    "from keras.optimizers import RMSprop\n",
    "\n",
    "from keras.layers.core import Dense, Dropout, Activation, Flatten\n",
    "\n",
    "\n",
    "#Questions:\n",
    "#question: Is there a better way to do the input than just flattening?\n",
    "\n",
    "#Completed tasks\n",
    "#Write a normal neural net to try to predict the next measurement with the window method in multiple dimensions (train_baseline_multi)\n",
    "#Write a deep neural net to try to predict the next measurement with the window method in multiple dimensions (train_baseline_multi)\n",
    "#Write a Random Forest Regressor to try to predict the next measurement with the window method in multiple dimensions (train_forest)\n",
    "#Consolidate the pipeline - shape data / create models / validate models \n",
    "#Sliding window with a RNN to predict the next value (train_window_regression_rnn)\n",
    "#Random Forest Classifier to classify FLAG at the next measurement(30 trees, 30 features)\n",
    "#Neural Network Classifier (1 layer, 512 nodes) \n",
    "#Deep Neural Network Classifier (2 layers, 512 nodes) \n",
    "#Recurrent Neural Network for classification using window\n",
    "#Complete all the quizzes and submit a request for MIMIC\n",
    "#Sanity check for A = B\n",
    "    #If it doesn't work, make sure the rolling/unrolling is correct\n",
    "    #Switch order of patient and timestep\n",
    "    #If it still doesn't work, try only feeding it one previous instead of 20 previous\n",
    "#Completed today\n",
    "#Fix the regression\n",
    "    #Make it so that the matrix predictor gives 0 error\n",
    "    #Make the other regressors make sense\n",
    "    #Make all the regressions work\n",
    "#Make all the classifications work similarly\n",
    "\n",
    "#--------------------------------------------------------------------------------------------------------------------------------------------\n",
    "#Regression\n",
    "    #Write scaffolding for testing variation of len_sequence DONE\n",
    "    #Fix the data generation DONE\n",
    "    #Create the graphs\n",
    "    #Write up Regression where A \\neq B\n",
    "    #Write up Regression where A = B\n",
    "#Writeup: Classification \n",
    "    #Write scaffolding for testing variation of len_sequence \n",
    "    #Create the graphs\n",
    "    #Write up Classification\n",
    "#Sequence to sequence rnn classification\n",
    "    #Get a 1-d version working DONE\n",
    "    #Investigate what happens more closely by reducing the number of people to 2 DONE\n",
    "    #Get a multiple dimension version working DONE\n",
    "    #Go back to the toy example and make it work for larger dimensions\n",
    "    #Bring it back to our synthetic data\n",
    "#Figure out what we do if data is missing\n",
    "#Implement it\n",
    "#--------------------------------------------------------------------------------------------------------------------------------------------\n",
    "#TODO \n",
    "#Investigate if any of our methods can actually predict in the time period where the flag is being flipped: e.g. the previous window has both 0 and 1\n",
    "#Write a normal neural net to take prediction from rnn and predict 1/0\n",
    "#Investigate this idea of deleting data\n",
    "#Add a stateful try where the rnn is an autoencoder ( http://papers.nips.cc/paper/5346-sequence-to-sequence-learning-with-neural-networks.pdf) and then another LSTM"
   ]
  },
  {
   "cell_type": "code",
   "execution_count": 43,
   "metadata": {
    "collapsed": false
   },
   "outputs": [
    {
     "name": "stdout",
     "output_type": "stream",
     "text": [
      "8.33980975239 8.33980975239\n"
     ]
    }
   ],
   "source": [
    "# fix random seed for reproducibility\n",
    "np.random.seed(7)\n",
    "V=np.random.randn(10)\n",
    "print(V.dot(V), np.linalg.norm(V)**2)"
   ]
  },
  {
   "cell_type": "code",
   "execution_count": 44,
   "metadata": {
    "collapsed": true
   },
   "outputs": [],
   "source": [
    "#Setup for the generation of the data \n",
    "d=10 ##number of measurements per patient per time unit\n",
    "k=2 ##complexity of the time series\n",
    "n=200 ## number of patients\n",
    "len_sequence = 10\n",
    "sigmaw=0.2##randomness\n",
    "T=175 ## amount of time measured for each patient (also batch size)\n",
    "U=np.random.randn(d,k).dot(np.random.randn(k,d))\n",
    "betashift=np.random.randn(d)/np.sqrt(d)  ## used to check when we switch to the other time series\n",
    "#normalized U\n",
    "A=0.9*U/np.linalg.norm(U,ord=2)\n",
    "#V is also d by d\n",
    "V=np.random.randn(d,k).dot(np.random.randn(k,d))\n",
    "#normalized V\n",
    "B = .9*V/np.linalg.norm(V,ord=2) \n",
    "#B = A #Set B = A for sanity checking\n",
    "flag = 1"
   ]
  },
  {
   "cell_type": "code",
   "execution_count": 45,
   "metadata": {
    "collapsed": false
   },
   "outputs": [],
   "source": [
    "def generate_data():\n",
    "    X = np.zeros((n,T,d)) #this represents n patients, in d-dimensions, for T time-steps\n",
    "    flags = np.zeros((n,T))\n",
    "    #Generate the data, fill in X, flags\n",
    "    for j in range(n): #for each patient\n",
    "        X[j,0,:]=np.random.randn(d)/np.sqrt(d)\n",
    "        flag=1\n",
    "        for i in range(1,T): #for each time      \n",
    "            if flag and ((X[j,i-1,:].dot(betashift))>.5): ##if flag was true and we go above a certain threshold, then set flag=0\n",
    "                flag = 0\n",
    "            ## we can think of flag has flag==1 means not critical, flag==0 means critical\n",
    "            if flag:\n",
    "                X[j,i,:]=A.dot(X[j,i-1,:])+sigmaw*np.random.randn(d)\n",
    "                flags[j,i] = 0\n",
    "            else:\n",
    "                X[j,i,:]=B.dot(X[j,i-1,:])+sigmaw*np.random.randn(d)\n",
    "                flags[j, i] = 1\n",
    "    return(X, flags)"
   ]
  },
  {
   "cell_type": "code",
   "execution_count": 46,
   "metadata": {
    "collapsed": true
   },
   "outputs": [],
   "source": [
    "def generate_crazy(len_sequence, X, flags):\n",
    "    ## X is a n by d by T tensorx\n",
    "    ## n represents independent trials (think of them as patients or time periods for patients separated)\n",
    "    ## T represents the time horizon (how long we observe a patient, for now T is the same for everybody, but we can imagine that changing)\n",
    "    ## d is the number of measurements that we have per patient per time.\n",
    "    ## flags are num_patients * num_timesteps * dimensionality\n",
    "    crazy = np.array([X[:, i:i + len_sequence] for i in range(X.shape[1] - len_sequence)])\n",
    "    crazy_y = np.array([X[:, i + len_sequence] for i in range(X.shape[1] - len_sequence)])\n",
    "    crazy_flags = np.array([flags[:, i + len_sequence] for i in range(X.shape[1] - len_sequence)])\n",
    "    return (crazy, crazy_y, crazy_flags)"
   ]
  },
  {
   "cell_type": "code",
   "execution_count": 47,
   "metadata": {
    "collapsed": false
   },
   "outputs": [
    {
     "name": "stdout",
     "output_type": "stream",
     "text": [
      "(200, 175, 10)\n",
      "(200, 175)\n",
      "(158, 200, 17, 10)\n",
      "(158, 200, 10)\n",
      "(158, 200)\n"
     ]
    }
   ],
   "source": [
    "print(X.shape)\n",
    "print(flags.shape)\n",
    "print(crazy.shape)\n",
    "print(crazy_y.shape)\n",
    "print(crazy_flags.shape)\n",
    "\n",
    "#print(flags[6])\n",
    "#print(crazy_flags[:,6])\n",
    "#print(X[0,:,0])\n",
    "#print(crazy[:,0,:,0])\n",
    "#print(crazy_y[:,0,0])"
   ]
  },
  {
   "cell_type": "code",
   "execution_count": null,
   "metadata": {
    "collapsed": true
   },
   "outputs": [],
   "source": [
    "#THIS ONE IS FOR REGRESSION\n",
    "all_models = []\n",
    "all_data = []\n",
    "rnn_data = []\n",
    "(X, flags) = generate_data()\n",
    "\n",
    "for i in range(1,20,4):\n",
    "    len_sequence = i\n",
    "    (crazy, crazy_y, crazy_flags) = generate_crazy(len_sequence, X, flags)\n",
    "    (X_train, y_train, X_test, y_test) = prepare_baseline(crazy, crazy_y)\n",
    "    all_data.append((X_train, y_train, X_test, y_test))\n",
    "    \n",
    "    models = {}\n",
    "    tree_models = train_forest(X_train, y_train)\n",
    "    models['tree'] = tree_models[0]\n",
    "    models['nn'] = train_baseline_nn(X_train, y_train, X_test, y_test)\n",
    "    models['deep_nn'] = train_baseline_multi_deep(X_train, y_train, X_test, y_test)\n",
    "    \n",
    "    (X_train, y_train, X_test, y_test) = prepare_rnn(crazy, crazy_y)\n",
    "    rnn_data.append((X_train, y_train, X_test, y_test))\n",
    "    \n",
    "    models['window_rnn'] = train_window_regression_rnn(X_train, y_train, X_test, y_test)\n",
    "    \n",
    "    all_models.append(models)"
   ]
  },
  {
   "cell_type": "code",
   "execution_count": 48,
   "metadata": {
    "collapsed": false
   },
   "outputs": [
    {
     "name": "stdout",
     "output_type": "stream",
     "text": [
      "(174, 200, 1, 10)\n",
      "(174, 200)\n",
      "(34800, 10)\n",
      "(34800,)\n",
      "(27840, 10)\n",
      "(27840,)\n",
      "(6960, 10)\n",
      "(6960,)\n",
      "building tree 1 of 10\n",
      "building tree 2 of 10\n",
      "building tree 3 of 10\n",
      "building tree 4 of 10\n",
      "building tree 5 of 10\n",
      "building tree 6 of 10\n",
      "building tree 7 of 10\n",
      "building tree 8 of 10\n",
      "building tree 9 of 10\n",
      "building tree 10 of 10"
     ]
    },
    {
     "name": "stderr",
     "output_type": "stream",
     "text": [
      "[Parallel(n_jobs=1)]: Done   1 out of   1 | elapsed:    0.6s remaining:    0.0s\n",
      "[Parallel(n_jobs=1)]: Done  10 out of  10 | elapsed:    5.9s finished\n"
     ]
    },
    {
     "name": "stdout",
     "output_type": "stream",
     "text": [
      "\n",
      "Train on 27840 samples, validate on 6960 samples\n",
      "Epoch 1/10\n",
      "27840/27840 [==============================] - 2s - loss: 0.5573 - acc: 0.7422 - val_loss: 0.4956 - val_acc: 0.7922\n",
      "Epoch 2/10\n",
      "27840/27840 [==============================] - 2s - loss: 0.5363 - acc: 0.7521 - val_loss: 0.4904 - val_acc: 0.7938\n",
      "Epoch 3/10\n",
      "27840/27840 [==============================] - 2s - loss: 0.5332 - acc: 0.7528 - val_loss: 0.4917 - val_acc: 0.7918\n",
      "Epoch 4/10\n",
      "27840/27840 [==============================] - 2s - loss: 0.5320 - acc: 0.7547 - val_loss: 0.4961 - val_acc: 0.7899\n",
      "Epoch 5/10\n",
      "27840/27840 [==============================] - 2s - loss: 0.5311 - acc: 0.7543 - val_loss: 0.4923 - val_acc: 0.7922\n",
      "Epoch 6/10\n",
      "27840/27840 [==============================] - 2s - loss: 0.5307 - acc: 0.7541 - val_loss: 0.4914 - val_acc: 0.7937\n",
      "Epoch 7/10\n",
      "27840/27840 [==============================] - 2s - loss: 0.5304 - acc: 0.7543 - val_loss: 0.4905 - val_acc: 0.7925\n",
      "Epoch 8/10\n",
      "27840/27840 [==============================] - 3s - loss: 0.5293 - acc: 0.7540 - val_loss: 0.4975 - val_acc: 0.7905\n",
      "Epoch 9/10\n",
      "27840/27840 [==============================] - 3s - loss: 0.5294 - acc: 0.7546 - val_loss: 0.4859 - val_acc: 0.7921\n",
      "Epoch 10/10\n",
      "27840/27840 [==============================] - 3s - loss: 0.5292 - acc: 0.7541 - val_loss: 0.4907 - val_acc: 0.7912\n",
      "Train on 27840 samples, validate on 6960 samples\n",
      "Epoch 1/10\n",
      "27840/27840 [==============================] - 8s - loss: 0.5493 - acc: 0.7466 - val_loss: 0.4916 - val_acc: 0.7925\n",
      "Epoch 2/10\n",
      "27840/27840 [==============================] - 7s - loss: 0.5369 - acc: 0.7525 - val_loss: 0.4975 - val_acc: 0.7915\n",
      "Epoch 3/10\n",
      "27840/27840 [==============================] - 7s - loss: 0.5348 - acc: 0.7514 - val_loss: 0.4873 - val_acc: 0.7932\n",
      "Epoch 4/10\n",
      "27840/27840 [==============================] - 7s - loss: 0.5331 - acc: 0.7533 - val_loss: 0.4955 - val_acc: 0.7905\n",
      "Epoch 5/10\n",
      "27840/27840 [==============================] - 8s - loss: 0.5323 - acc: 0.7532 - val_loss: 0.4955 - val_acc: 0.7886\n",
      "Epoch 6/10\n",
      "27840/27840 [==============================] - 8s - loss: 0.5320 - acc: 0.7536 - val_loss: 0.4923 - val_acc: 0.7918\n",
      "Epoch 7/10\n",
      "27840/27840 [==============================] - 8s - loss: 0.5308 - acc: 0.7546 - val_loss: 0.4899 - val_acc: 0.7944\n",
      "Epoch 8/10\n",
      "27840/27840 [==============================] - 8s - loss: 0.5303 - acc: 0.7538 - val_loss: 0.4955 - val_acc: 0.7924\n",
      "Epoch 9/10\n",
      "27840/27840 [==============================] - 8s - loss: 0.5291 - acc: 0.7551 - val_loss: 0.4921 - val_acc: 0.7938\n",
      "Epoch 10/10\n",
      "27840/27840 [==============================] - 7s - loss: 0.5289 - acc: 0.7550 - val_loss: 0.4901 - val_acc: 0.7945\n",
      "(174, 200, 1, 10)\n",
      "(174, 200)\n",
      "(34800, 1, 10)\n",
      "(34800,)\n",
      "(27840, 1, 10)\n",
      "(27840,)\n",
      "(6960, 1, 10)\n",
      "(6960,)\n",
      "Train on 27840 samples, validate on 6960 samples\n",
      "Epoch 1/10\n",
      "27840/27840 [==============================] - 2s - loss: 0.5724 - acc: 0.7398 - val_loss: 0.5076 - val_acc: 0.7878\n",
      "Epoch 2/10\n",
      "27840/27840 [==============================] - 2s - loss: 0.5464 - acc: 0.7463 - val_loss: 0.5044 - val_acc: 0.7889\n",
      "Epoch 3/10\n",
      "27840/27840 [==============================] - 2s - loss: 0.5389 - acc: 0.7512 - val_loss: 0.4920 - val_acc: 0.7925\n",
      "Epoch 4/10\n",
      "27840/27840 [==============================] - 2s - loss: 0.5365 - acc: 0.7527 - val_loss: 0.4988 - val_acc: 0.7878\n",
      "Epoch 5/10\n",
      "27840/27840 [==============================] - 2s - loss: 0.5351 - acc: 0.7521 - val_loss: 0.4950 - val_acc: 0.7908\n",
      "Epoch 6/10\n",
      "27840/27840 [==============================] - 2s - loss: 0.5343 - acc: 0.7523 - val_loss: 0.4872 - val_acc: 0.7937\n",
      "Epoch 7/10\n",
      "27840/27840 [==============================] - 2s - loss: 0.5338 - acc: 0.7516 - val_loss: 0.4935 - val_acc: 0.7917\n",
      "Epoch 8/10\n",
      "27840/27840 [==============================] - 2s - loss: 0.5327 - acc: 0.7523 - val_loss: 0.4894 - val_acc: 0.7931\n",
      "Epoch 9/10\n",
      "27840/27840 [==============================] - 2s - loss: 0.5314 - acc: 0.7529 - val_loss: 0.4901 - val_acc: 0.7925\n",
      "Epoch 10/10\n",
      "27840/27840 [==============================] - 2s - loss: 0.5324 - acc: 0.7536 - val_loss: 0.4879 - val_acc: 0.7921\n",
      "(170, 200, 5, 10)\n",
      "(170, 200)\n",
      "(34000, 50)\n",
      "(34000,)\n",
      "(27200, 50)\n",
      "(27200,)\n",
      "(6800, 50)\n",
      "(6800,)\n",
      "building tree 1 of 40\n",
      "building tree 2 of 40\n",
      "building tree 3 of 40\n",
      "building tree 4 of 40\n",
      "building tree 5 of 40\n",
      "building tree 6 of 40\n",
      "building tree 7 of 40\n",
      "building tree 8 of 40\n",
      "building tree 9 of 40\n",
      "building tree 10 of 40\n",
      "building tree 11 of 40\n",
      "building tree 12 of 40\n",
      "building tree 13 of 40\n",
      "building tree 14 of 40\n",
      "building tree 15 of 40\n",
      "building tree 16 of 40\n",
      "building tree 17 of 40\n",
      "building tree 18 of 40\n",
      "building tree 19 of 40\n",
      "building tree 20 of 40\n",
      "building tree 21 of 40\n",
      "building tree 22 of 40\n",
      "building tree 23 of 40\n",
      "building tree 24 of 40\n",
      "building tree 25 of 40\n",
      "building tree 26 of 40\n",
      "building tree 27 of 40\n",
      "building tree 28 of 40\n",
      "building tree 29 of 40\n",
      "building tree 30 of 40\n",
      "building tree 31 of 40\n",
      "building tree 32 of 40\n",
      "building tree 33 of 40\n",
      "building tree 34 of 40\n",
      "building tree 35 of 40\n",
      "building tree 36 of 40\n",
      "building tree 37 of 40\n",
      "building tree 38 of 40\n",
      "building tree 39 of 40\n",
      "building tree 40 of 40"
     ]
    },
    {
     "name": "stderr",
     "output_type": "stream",
     "text": [
      "[Parallel(n_jobs=1)]: Done   1 out of   1 | elapsed:    2.4s remaining:    0.0s\n",
      "[Parallel(n_jobs=1)]: Done  40 out of  40 | elapsed:  1.6min finished\n"
     ]
    },
    {
     "name": "stdout",
     "output_type": "stream",
     "text": [
      "\n",
      "Train on 27200 samples, validate on 6800 samples\n",
      "Epoch 1/10\n",
      "27200/27200 [==============================] - 2s - loss: 0.4572 - acc: 0.7830 - val_loss: 0.3163 - val_acc: 0.8763\n",
      "Epoch 2/10\n",
      "27200/27200 [==============================] - 2s - loss: 0.3048 - acc: 0.8731 - val_loss: 0.2613 - val_acc: 0.9009\n",
      "Epoch 3/10\n",
      "27200/27200 [==============================] - 2s - loss: 0.2578 - acc: 0.8952 - val_loss: 0.2405 - val_acc: 0.9104\n",
      "Epoch 4/10\n",
      "27200/27200 [==============================] - 2s - loss: 0.2327 - acc: 0.9084 - val_loss: 0.2261 - val_acc: 0.9128\n",
      "Epoch 5/10\n",
      "27200/27200 [==============================] - 2s - loss: 0.2185 - acc: 0.9138 - val_loss: 0.2195 - val_acc: 0.9160\n",
      "Epoch 6/10\n",
      "27200/27200 [==============================] - 2s - loss: 0.2087 - acc: 0.9192 - val_loss: 0.2196 - val_acc: 0.9126\n",
      "Epoch 7/10\n",
      "27200/27200 [==============================] - 2s - loss: 0.2009 - acc: 0.9193 - val_loss: 0.2135 - val_acc: 0.9181\n",
      "Epoch 8/10\n",
      "27200/27200 [==============================] - 2s - loss: 0.1949 - acc: 0.9233 - val_loss: 0.2197 - val_acc: 0.9165\n",
      "Epoch 9/10\n",
      "27200/27200 [==============================] - 2s - loss: 0.1919 - acc: 0.9246 - val_loss: 0.2204 - val_acc: 0.9141\n",
      "Epoch 10/10\n",
      "27200/27200 [==============================] - 2s - loss: 0.1861 - acc: 0.9281 - val_loss: 0.2191 - val_acc: 0.9168\n",
      "Train on 27200 samples, validate on 6800 samples\n",
      "Epoch 1/10\n",
      "27200/27200 [==============================] - 8s - loss: 0.3864 - acc: 0.8266 - val_loss: 0.2486 - val_acc: 0.9015\n",
      "Epoch 2/10\n",
      "27200/27200 [==============================] - 8s - loss: 0.2553 - acc: 0.8933 - val_loss: 0.2408 - val_acc: 0.9024\n",
      "Epoch 3/10\n",
      "27200/27200 [==============================] - 8s - loss: 0.2307 - acc: 0.9075 - val_loss: 0.2171 - val_acc: 0.9151\n",
      "Epoch 4/10\n",
      "27200/27200 [==============================] - 8s - loss: 0.2153 - acc: 0.9131 - val_loss: 0.2156 - val_acc: 0.9151\n",
      "Epoch 5/10\n",
      "27200/27200 [==============================] - 8s - loss: 0.2031 - acc: 0.9188 - val_loss: 0.2197 - val_acc: 0.9146\n",
      "Epoch 6/10\n",
      "27200/27200 [==============================] - 8s - loss: 0.1934 - acc: 0.9230 - val_loss: 0.2180 - val_acc: 0.9178\n",
      "Epoch 7/10\n",
      "27200/27200 [==============================] - 8s - loss: 0.1855 - acc: 0.9262 - val_loss: 0.2206 - val_acc: 0.9165\n",
      "Epoch 8/10\n",
      "27200/27200 [==============================] - 8s - loss: 0.1775 - acc: 0.9292 - val_loss: 0.2251 - val_acc: 0.9131\n",
      "Epoch 9/10\n",
      "27200/27200 [==============================] - 8s - loss: 0.1692 - acc: 0.9328 - val_loss: 0.2289 - val_acc: 0.9149\n",
      "Epoch 10/10\n",
      "27200/27200 [==============================] - 8s - loss: 0.1618 - acc: 0.9380 - val_loss: 0.2479 - val_acc: 0.9071\n",
      "(170, 200, 5, 10)\n",
      "(170, 200)\n",
      "(34000, 5, 10)\n",
      "(34000,)\n",
      "(27200, 5, 10)\n",
      "(27200,)\n",
      "(6800, 5, 10)\n",
      "(6800,)\n",
      "Train on 27200 samples, validate on 6800 samples\n",
      "Epoch 1/10\n",
      "27200/27200 [==============================] - 3s - loss: 0.5449 - acc: 0.7379 - val_loss: 0.4277 - val_acc: 0.8035\n",
      "Epoch 2/10\n",
      "27200/27200 [==============================] - 3s - loss: 0.4043 - acc: 0.8126 - val_loss: 0.3245 - val_acc: 0.8597\n",
      "Epoch 3/10\n",
      "27200/27200 [==============================] - 3s - loss: 0.3293 - acc: 0.8557 - val_loss: 0.2952 - val_acc: 0.8726\n",
      "Epoch 4/10\n",
      "27200/27200 [==============================] - 3s - loss: 0.2940 - acc: 0.8763 - val_loss: 0.2687 - val_acc: 0.8831\n",
      "Epoch 5/10\n",
      "27200/27200 [==============================] - 3s - loss: 0.2682 - acc: 0.8881 - val_loss: 0.2498 - val_acc: 0.8981\n",
      "Epoch 6/10\n",
      "27200/27200 [==============================] - 3s - loss: 0.2517 - acc: 0.8958 - val_loss: 0.2816 - val_acc: 0.8797\n",
      "Epoch 7/10\n",
      "27200/27200 [==============================] - 3s - loss: 0.2435 - acc: 0.9013 - val_loss: 0.2353 - val_acc: 0.9041\n",
      "Epoch 8/10\n",
      "27200/27200 [==============================] - 3s - loss: 0.2365 - acc: 0.9043 - val_loss: 0.2586 - val_acc: 0.8918\n",
      "Epoch 9/10\n",
      "27200/27200 [==============================] - 3s - loss: 0.2317 - acc: 0.9051 - val_loss: 0.2259 - val_acc: 0.9099\n",
      "Epoch 10/10\n",
      "27200/27200 [==============================] - 3s - loss: 0.2257 - acc: 0.9083 - val_loss: 0.2563 - val_acc: 0.8954\n",
      "(166, 200, 9, 10)\n",
      "(166, 200)\n",
      "(33200, 90)\n",
      "(33200,)\n",
      "(26560, 90)\n",
      "(26560,)\n",
      "(6640, 90)\n",
      "(6640,)\n",
      "building tree 1 of 40\n",
      "building tree 2 of 40\n",
      "building tree 3 of 40\n",
      "building tree 4 of 40\n",
      "building tree 5 of 40\n",
      "building tree 6 of 40\n",
      "building tree 7 of 40\n",
      "building tree 8 of 40\n",
      "building tree 9 of 40\n",
      "building tree 10 of 40\n",
      "building tree 11 of 40\n",
      "building tree 12 of 40\n",
      "building tree 13 of 40\n",
      "building tree 14 of 40\n",
      "building tree 15 of 40\n",
      "building tree 16 of 40\n",
      "building tree 17 of 40\n",
      "building tree 18 of 40\n",
      "building tree 19 of 40\n",
      "building tree 20 of 40\n",
      "building tree 21 of 40\n",
      "building tree 22 of 40\n",
      "building tree 23 of 40\n",
      "building tree 24 of 40\n",
      "building tree 25 of 40\n",
      "building tree 26 of 40\n",
      "building tree 27 of 40\n",
      "building tree 28 of 40\n",
      "building tree 29 of 40\n",
      "building tree 30 of 40\n",
      "building tree 31 of 40\n",
      "building tree 32 of 40\n",
      "building tree 33 of 40\n",
      "building tree 34 of 40\n",
      "building tree 35 of 40\n",
      "building tree 36 of 40\n",
      "building tree 37 of 40\n",
      "building tree 38 of 40\n",
      "building tree 39 of 40\n",
      "building tree 40 of 40"
     ]
    },
    {
     "name": "stderr",
     "output_type": "stream",
     "text": [
      "[Parallel(n_jobs=1)]: Done   1 out of   1 | elapsed:    2.5s remaining:    0.0s\n",
      "[Parallel(n_jobs=1)]: Done  40 out of  40 | elapsed:  1.8min finished\n"
     ]
    },
    {
     "name": "stdout",
     "output_type": "stream",
     "text": [
      "\n",
      "Train on 26560 samples, validate on 6640 samples\n",
      "Epoch 1/10\n",
      "26560/26560 [==============================] - 3s - loss: 0.4473 - acc: 0.7922 - val_loss: 0.2724 - val_acc: 0.9083\n",
      "Epoch 2/10\n",
      "26560/26560 [==============================] - 3s - loss: 0.2413 - acc: 0.9123 - val_loss: 0.1965 - val_acc: 0.9343\n",
      "Epoch 3/10\n",
      "26560/26560 [==============================] - 3s - loss: 0.1831 - acc: 0.9368 - val_loss: 0.1697 - val_acc: 0.9434\n",
      "Epoch 4/10\n",
      "26560/26560 [==============================] - 3s - loss: 0.1544 - acc: 0.9486 - val_loss: 0.1589 - val_acc: 0.9473\n",
      "Epoch 5/10\n",
      "26560/26560 [==============================] - 2s - loss: 0.1362 - acc: 0.9552 - val_loss: 0.1549 - val_acc: 0.9473\n",
      "Epoch 6/10\n",
      "26560/26560 [==============================] - 3s - loss: 0.1223 - acc: 0.9607 - val_loss: 0.1542 - val_acc: 0.9476\n",
      "Epoch 7/10\n",
      "26560/26560 [==============================] - 3s - loss: 0.1082 - acc: 0.9663 - val_loss: 0.1499 - val_acc: 0.9502\n",
      "Epoch 8/10\n",
      "26560/26560 [==============================] - 2s - loss: 0.0986 - acc: 0.9694 - val_loss: 0.1522 - val_acc: 0.9500\n",
      "Epoch 9/10\n",
      "26560/26560 [==============================] - 2s - loss: 0.0911 - acc: 0.9708 - val_loss: 0.1582 - val_acc: 0.9473\n",
      "Epoch 10/10\n",
      "26560/26560 [==============================] - 2s - loss: 0.0847 - acc: 0.9745 - val_loss: 0.1556 - val_acc: 0.9483\n",
      "Train on 26560 samples, validate on 6640 samples\n",
      "Epoch 1/10\n",
      "26560/26560 [==============================] - 8s - loss: 0.3611 - acc: 0.8417 - val_loss: 0.1943 - val_acc: 0.9309\n",
      "Epoch 2/10\n",
      "26560/26560 [==============================] - 8s - loss: 0.1901 - acc: 0.9297 - val_loss: 0.1756 - val_acc: 0.9364\n",
      "Epoch 3/10\n",
      "26560/26560 [==============================] - 8s - loss: 0.1485 - acc: 0.9451 - val_loss: 0.1560 - val_acc: 0.9450\n",
      "Epoch 4/10\n",
      "26560/26560 [==============================] - 8s - loss: 0.1233 - acc: 0.9559 - val_loss: 0.1621 - val_acc: 0.9450\n",
      "Epoch 5/10\n",
      "26560/26560 [==============================] - 8s - loss: 0.1030 - acc: 0.9634 - val_loss: 0.1612 - val_acc: 0.9461\n",
      "Epoch 6/10\n",
      "26560/26560 [==============================] - 8s - loss: 0.0944 - acc: 0.9671 - val_loss: 0.1641 - val_acc: 0.9450\n",
      "Epoch 7/10\n",
      "26560/26560 [==============================] - 8s - loss: 0.0804 - acc: 0.9716 - val_loss: 0.1743 - val_acc: 0.9434\n",
      "Epoch 8/10\n",
      "26560/26560 [==============================] - 8s - loss: 0.0721 - acc: 0.9738 - val_loss: 0.1782 - val_acc: 0.9441\n",
      "Epoch 9/10\n",
      "26560/26560 [==============================] - 8s - loss: 0.0625 - acc: 0.9769 - val_loss: 0.1896 - val_acc: 0.9458\n",
      "Epoch 10/10\n",
      "26560/26560 [==============================] - 8s - loss: 0.0583 - acc: 0.9786 - val_loss: 0.1907 - val_acc: 0.9449\n",
      "(166, 200, 9, 10)\n",
      "(166, 200)\n",
      "(33200, 9, 10)\n",
      "(33200,)\n",
      "(26560, 9, 10)\n",
      "(26560,)\n",
      "(6640, 9, 10)\n",
      "(6640,)\n",
      "Train on 26560 samples, validate on 6640 samples\n",
      "Epoch 1/10\n",
      "26560/26560 [==============================] - 4s - loss: 0.5325 - acc: 0.7512 - val_loss: 0.3117 - val_acc: 0.8834\n",
      "Epoch 2/10\n",
      "26560/26560 [==============================] - 3s - loss: 0.2594 - acc: 0.8979 - val_loss: 0.2029 - val_acc: 0.9261\n",
      "Epoch 3/10\n",
      "26560/26560 [==============================] - 4s - loss: 0.1911 - acc: 0.9278 - val_loss: 0.1848 - val_acc: 0.9325\n",
      "Epoch 4/10\n",
      "26560/26560 [==============================] - 4s - loss: 0.1587 - acc: 0.9412 - val_loss: 0.1630 - val_acc: 0.9432\n",
      "Epoch 5/10\n",
      "26560/26560 [==============================] - 4s - loss: 0.1422 - acc: 0.9502 - val_loss: 0.1594 - val_acc: 0.9447\n",
      "Epoch 6/10\n",
      "26560/26560 [==============================] - 3s - loss: 0.1291 - acc: 0.9545 - val_loss: 0.1531 - val_acc: 0.9506\n",
      "Epoch 7/10\n",
      "26560/26560 [==============================] - 3s - loss: 0.1194 - acc: 0.9578 - val_loss: 0.1580 - val_acc: 0.9438\n",
      "Epoch 8/10\n",
      "26560/26560 [==============================] - 4s - loss: 0.1121 - acc: 0.9611 - val_loss: 0.1952 - val_acc: 0.9304\n",
      "Epoch 9/10\n",
      "26560/26560 [==============================] - 3s - loss: 0.1070 - acc: 0.9624 - val_loss: 0.1397 - val_acc: 0.9532\n",
      "Epoch 10/10\n",
      "26560/26560 [==============================] - 4s - loss: 0.1011 - acc: 0.9651 - val_loss: 0.1461 - val_acc: 0.9511\n",
      "(162, 200, 13, 10)\n",
      "(162, 200)\n",
      "(32400, 130)\n",
      "(32400,)\n",
      "(25920, 130)\n",
      "(25920,)\n",
      "(6480, 130)\n",
      "(6480,)\n",
      "building tree 1 of 40\n",
      "building tree 2 of 40\n",
      "building tree 3 of 40\n",
      "building tree 4 of 40\n",
      "building tree 5 of 40\n",
      "building tree 6 of 40\n",
      "building tree 7 of 40\n",
      "building tree 8 of 40\n",
      "building tree 9 of 40\n",
      "building tree 10 of 40\n",
      "building tree 11 of 40\n",
      "building tree 12 of 40\n",
      "building tree 13 of 40\n",
      "building tree 14 of 40\n",
      "building tree 15 of 40\n",
      "building tree 16 of 40\n",
      "building tree 17 of 40\n",
      "building tree 18 of 40\n",
      "building tree 19 of 40\n",
      "building tree 20 of 40\n",
      "building tree 21 of 40\n",
      "building tree 22 of 40\n",
      "building tree 23 of 40\n",
      "building tree 24 of 40\n",
      "building tree 25 of 40\n",
      "building tree 26 of 40\n",
      "building tree 27 of 40\n",
      "building tree 28 of 40\n",
      "building tree 29 of 40\n",
      "building tree 30 of 40\n",
      "building tree 31 of 40\n",
      "building tree 32 of 40\n",
      "building tree 33 of 40\n",
      "building tree 34 of 40\n",
      "building tree 35 of 40\n",
      "building tree 36 of 40\n",
      "building tree 37 of 40\n",
      "building tree 38 of 40\n",
      "building tree 39 of 40\n",
      "building tree 40 of 40"
     ]
    },
    {
     "name": "stderr",
     "output_type": "stream",
     "text": [
      "[Parallel(n_jobs=1)]: Done   1 out of   1 | elapsed:    2.5s remaining:    0.0s\n",
      "[Parallel(n_jobs=1)]: Done  40 out of  40 | elapsed:  2.1min finished\n"
     ]
    },
    {
     "name": "stdout",
     "output_type": "stream",
     "text": [
      "\n",
      "Train on 25920 samples, validate on 6480 samples\n",
      "Epoch 1/10\n",
      "25920/25920 [==============================] - 3s - loss: 0.4490 - acc: 0.7923 - val_loss: 0.2585 - val_acc: 0.9117\n",
      "Epoch 2/10\n",
      "25920/25920 [==============================] - 3s - loss: 0.2129 - acc: 0.9310 - val_loss: 0.1713 - val_acc: 0.9463\n",
      "Epoch 3/10\n",
      "25920/25920 [==============================] - 3s - loss: 0.1544 - acc: 0.9515 - val_loss: 0.1524 - val_acc: 0.9503\n",
      "Epoch 4/10\n",
      "25920/25920 [==============================] - 3s - loss: 0.1237 - acc: 0.9631 - val_loss: 0.1421 - val_acc: 0.9509\n",
      "Epoch 5/10\n",
      "25920/25920 [==============================] - 3s - loss: 0.1060 - acc: 0.9700 - val_loss: 0.1378 - val_acc: 0.9539\n",
      "Epoch 6/10\n",
      "25920/25920 [==============================] - 3s - loss: 0.0890 - acc: 0.9754 - val_loss: 0.1344 - val_acc: 0.9546\n",
      "Epoch 7/10\n",
      "25920/25920 [==============================] - 4s - loss: 0.0779 - acc: 0.9777 - val_loss: 0.1361 - val_acc: 0.9542\n",
      "Epoch 8/10\n",
      "25920/25920 [==============================] - 4s - loss: 0.0658 - acc: 0.9816 - val_loss: 0.1394 - val_acc: 0.9517\n",
      "Epoch 9/10\n",
      "25920/25920 [==============================] - 3s - loss: 0.0570 - acc: 0.9836 - val_loss: 0.1427 - val_acc: 0.9537\n",
      "Epoch 10/10\n",
      "25920/25920 [==============================] - 3s - loss: 0.0491 - acc: 0.9868 - val_loss: 0.1418 - val_acc: 0.9543\n",
      "Train on 25920 samples, validate on 6480 samples\n",
      "Epoch 1/10\n",
      "25920/25920 [==============================] - 8s - loss: 0.3655 - acc: 0.8388 - val_loss: 0.1752 - val_acc: 0.9377\n",
      "Epoch 2/10\n",
      "25920/25920 [==============================] - 8s - loss: 0.1705 - acc: 0.9410 - val_loss: 0.1420 - val_acc: 0.9508\n",
      "Epoch 3/10\n",
      "25920/25920 [==============================] - 8s - loss: 0.1195 - acc: 0.9597 - val_loss: 0.1374 - val_acc: 0.9509\n",
      "Epoch 4/10\n",
      "25920/25920 [==============================] - 8s - loss: 0.0950 - acc: 0.9672 - val_loss: 0.1585 - val_acc: 0.9435\n",
      "Epoch 5/10\n",
      "25920/25920 [==============================] - 8s - loss: 0.0754 - acc: 0.9748 - val_loss: 0.1518 - val_acc: 0.9483\n",
      "Epoch 6/10\n",
      "25920/25920 [==============================] - 8s - loss: 0.0601 - acc: 0.9799 - val_loss: 0.1528 - val_acc: 0.9495\n",
      "Epoch 7/10\n",
      "25920/25920 [==============================] - 8s - loss: 0.0503 - acc: 0.9817 - val_loss: 0.1654 - val_acc: 0.9514\n",
      "Epoch 8/10\n",
      "25920/25920 [==============================] - 8s - loss: 0.0463 - acc: 0.9839 - val_loss: 0.1672 - val_acc: 0.9514\n",
      "Epoch 9/10\n",
      "25920/25920 [==============================] - 8s - loss: 0.0368 - acc: 0.9865 - val_loss: 0.1810 - val_acc: 0.9500\n",
      "Epoch 10/10\n",
      "25920/25920 [==============================] - 8s - loss: 0.0349 - acc: 0.9873 - val_loss: 0.1926 - val_acc: 0.9508\n",
      "(162, 200, 13, 10)\n",
      "(162, 200)\n",
      "(32400, 13, 10)\n",
      "(32400,)\n",
      "(25920, 13, 10)\n",
      "(25920,)\n",
      "(6480, 13, 10)\n",
      "(6480,)\n",
      "Train on 25920 samples, validate on 6480 samples\n",
      "Epoch 1/10\n",
      "25920/25920 [==============================] - 4s - loss: 0.5263 - acc: 0.7481 - val_loss: 0.3325 - val_acc: 0.8937\n",
      "Epoch 2/10\n",
      "25920/25920 [==============================] - 4s - loss: 0.2589 - acc: 0.9085 - val_loss: 0.1808 - val_acc: 0.9383\n",
      "Epoch 3/10\n",
      "25920/25920 [==============================] - 4s - loss: 0.1649 - acc: 0.9410 - val_loss: 0.1570 - val_acc: 0.9457\n",
      "Epoch 4/10\n",
      "25920/25920 [==============================] - 4s - loss: 0.1366 - acc: 0.9529 - val_loss: 0.1472 - val_acc: 0.9512\n",
      "Epoch 5/10\n",
      "25920/25920 [==============================] - 4s - loss: 0.1222 - acc: 0.9591 - val_loss: 0.1670 - val_acc: 0.9438\n",
      "Epoch 6/10\n",
      "25920/25920 [==============================] - 4s - loss: 0.1098 - acc: 0.9627 - val_loss: 0.1687 - val_acc: 0.9435\n",
      "Epoch 7/10\n",
      "25920/25920 [==============================] - 4s - loss: 0.1004 - acc: 0.9657 - val_loss: 0.1386 - val_acc: 0.9546\n",
      "Epoch 8/10\n",
      "25920/25920 [==============================] - 4s - loss: 0.0922 - acc: 0.9694 - val_loss: 0.1346 - val_acc: 0.9585\n",
      "Epoch 9/10\n",
      "25920/25920 [==============================] - 4s - loss: 0.0851 - acc: 0.9709 - val_loss: 0.1327 - val_acc: 0.9576\n",
      "Epoch 10/10\n",
      "25920/25920 [==============================] - 4s - loss: 0.0783 - acc: 0.9736 - val_loss: 0.1275 - val_acc: 0.9591\n",
      "(158, 200, 17, 10)\n",
      "(158, 200)\n",
      "(31600, 170)\n",
      "(31600,)\n",
      "(25280, 170)\n",
      "(25280,)\n",
      "(6320, 170)\n",
      "(6320,)\n",
      "building tree 1 of 40\n",
      "building tree 2 of 40\n",
      "building tree 3 of 40\n",
      "building tree 4 of 40\n",
      "building tree 5 of 40\n",
      "building tree 6 of 40\n",
      "building tree 7 of 40\n",
      "building tree 8 of 40\n",
      "building tree 9 of 40\n",
      "building tree 10 of 40\n",
      "building tree 11 of 40\n",
      "building tree 12 of 40\n",
      "building tree 13 of 40\n",
      "building tree 14 of 40\n",
      "building tree 15 of 40\n",
      "building tree 16 of 40\n",
      "building tree 17 of 40\n",
      "building tree 18 of 40\n",
      "building tree 19 of 40\n",
      "building tree 20 of 40\n",
      "building tree 21 of 40\n",
      "building tree 22 of 40\n",
      "building tree 23 of 40\n",
      "building tree 24 of 40\n",
      "building tree 25 of 40\n",
      "building tree 26 of 40\n",
      "building tree 27 of 40\n",
      "building tree 28 of 40\n",
      "building tree 29 of 40\n",
      "building tree 30 of 40\n",
      "building tree 31 of 40\n",
      "building tree 32 of 40\n",
      "building tree 33 of 40\n",
      "building tree 34 of 40\n",
      "building tree 35 of 40\n",
      "building tree 36 of 40\n",
      "building tree 37 of 40\n",
      "building tree 38 of 40\n",
      "building tree 39 of 40\n",
      "building tree 40 of 40"
     ]
    },
    {
     "name": "stderr",
     "output_type": "stream",
     "text": [
      "[Parallel(n_jobs=1)]: Done   1 out of   1 | elapsed:    2.9s remaining:    0.0s\n",
      "[Parallel(n_jobs=1)]: Done  40 out of  40 | elapsed:  2.0min finished\n"
     ]
    },
    {
     "name": "stdout",
     "output_type": "stream",
     "text": [
      "\n",
      "Train on 25280 samples, validate on 6320 samples\n",
      "Epoch 1/10\n",
      "25280/25280 [==============================] - 3s - loss: 0.4648 - acc: 0.7866 - val_loss: 0.2664 - val_acc: 0.9250\n",
      "Epoch 2/10\n",
      "25280/25280 [==============================] - 3s - loss: 0.2098 - acc: 0.9383 - val_loss: 0.1647 - val_acc: 0.9478\n",
      "Epoch 3/10\n",
      "25280/25280 [==============================] - 3s - loss: 0.1422 - acc: 0.9592 - val_loss: 0.1413 - val_acc: 0.9560\n",
      "Epoch 4/10\n",
      "25280/25280 [==============================] - 3s - loss: 0.1097 - acc: 0.9697 - val_loss: 0.1307 - val_acc: 0.9560\n",
      "Epoch 5/10\n",
      "25280/25280 [==============================] - 3s - loss: 0.0862 - acc: 0.9764 - val_loss: 0.1287 - val_acc: 0.9568\n",
      "Epoch 6/10\n",
      "25280/25280 [==============================] - 3s - loss: 0.0700 - acc: 0.9812 - val_loss: 0.1326 - val_acc: 0.9555\n",
      "Epoch 7/10\n",
      "25280/25280 [==============================] - 3s - loss: 0.0572 - acc: 0.9845 - val_loss: 0.1288 - val_acc: 0.9573\n",
      "Epoch 8/10\n",
      "25280/25280 [==============================] - 3s - loss: 0.0452 - acc: 0.9880 - val_loss: 0.1328 - val_acc: 0.9559\n",
      "Epoch 9/10\n",
      "25280/25280 [==============================] - 3s - loss: 0.0367 - acc: 0.9907 - val_loss: 0.1330 - val_acc: 0.9571\n",
      "Epoch 10/10\n",
      "25280/25280 [==============================] - 3s - loss: 0.0299 - acc: 0.9928 - val_loss: 0.1470 - val_acc: 0.9576\n",
      "Train on 25280 samples, validate on 6320 samples\n",
      "Epoch 1/10\n",
      "25280/25280 [==============================] - 8s - loss: 0.3881 - acc: 0.8305 - val_loss: 0.1816 - val_acc: 0.9366\n",
      "Epoch 2/10\n",
      "25280/25280 [==============================] - 9s - loss: 0.1705 - acc: 0.9409 - val_loss: 0.1413 - val_acc: 0.9536\n",
      "Epoch 3/10\n",
      "25280/25280 [==============================] - 8s - loss: 0.1124 - acc: 0.9627 - val_loss: 0.1394 - val_acc: 0.9557\n",
      "Epoch 4/10\n",
      "25280/25280 [==============================] - 8s - loss: 0.0810 - acc: 0.9729 - val_loss: 0.1572 - val_acc: 0.9500\n",
      "Epoch 5/10\n",
      "25280/25280 [==============================] - 8s - loss: 0.0629 - acc: 0.9785 - val_loss: 0.1460 - val_acc: 0.9568\n",
      "Epoch 6/10\n",
      "25280/25280 [==============================] - 8s - loss: 0.0459 - acc: 0.9834 - val_loss: 0.1775 - val_acc: 0.9549\n",
      "Epoch 7/10\n",
      "25280/25280 [==============================] - 8s - loss: 0.0381 - acc: 0.9868 - val_loss: 0.1745 - val_acc: 0.9552\n",
      "Epoch 8/10\n",
      "25280/25280 [==============================] - 8s - loss: 0.0363 - acc: 0.9862 - val_loss: 0.1678 - val_acc: 0.9551\n",
      "Epoch 9/10\n",
      "25280/25280 [==============================] - 8s - loss: 0.0268 - acc: 0.9910 - val_loss: 0.1972 - val_acc: 0.9551\n",
      "Epoch 10/10\n",
      "25280/25280 [==============================] - 8s - loss: 0.0237 - acc: 0.9910 - val_loss: 0.2010 - val_acc: 0.9563\n",
      "(158, 200, 17, 10)\n",
      "(158, 200)\n",
      "(31600, 17, 10)\n",
      "(31600,)\n",
      "(25280, 17, 10)\n",
      "(25280,)\n",
      "(6320, 17, 10)\n",
      "(6320,)\n",
      "Train on 25280 samples, validate on 6320 samples\n",
      "Epoch 1/10\n",
      "25280/25280 [==============================] - 5s - loss: 0.5163 - acc: 0.7555 - val_loss: 0.2581 - val_acc: 0.9035\n",
      "Epoch 2/10\n",
      "25280/25280 [==============================] - 5s - loss: 0.1748 - acc: 0.9408 - val_loss: 0.1460 - val_acc: 0.9489\n",
      "Epoch 3/10\n",
      "25280/25280 [==============================] - 5s - loss: 0.1176 - acc: 0.9621 - val_loss: 0.1626 - val_acc: 0.9437\n",
      "Epoch 4/10\n",
      "25280/25280 [==============================] - 5s - loss: 0.0952 - acc: 0.9694 - val_loss: 0.1044 - val_acc: 0.9616\n",
      "Epoch 5/10\n",
      "25280/25280 [==============================] - 5s - loss: 0.0807 - acc: 0.9754 - val_loss: 0.0959 - val_acc: 0.9674\n",
      "Epoch 6/10\n",
      "25280/25280 [==============================] - 5s - loss: 0.0687 - acc: 0.9780 - val_loss: 0.1056 - val_acc: 0.9660\n",
      "Epoch 7/10\n",
      "25280/25280 [==============================] - 5s - loss: 0.0596 - acc: 0.9814 - val_loss: 0.0884 - val_acc: 0.9703\n",
      "Epoch 8/10\n",
      "25280/25280 [==============================] - 4s - loss: 0.0513 - acc: 0.9835 - val_loss: 0.0871 - val_acc: 0.9707\n",
      "Epoch 9/10\n",
      "25280/25280 [==============================] - 5s - loss: 0.0433 - acc: 0.9859 - val_loss: 0.0933 - val_acc: 0.9707\n",
      "Epoch 10/10\n",
      "25280/25280 [==============================] - 5s - loss: 0.0400 - acc: 0.9871 - val_loss: 0.0933 - val_acc: 0.9714\n"
     ]
    }
   ],
   "source": [
    "#THIS ONE IS FOR CLASSIFICATION\n",
    "all_models = []\n",
    "all_data = []\n",
    "rnn_data = []\n",
    "(X, flags) = generate_data()\n",
    "\n",
    "for i in range(1,20,4):\n",
    "    len_sequence = i\n",
    "    (crazy, crazy_y, crazy_flags) = generate_crazy(len_sequence, X, flags)\n",
    "    (X_train, y_train, X_test, y_test) = prepare_classification_baseline(crazy, crazy_flags)\n",
    "    all_data.append((X_train, y_train, X_test, y_test))\n",
    "    \n",
    "    #(X_train, y_train, X_test, y_test) = prepare_baseline()\n",
    "    models = {}\n",
    "    tree_models = train_classification_forest(X_train, y_train)\n",
    "    models['tree'] = tree_models[0]\n",
    "    models['nn'] = train_window_classification_nn(X_train, y_train, X_test, y_test)\n",
    "    models['deep_nn'] = train_window_classification_deep_nn(X_train, y_train, X_test, y_test)\n",
    "\n",
    "    (X_train, y_train, X_test, y_test) = prepare_classification_rnn(crazy, crazy_flags)\n",
    "    rnn_data.append((X_train, y_train, X_test, y_test))\n",
    "    \n",
    "    models['window_rnn'] = train_window_classification_rnn(X_train, y_train, X_test, y_test)\n",
    "    \n",
    "    all_models.append(models)"
   ]
  },
  {
   "cell_type": "code",
   "execution_count": 77,
   "metadata": {
    "collapsed": false
   },
   "outputs": [
    {
     "ename": "SyntaxError",
     "evalue": "invalid syntax (<ipython-input-77-c35a5df6d479>, line 1)",
     "output_type": "error",
     "traceback": [
      "\u001b[0;36m  File \u001b[0;32m\"<ipython-input-77-c35a5df6d479>\"\u001b[0;36m, line \u001b[0;32m1\u001b[0m\n\u001b[0;31m    tree for sequence length 1\u001b[0m\n\u001b[0m           ^\u001b[0m\n\u001b[0;31mSyntaxError\u001b[0m\u001b[0;31m:\u001b[0m invalid syntax\n"
     ]
    }
   ],
   "source": [
    "tree for sequence length 1\n",
    "\n",
    "[[5121  362]\n",
    " [1307  170]]\n",
    "0.760201149425\n",
    "\n",
    "\n",
    "neural net for sequence length 1\n",
    "\n",
    "[[5355  128]\n",
    " [1325  152]]\n",
    "0.791235632184\n",
    "\n",
    "\n",
    "deep neural net for sequence length 1\n",
    "\n",
    "[[5382  101]\n",
    " [1329  148]]\n",
    "0.794540229885\n",
    "\n",
    "\n",
    "window recurrent neural net for sequence length 1\n",
    "\n",
    "[[5363  120]\n",
    " [1327  150]]\n",
    "0.792097701149\n",
    "\n",
    "[Parallel(n_jobs=1)]: Done   1 out of   1 | elapsed:    0.0s remaining:    0.0s\n",
    "[Parallel(n_jobs=1)]: Done  10 out of  10 | elapsed:    0.0s finished\n",
    "[Parallel(n_jobs=1)]: Done   1 out of   1 | elapsed:    0.0s remaining:    0.0s\n",
    "\n",
    "tree for sequence length 2\n",
    "\n",
    "[[5295   32]\n",
    " [1205  268]]\n",
    "0.818088235294\n",
    "\n",
    "\n",
    "neural net for sequence length 2\n",
    "\n",
    "[[5107  220]\n",
    " [ 346 1127]]\n",
    "0.916764705882\n",
    "\n",
    "\n",
    "deep neural net for sequence length 2\n",
    "\n",
    "[[4985  342]\n",
    " [ 290 1183]]\n",
    "0.907058823529\n",
    "\n",
    "\n",
    "window recurrent neural net for sequence length 2\n",
    "\n",
    "[[4861  466]\n",
    " [ 245 1228]]\n",
    "0.895441176471\n",
    "\n",
    "[Parallel(n_jobs=1)]: Done  40 out of  40 | elapsed:    0.1s finished\n",
    "[Parallel(n_jobs=1)]: Done   1 out of   1 | elapsed:    0.0s remaining:    0.0s\n",
    "\n",
    "tree for sequence length 3\n",
    "\n",
    "[[5156   15]\n",
    " [1292  177]]\n",
    "0.803162650602\n",
    "\n",
    "\n",
    "neural net for sequence length 3\n",
    "\n",
    "[[5035  136]\n",
    " [ 207 1262]]\n",
    "0.948343373494\n",
    "\n",
    "\n",
    "deep neural net for sequence length 3\n",
    "\n",
    "[[4994  177]\n",
    " [ 189 1280]]\n",
    "0.944879518072\n",
    "\n",
    "\n",
    "window recurrent neural net for sequence length 3\n",
    "\n",
    "[[5102   69]\n",
    " [ 256 1213]]\n",
    "0.951054216867\n",
    "\n",
    "[Parallel(n_jobs=1)]: Done  40 out of  40 | elapsed:    0.1s finished\n",
    "[Parallel(n_jobs=1)]: Done   1 out of   1 | elapsed:    0.0s remaining:    0.0s\n",
    "\n",
    "tree for sequence length 4\n",
    "\n",
    "[[4994   21]\n",
    " [1310  155]]\n",
    "0.794598765432\n",
    "\n",
    "\n",
    "neural net for sequence length 4\n",
    "\n",
    "[[4903  112]\n",
    " [ 184 1281]]\n",
    "0.954320987654\n",
    "\n",
    "\n",
    "deep neural net for sequence length 4\n",
    "\n",
    "[[4905  110]\n",
    " [ 209 1256]]\n",
    "0.950771604938\n",
    "\n",
    "\n",
    "window recurrent neural net for sequence length 4\n",
    "\n",
    "[[4942   73]\n",
    " [ 192 1273]]\n",
    "0.959104938272\n",
    "\n",
    "[Parallel(n_jobs=1)]: Done  40 out of  40 | elapsed:    0.1s finished\n",
    "[Parallel(n_jobs=1)]: Done   1 out of   1 | elapsed:    0.0s remaining:    0.0s\n",
    "\n",
    "tree for sequence length 5\n",
    "\n",
    "[[4839   20]\n",
    " [1318  143]]\n",
    "0.788291139241\n",
    "\n",
    "\n",
    "neural net for sequence length 5\n",
    "\n",
    "[[4790   69]\n",
    " [ 199 1262]]\n",
    "0.957594936709\n",
    "\n",
    "\n",
    "deep neural net for sequence length 5\n",
    "\n",
    "[[4773   86]\n",
    " [ 190 1271]]\n",
    "0.956329113924\n",
    "\n",
    "\n",
    "window recurrent neural net for sequence length 5\n",
    "\n",
    "[[4760   99]\n",
    " [  82 1379]]\n",
    "0.971360759494\n",
    "\n",
    "\n",
    "[Parallel(n_jobs=1)]: Done  40 out of  40 | elapsed:    0.1s finished\n",
    "<matplotlib.figure.Figure at 0x1511369b0>"
   ]
  },
  {
   "cell_type": "code",
   "execution_count": 76,
   "metadata": {
    "collapsed": false
   },
   "outputs": [
    {
     "name": "stdout",
     "output_type": "stream",
     "text": [
      "tree for sequence length 1\n",
      "\n",
      "[[5121  362]\n",
      " [1307  170]]\n",
      "0.760201149425\n",
      "\n",
      "\n",
      "neural net for sequence length 1\n",
      "\n",
      "[[5355  128]\n",
      " [1325  152]]\n",
      "0.791235632184\n",
      "\n",
      "\n",
      "deep neural net for sequence length 1\n",
      "\n",
      "[[5382  101]\n",
      " [1329  148]]\n",
      "0.794540229885\n",
      "\n",
      "\n",
      "window recurrent neural net for sequence length 1\n",
      "\n",
      "[[5363  120]\n",
      " [1327  150]]\n",
      "0.792097701149\n",
      "\n"
     ]
    },
    {
     "name": "stderr",
     "output_type": "stream",
     "text": [
      "[Parallel(n_jobs=1)]: Done   1 out of   1 | elapsed:    0.0s remaining:    0.0s\n",
      "[Parallel(n_jobs=1)]: Done  10 out of  10 | elapsed:    0.0s finished\n",
      "[Parallel(n_jobs=1)]: Done   1 out of   1 | elapsed:    0.0s remaining:    0.0s\n"
     ]
    },
    {
     "name": "stdout",
     "output_type": "stream",
     "text": [
      "\n",
      "tree for sequence length 2\n",
      "\n",
      "[[5295   32]\n",
      " [1205  268]]\n",
      "0.818088235294\n",
      "\n",
      "\n",
      "neural net for sequence length 2\n",
      "\n",
      "[[5107  220]\n",
      " [ 346 1127]]\n",
      "0.916764705882\n",
      "\n",
      "\n",
      "deep neural net for sequence length 2\n",
      "\n",
      "[[4985  342]\n",
      " [ 290 1183]]\n",
      "0.907058823529\n",
      "\n",
      "\n",
      "window recurrent neural net for sequence length 2\n",
      "\n",
      "[[4861  466]\n",
      " [ 245 1228]]\n",
      "0.895441176471\n",
      "\n"
     ]
    },
    {
     "name": "stderr",
     "output_type": "stream",
     "text": [
      "[Parallel(n_jobs=1)]: Done  40 out of  40 | elapsed:    0.1s finished\n",
      "[Parallel(n_jobs=1)]: Done   1 out of   1 | elapsed:    0.0s remaining:    0.0s\n"
     ]
    },
    {
     "name": "stdout",
     "output_type": "stream",
     "text": [
      "\n",
      "tree for sequence length 3\n",
      "\n",
      "[[5156   15]\n",
      " [1292  177]]\n",
      "0.803162650602\n",
      "\n",
      "\n",
      "neural net for sequence length 3\n",
      "\n",
      "[[5035  136]\n",
      " [ 207 1262]]\n",
      "0.948343373494\n",
      "\n",
      "\n",
      "deep neural net for sequence length 3\n",
      "\n",
      "[[4994  177]\n",
      " [ 189 1280]]\n",
      "0.944879518072\n",
      "\n",
      "\n",
      "window recurrent neural net for sequence length 3\n",
      "\n",
      "[[5102   69]\n",
      " [ 256 1213]]\n",
      "0.951054216867\n",
      "\n"
     ]
    },
    {
     "name": "stderr",
     "output_type": "stream",
     "text": [
      "[Parallel(n_jobs=1)]: Done  40 out of  40 | elapsed:    0.1s finished\n",
      "[Parallel(n_jobs=1)]: Done   1 out of   1 | elapsed:    0.0s remaining:    0.0s\n"
     ]
    },
    {
     "name": "stdout",
     "output_type": "stream",
     "text": [
      "\n",
      "tree for sequence length 4\n",
      "\n",
      "[[4994   21]\n",
      " [1310  155]]\n",
      "0.794598765432\n",
      "\n",
      "\n",
      "neural net for sequence length 4\n",
      "\n",
      "[[4903  112]\n",
      " [ 184 1281]]\n",
      "0.954320987654\n",
      "\n",
      "\n",
      "deep neural net for sequence length 4\n",
      "\n",
      "[[4905  110]\n",
      " [ 209 1256]]\n",
      "0.950771604938\n",
      "\n",
      "\n",
      "window recurrent neural net for sequence length 4\n",
      "\n",
      "[[4942   73]\n",
      " [ 192 1273]]\n",
      "0.959104938272\n",
      "\n"
     ]
    },
    {
     "name": "stderr",
     "output_type": "stream",
     "text": [
      "[Parallel(n_jobs=1)]: Done  40 out of  40 | elapsed:    0.1s finished\n",
      "[Parallel(n_jobs=1)]: Done   1 out of   1 | elapsed:    0.0s remaining:    0.0s\n"
     ]
    },
    {
     "name": "stdout",
     "output_type": "stream",
     "text": [
      "\n",
      "tree for sequence length 5\n",
      "\n",
      "[[4839   20]\n",
      " [1318  143]]\n",
      "0.788291139241\n",
      "\n",
      "\n",
      "neural net for sequence length 5\n",
      "\n",
      "[[4790   69]\n",
      " [ 199 1262]]\n",
      "0.957594936709\n",
      "\n",
      "\n",
      "deep neural net for sequence length 5\n",
      "\n",
      "[[4773   86]\n",
      " [ 190 1271]]\n",
      "0.956329113924\n",
      "\n",
      "\n",
      "window recurrent neural net for sequence length 5\n",
      "\n",
      "[[4760   99]\n",
      " [  82 1379]]\n",
      "0.971360759494\n",
      "\n",
      "\n"
     ]
    },
    {
     "name": "stderr",
     "output_type": "stream",
     "text": [
      "[Parallel(n_jobs=1)]: Done  40 out of  40 | elapsed:    0.1s finished\n"
     ]
    },
    {
     "data": {
      "text/plain": [
       "<matplotlib.figure.Figure at 0x1511369b0>"
      ]
     },
     "metadata": {},
     "output_type": "display_data"
    }
   ],
   "source": [
    "#this one is for clssification\n",
    "counter = 1\n",
    "for (model, data, rnn_datum) in zip(all_models, all_data, rnn_data):\n",
    "    (X_train, y_train, X_test, y_test) = data\n",
    "    print(\"tree for sequence length \" + str(counter) + '\\n')\n",
    "    analyze_classification(model['tree'], X_test, y_test)\n",
    "    print('\\n')\n",
    "    print(\"neural net for sequence length \" + str(counter) + '\\n')\n",
    "    analyze_classification(model['nn'], X_test, y_test, rnn = True)\n",
    "    print('\\n')\n",
    "    print(\"deep neural net for sequence length \" + str(counter) + '\\n')\n",
    "    analyze_classification(model['deep_nn'], X_test, y_test, rnn = True)\n",
    "    print('\\n')\n",
    "    (X_train, y_train, X_test, y_test) = rnn_datum\n",
    "    print(\"window recurrent neural net for sequence length \" + str(counter) + '\\n')\n",
    "    analyze_classification(model['window_rnn'], X_test, y_test, rnn=True)\n",
    "    print('\\n')    \n",
    "    counter += 1"
   ]
  },
  {
   "cell_type": "code",
   "execution_count": null,
   "metadata": {
    "collapsed": false,
    "scrolled": false
   },
   "outputs": [],
   "source": [
    "counter = 1\n",
    "for (model, data, rnn_datum) in zip(all_models, all_data, rnn_data):\n",
    "    (X_train, y_train, X_test, y_test) = data\n",
    "    print(\"tree for sequence length \" + str(counter) + '\\n')\n",
    "    analyze(model['tree'], X_test, y_test)\n",
    "    print('\\n')\n",
    "    print(\"neural net for sequence length \" + str(counter) + '\\n')\n",
    "    analyze(model['nn'], X_test, y_test)\n",
    "    print('\\n')\n",
    "    print(\"deep neural net for sequence length \" + str(counter) + '\\n')\n",
    "    analyze(model['deep_nn'], X_test, y_test)\n",
    "    print('\\n')\n",
    "    (X_train, y_train, X_test, y_test) = rnn_datum\n",
    "    print(\"window recurrent neural net for sequence length \" + str(counter) + '\\n')\n",
    "    analyze(model['window_rnn'], X_test, y_test, rnn=True)\n",
    "    print('\\n')    \n",
    "    counter += 1"
   ]
  },
  {
   "cell_type": "code",
   "execution_count": 89,
   "metadata": {
    "collapsed": false
   },
   "outputs": [
    {
     "data": {
      "image/png": "[encoded data removed]",
      "text/plain": [
       "<matplotlib.figure.Figure at 0x1476d93c8>"
      ]
     },
     "metadata": {},
     "output_type": "display_data"
    }
   ],
   "source": [
    "#Analysis of Classification\n",
    "#all_zero error: 0.168895379401\n",
    "#smart_predictor error: 0.159935136096\n",
    "\n",
    "sequence_lengths = [1,5,9,13,17]\n",
    "trees = [0.760, 0.818, 0.803, 0.794, 0.788 ]\n",
    "nns = [0.791,0.917,0.948,0.954,0.957]\n",
    "deep_nns = [0.794 , 0.907 , 0.945 , 0.951 , 0.956]\n",
    "window_rnns = [ 0.792,0.895,0.951, 0.959, 0.971]\n",
    "\n",
    "fig = plt.figure()\n",
    "plt.plot(sequence_lengths, trees, 'r', label='Random Forest')\n",
    "plt.plot(sequence_lengths, nns, 'b', label='Neural Network')\n",
    "plt.plot(sequence_lengths, deep_nns, 'y', label='Deep Neural Network')\n",
    "plt.plot(sequence_lengths, window_rnns, 'g', label='Recurrent Neural Network')\n",
    "plt.ylabel('Mean Squared Error')\n",
    "plt.xlabel('Number of measurements per training sample')\n",
    "plt.title('Effect of window size on MSE for regression models where A = B')\n",
    "plt.legend()\n",
    "plt.savefig('len_sequence_v_accuracy_classification')"
   ]
  },
  {
   "cell_type": "code",
   "execution_count": null,
   "metadata": {
    "collapsed": false
   },
   "outputs": [],
   "source": [
    "#Analysis of Regression when A = B\n",
    "#all_zero error: 0.168895379401\n",
    "#smart_predictor error: 0.159935136096\n",
    "\n",
    "sequence_lengths = [1,5,9,13,17]\n",
    "trees = [0.169523201816,0.163457677349,0.163639987636,0.163690879409,0.163651731491 ]\n",
    "nns = [0.160142227167,0.161104080877,0.161564311629,0.161922431239,0.162239372943]\n",
    "deep_nns = [0.160053838298,0.160528898159,0.160786978029,0.160851565687,0.160993068655]\n",
    "window_rnns = [0.160126886333,0.160145655568,0.160189070326,0.160301765207,0.159979021872]\n",
    "\n",
    "fig = plt.figure()\n",
    "plt.plot(sequence_lengths, trees, 'r', label='Random Forest')\n",
    "plt.plot(sequence_lengths, nns, 'b', label='Neural Network')\n",
    "plt.plot(sequence_lengths, deep_nns, 'y', label='Deep Neural Network')\n",
    "plt.plot(sequence_lengths, window_rnns, 'g', label='Recurrent Neural Network')\n",
    "plt.ylabel('Mean Squared Error')\n",
    "plt.xlabel('Number of measurements per training sample')\n",
    "plt.title('Effect of window size on MSE for regression models where A = B')\n",
    "plt.legend()\n",
    "plt.savefig('len_sequence_v_MSE_A=B')"
   ]
  },
  {
   "cell_type": "code",
   "execution_count": null,
   "metadata": {
    "collapsed": false
   },
   "outputs": [],
   "source": [
    "#Analysis of Regression when A \\neq B\n",
    "# Using just Ax_{t-1} as a predictor 0.163159100363\n",
    "# Using just 0 as a predictor: 0.168873889664\n",
    "sequence_lengths = [1,5,9,13,17]\n",
    "trees = [0.172481252728,  0.165948494495, 0.166031396918, 0.16612096304, 0.166453330425]\n",
    "nns = [0.162772912922,0.163784221657, 0.164316503743, 0.164711745367, 0.165270914672]\n",
    "deep_nns = [0.162570283671,0.162980507276, 0.163516877129, 0.163565435967, 0.163733663807]\n",
    "window_rnns = [0.162826821642, .16191162646, 0.161616112766, 0.161263587408, 0.161016470274]\n",
    "\n",
    "fig = plt.figure()\n",
    "plt.plot(sequence_lengths, trees, 'r', label='Random Forest')\n",
    "plt.plot(sequence_lengths, nns, 'b', label='Neural Network')\n",
    "plt.plot(sequence_lengths, deep_nns, 'y', label='Deep Neural Network')\n",
    "plt.plot(sequence_lengths, window_rnns, 'g', label='Recurrent Neural Network')\n",
    "plt.ylabel('Mean Squared Error')\n",
    "plt.xlabel('Number of measurements per training sample')\n",
    "plt.title('Effect of window size on MSE for regression models')\n",
    "plt.legend()\n",
    "plt.savefig('len_sequence_v_MSE')"
   ]
  },
  {
   "cell_type": "code",
   "execution_count": null,
   "metadata": {
    "collapsed": false
   },
   "outputs": [],
   "source": [
    "#Given a model that uses the flattened window, this will print its mean squared error and plot it's results versus reality\n",
    "def analyze(model, X_test, y_test, rnn=False):\n",
    "    plt.clf()\n",
    "    results = model.predict(X_test)\n",
    "    manual = np.zeros(y_test.shape)\n",
    "    if not rnn:\n",
    "        for i in range(manual.shape[0]):\n",
    "            manual[i,:] = A.dot(X_test[i,-d:])\n",
    "    else:\n",
    "        for i in range(manual.shape[0]):\n",
    "            manual[i,:] = A.dot(X_test[i,-1,:])\n",
    "    p_num=1\n",
    "    preds = results[p_num*T:(p_num+1)*T,:]\n",
    "    reals = y_test[p_num*T:(p_num+1)*T,:]\n",
    "    #manuals = manual[int(manual.shape[0]*.5):(int(manual.shape[0]*.5) + 10), :]\n",
    "    \n",
    "    plt.plot(preds, color='red')\n",
    "    plt.plot(reals, color='blue')\n",
    "    plt.ylabel('Measurements')\n",
    "    plt.xlabel('Time')\n",
    "    \n",
    "    #plt.title('Regression with Random Forest')\n",
    "    #plt.savefig('tree_regression_projection_a_eq_b')\n",
    "    \n",
    "    #plt.title('Regression with Neural Network')\n",
    "    #plt.savefig('nn_regression_projection_a_eq_b')\n",
    "    \n",
    "    #plt.title('Regression with Deep Neural Network')\n",
    "    #plt.savefig('deep_nn_regression_projection_a_eq_b')\n",
    "    \n",
    "    plt.title('Regression with Recurrent Neural Network')\n",
    "    plt.savefig('window_rnn_regression_projection_a_eq_b')\n",
    "    \n",
    "    #plt.plot(manuals, color='yellow')\n",
    "    \n",
    "    all_z = np.zeros(y_test.shape)\n",
    "    \n",
    "    print(\"all_zero error: \" + str(mean_absolute_error(y_test, all_z)))\n",
    "    print(\"smart_predictor error: \" + str(mean_absolute_error(y_test, manual)))\n",
    "    print(\"Actual Error: \" + str(mean_absolute_error(y_test, results)))"
   ]
  },
  {
   "cell_type": "code",
   "execution_count": null,
   "metadata": {
    "collapsed": false,
    "scrolled": false
   },
   "outputs": [],
   "source": [
    "#(X_train, y_train, X_test, y_test) = all_data[1]\n",
    "#analyze(all_models[1]['tree'], X_test, y_test)\n",
    "\n",
    "#(X_train, y_train, X_test, y_test) = all_data[0]\n",
    "#analyze(all_models[0]['nn'], X_test, y_test)\n",
    "#analyze(all_models[0]['deep_nn'], X_test, y_test)\n",
    "\n",
    "#(X_train, y_train, X_test, y_test) = rnn_data[4]\n",
    "#analyze(all_models[4]['window_rnn'], X_test, y_test, rnn=True)\n"
   ]
  },
  {
   "cell_type": "code",
   "execution_count": 88,
   "metadata": {
    "collapsed": false
   },
   "outputs": [],
   "source": [
    "pylab.rcParams['figure.figsize'] = (17, 14)"
   ]
  },
  {
   "cell_type": "code",
   "execution_count": 15,
   "metadata": {
    "collapsed": false
   },
   "outputs": [],
   "source": [
    "def prepare_baseline(crazy, crazy_y):\n",
    "    #Reshape data and flatten for baseline models\n",
    "    rolled_x = crazy[:,:,:,:]\n",
    "    rolled_y = crazy_y[:,:,:]\n",
    "\n",
    "    print (rolled_x.shape)\n",
    "    print (rolled_y.shape)\n",
    "\n",
    "    unrolled_x = np.zeros((crazy.shape[0]*crazy.shape[1], crazy.shape[2] * crazy.shape[3]))\n",
    "    unrolled_y = np.zeros((crazy.shape[0] * crazy.shape[1], crazy.shape[3]))\n",
    "\n",
    "    for i in range(crazy.shape[1]): #patients\n",
    "        for j in range(crazy.shape[0]): #time steps\n",
    "            unrolled_y[i * crazy.shape[0] + j] = rolled_y[j,i,:]            \n",
    "            for l in range(crazy.shape[2]):#len_sequence\n",
    "                for k in range(crazy.shape[3]): #dimensionality\n",
    "                    unrolled_x[i * crazy.shape[0] + j][l*crazy.shape[3] + k] = rolled_x[j,i,l,k]\n",
    "\n",
    "    print (unrolled_x.shape)\n",
    "    print (unrolled_y.shape)\n",
    "    transition_point = int(unrolled_x.shape[0] * .8)\n",
    "    \n",
    "    X_train = np.array(unrolled_x[:transition_point,:])\n",
    "    y_train = np.array(unrolled_y[:transition_point])\n",
    "    X_test = np.array(unrolled_x[transition_point:,:])\n",
    "    y_test = np.array(unrolled_y[transition_point:])\n",
    "\n",
    "    print (X_train.shape)\n",
    "    print (y_train.shape)\n",
    "    print (X_test.shape)\n",
    "    print (y_test.shape)\n",
    "    \n",
    "    return (X_train, y_train, X_test, y_test)"
   ]
  },
  {
   "cell_type": "code",
   "execution_count": 16,
   "metadata": {
    "collapsed": false
   },
   "outputs": [],
   "source": [
    "def prepare_classification_baseline(crazy, crazy_flags):\n",
    "    #Reshape data and flatten for baseline models\n",
    "    rolled_x = crazy[:,:,:,:]\n",
    "    rolled_y = crazy_flags[:,:]\n",
    "\n",
    "    print (rolled_x.shape)\n",
    "    print (rolled_y.shape)\n",
    "    unrolled_x = np.zeros((crazy.shape[0]*crazy.shape[1], crazy.shape[2] * crazy.shape[3]))\n",
    "    unrolled_y = np.zeros((crazy.shape[0] * crazy.shape[1]))\n",
    "\n",
    "    for i in range(crazy.shape[1]): #patients\n",
    "        for j in range(crazy.shape[0]): #time steps\n",
    "            unrolled_y[i * crazy.shape[0] + j] = rolled_y[j,i]\n",
    "            for l in range(crazy.shape[2]):#len_sequence\n",
    "                for k in range(crazy.shape[3]): #dimensionality\n",
    "                    unrolled_x[i * crazy.shape[0] + j][l*crazy.shape[3] + k] = rolled_x[j,i,l,k]\n",
    "\n",
    "    print (unrolled_x.shape)\n",
    "    print (unrolled_y.shape)\n",
    "    transition_point = int(unrolled_x.shape[0] * .8)\n",
    "    \n",
    "    X_train = np.array(unrolled_x[:transition_point,:])\n",
    "    y_train = np.array(unrolled_y[:transition_point])\n",
    "    X_test = np.array(unrolled_x[transition_point:,:])\n",
    "    y_test = np.array(unrolled_y[transition_point:])\n",
    "    \n",
    "    print (X_train.shape)\n",
    "    print (y_train.shape)\n",
    "    print (X_test.shape)\n",
    "    print (y_test.shape)\n",
    "    \n",
    "    return (X_train, y_train, X_test, y_test)"
   ]
  },
  {
   "cell_type": "code",
   "execution_count": 83,
   "metadata": {
    "collapsed": true
   },
   "outputs": [],
   "source": [
    "#Given a model that uses the flattened window for classification,this will print its confusion matrix and plot it's results versus reality\n",
    "def analyze_classification(model, X_test, y_test, rnn=False, start = 0):\n",
    "    if rnn:\n",
    "        results = model.predict(X_test)[:,0]\n",
    "        results = np.where(results>.5, 1, 0)\n",
    "    else:\n",
    "        results = model.predict(X_test)\n",
    "    #only plotting the first T because otherwise you can't see anything\n",
    "    blah = T - len_sequence\n",
    "    preds = results[blah * start:blah * (start + 1)]\n",
    "    reals = y_test[blah * start:blah * (start + 1)]\n",
    "    plt.plot(preds, color='red')\n",
    "    plt.plot(reals, color='blue')\n",
    "    confused = confusion_matrix(y_test, results)\n",
    "    print(confused)\n",
    "    correct = confused[0][0] + confused[1][1]\n",
    "    wrong = confused[0][1] + confused[1][0]\n",
    "    perc = (1.0 * correct)/(correct + wrong)\n",
    "    print(perc)\n",
    "    plt.savefig('tree_classification' + str(start))\n",
    "    plt.clf()\n",
    "    #Compare to all zeros\n",
    "    \"\"\"\n",
    "    print(\"Try all zeros\")\n",
    "    zeros = np.zeros(5600)\n",
    "    print(confusion_matrix(y_test, zeros))\n",
    "    \"\"\""
   ]
  },
  {
   "cell_type": "code",
   "execution_count": 84,
   "metadata": {
    "collapsed": false
   },
   "outputs": [
    {
     "name": "stderr",
     "output_type": "stream",
     "text": [
      "[Parallel(n_jobs=1)]: Done   1 out of   1 | elapsed:    0.0s remaining:    0.0s\n",
      "[Parallel(n_jobs=1)]: Done  40 out of  40 | elapsed:    0.1s finished\n",
      "[Parallel(n_jobs=1)]: Done   1 out of   1 | elapsed:    0.0s remaining:    0.0s\n",
      "[Parallel(n_jobs=1)]: Done  40 out of  40 | elapsed:    0.1s finished\n"
     ]
    },
    {
     "name": "stdout",
     "output_type": "stream",
     "text": [
      "[[4839   20]\n",
      " [1318  143]]\n",
      "0.788291139241\n",
      "[[4839   20]\n",
      " [1318  143]]"
     ]
    },
    {
     "name": "stderr",
     "output_type": "stream",
     "text": [
      "[Parallel(n_jobs=1)]: Done   1 out of   1 | elapsed:    0.0s remaining:    0.0s\n",
      "[Parallel(n_jobs=1)]: Done  40 out of  40 | elapsed:    0.1s finished\n"
     ]
    },
    {
     "name": "stdout",
     "output_type": "stream",
     "text": [
      "\n",
      "0.788291139241\n",
      "[[4839   20]\n",
      " [1318  143]]"
     ]
    },
    {
     "name": "stderr",
     "output_type": "stream",
     "text": [
      "[Parallel(n_jobs=1)]: Done   1 out of   1 | elapsed:    0.0s remaining:    0.0s\n",
      "[Parallel(n_jobs=1)]: Done  40 out of  40 | elapsed:    0.1s finished\n"
     ]
    },
    {
     "name": "stdout",
     "output_type": "stream",
     "text": [
      "\n",
      "0.788291139241\n",
      "[[4839   20]\n",
      " [1318  143]]"
     ]
    },
    {
     "name": "stderr",
     "output_type": "stream",
     "text": [
      "[Parallel(n_jobs=1)]: Done   1 out of   1 | elapsed:    0.0s remaining:    0.0s\n",
      "[Parallel(n_jobs=1)]: Done  40 out of  40 | elapsed:    0.1s finished\n"
     ]
    },
    {
     "name": "stdout",
     "output_type": "stream",
     "text": [
      "\n",
      "0.788291139241\n",
      "[[4839   20]\n",
      " [1318  143]]"
     ]
    },
    {
     "name": "stderr",
     "output_type": "stream",
     "text": [
      "[Parallel(n_jobs=1)]: Done   1 out of   1 | elapsed:    0.0s remaining:    0.0s\n",
      "[Parallel(n_jobs=1)]: Done  40 out of  40 | elapsed:    0.1s finished\n"
     ]
    },
    {
     "name": "stdout",
     "output_type": "stream",
     "text": [
      "\n",
      "0.788291139241\n",
      "[[4839   20]\n",
      " [1318  143]]"
     ]
    },
    {
     "name": "stderr",
     "output_type": "stream",
     "text": [
      "[Parallel(n_jobs=1)]: Done   1 out of   1 | elapsed:    0.0s remaining:    0.0s\n",
      "[Parallel(n_jobs=1)]: Done  40 out of  40 | elapsed:    0.1s finished\n"
     ]
    },
    {
     "name": "stdout",
     "output_type": "stream",
     "text": [
      "\n",
      "0.788291139241\n",
      "[[4839   20]\n",
      " [1318  143]]"
     ]
    },
    {
     "name": "stderr",
     "output_type": "stream",
     "text": [
      "[Parallel(n_jobs=1)]: Done   1 out of   1 | elapsed:    0.0s remaining:    0.0s\n",
      "[Parallel(n_jobs=1)]: Done  40 out of  40 | elapsed:    0.1s finished\n"
     ]
    },
    {
     "name": "stdout",
     "output_type": "stream",
     "text": [
      "\n",
      "0.788291139241\n",
      "[[4839   20]\n",
      " [1318  143]]"
     ]
    },
    {
     "name": "stderr",
     "output_type": "stream",
     "text": [
      "[Parallel(n_jobs=1)]: Done   1 out of   1 | elapsed:    0.0s remaining:    0.0s\n",
      "[Parallel(n_jobs=1)]: Done  40 out of  40 | elapsed:    0.1s finished\n"
     ]
    },
    {
     "name": "stdout",
     "output_type": "stream",
     "text": [
      "\n",
      "0.788291139241\n",
      "[[4839   20]\n",
      " [1318  143]]"
     ]
    },
    {
     "name": "stderr",
     "output_type": "stream",
     "text": [
      "[Parallel(n_jobs=1)]: Done   1 out of   1 | elapsed:    0.0s remaining:    0.0s\n",
      "[Parallel(n_jobs=1)]: Done  40 out of  40 | elapsed:    0.1s finished\n"
     ]
    },
    {
     "name": "stdout",
     "output_type": "stream",
     "text": [
      "\n",
      "0.788291139241\n",
      "[[4839   20]\n",
      " [1318  143]]"
     ]
    },
    {
     "name": "stderr",
     "output_type": "stream",
     "text": [
      "[Parallel(n_jobs=1)]: Done   1 out of   1 | elapsed:    0.0s remaining:    0.0s\n",
      "[Parallel(n_jobs=1)]: Done  40 out of  40 | elapsed:    0.1s finished\n"
     ]
    },
    {
     "name": "stdout",
     "output_type": "stream",
     "text": [
      "\n",
      "0.788291139241\n",
      "[[4839   20]\n",
      " [1318  143]]"
     ]
    },
    {
     "name": "stderr",
     "output_type": "stream",
     "text": [
      "[Parallel(n_jobs=1)]: Done   1 out of   1 | elapsed:    0.0s remaining:    0.0s\n",
      "[Parallel(n_jobs=1)]: Done  40 out of  40 | elapsed:    0.1s finished\n"
     ]
    },
    {
     "name": "stdout",
     "output_type": "stream",
     "text": [
      "\n",
      "0.788291139241\n",
      "[[4839   20]\n",
      " [1318  143]]"
     ]
    },
    {
     "name": "stderr",
     "output_type": "stream",
     "text": [
      "[Parallel(n_jobs=1)]: Done   1 out of   1 | elapsed:    0.0s remaining:    0.0s\n",
      "[Parallel(n_jobs=1)]: Done  40 out of  40 | elapsed:    0.2s finished\n"
     ]
    },
    {
     "name": "stdout",
     "output_type": "stream",
     "text": [
      "\n",
      "0.788291139241\n",
      "[[4839   20]\n",
      " [1318  143]]"
     ]
    },
    {
     "name": "stderr",
     "output_type": "stream",
     "text": [
      "[Parallel(n_jobs=1)]: Done   1 out of   1 | elapsed:    0.0s remaining:    0.0s\n",
      "[Parallel(n_jobs=1)]: Done  40 out of  40 | elapsed:    0.1s finished\n"
     ]
    },
    {
     "name": "stdout",
     "output_type": "stream",
     "text": [
      "\n",
      "0.788291139241\n",
      "[[4839   20]\n",
      " [1318  143]]"
     ]
    },
    {
     "name": "stderr",
     "output_type": "stream",
     "text": [
      "[Parallel(n_jobs=1)]: Done   1 out of   1 | elapsed:    0.0s remaining:    0.0s\n",
      "[Parallel(n_jobs=1)]: Done  40 out of  40 | elapsed:    0.1s finished\n"
     ]
    },
    {
     "name": "stdout",
     "output_type": "stream",
     "text": [
      "\n",
      "0.788291139241\n",
      "[[4839   20]\n",
      " [1318  143]]"
     ]
    },
    {
     "name": "stderr",
     "output_type": "stream",
     "text": [
      "[Parallel(n_jobs=1)]: Done   1 out of   1 | elapsed:    0.0s remaining:    0.0s\n",
      "[Parallel(n_jobs=1)]: Done  40 out of  40 | elapsed:    0.1s finished\n"
     ]
    },
    {
     "name": "stdout",
     "output_type": "stream",
     "text": [
      "\n",
      "0.788291139241\n",
      "[[4839   20]\n",
      " [1318  143]]"
     ]
    },
    {
     "name": "stderr",
     "output_type": "stream",
     "text": [
      "[Parallel(n_jobs=1)]: Done   1 out of   1 | elapsed:    0.0s remaining:    0.0s\n",
      "[Parallel(n_jobs=1)]: Done  40 out of  40 | elapsed:    0.1s finished\n"
     ]
    },
    {
     "name": "stdout",
     "output_type": "stream",
     "text": [
      "\n",
      "0.788291139241\n",
      "[[4839   20]\n",
      " [1318  143]]"
     ]
    },
    {
     "name": "stderr",
     "output_type": "stream",
     "text": [
      "[Parallel(n_jobs=1)]: Done   1 out of   1 | elapsed:    0.0s remaining:    0.0s\n",
      "[Parallel(n_jobs=1)]: Done  40 out of  40 | elapsed:    0.1s finished\n"
     ]
    },
    {
     "name": "stdout",
     "output_type": "stream",
     "text": [
      "\n",
      "0.788291139241\n",
      "[[4839   20]\n",
      " [1318  143]]"
     ]
    },
    {
     "name": "stderr",
     "output_type": "stream",
     "text": [
      "[Parallel(n_jobs=1)]: Done   1 out of   1 | elapsed:    0.0s remaining:    0.0s\n",
      "[Parallel(n_jobs=1)]: Done  40 out of  40 | elapsed:    0.1s finished\n"
     ]
    },
    {
     "name": "stdout",
     "output_type": "stream",
     "text": [
      "\n",
      "0.788291139241\n",
      "[[4839   20]\n",
      " [1318  143]]"
     ]
    },
    {
     "name": "stderr",
     "output_type": "stream",
     "text": [
      "[Parallel(n_jobs=1)]: Done   1 out of   1 | elapsed:    0.0s remaining:    0.0s\n",
      "[Parallel(n_jobs=1)]: Done  40 out of  40 | elapsed:    0.1s finished\n"
     ]
    },
    {
     "name": "stdout",
     "output_type": "stream",
     "text": [
      "\n",
      "0.788291139241\n",
      "[[4839   20]\n",
      " [1318  143]]\n",
      "0.788291139241\n"
     ]
    },
    {
     "data": {
      "text/plain": [
       "<matplotlib.figure.Figure at 0x151c99a20>"
      ]
     },
     "metadata": {},
     "output_type": "display_data"
    }
   ],
   "source": [
    "(X_train, Y_train, X_test, y_test) = all_data[4]\n",
    "for i in range(20):\n",
    "    analyze_classification(all_models[4]['tree'], X_test, y_test, rnn=False, start = i)\n"
   ]
  },
  {
   "cell_type": "code",
   "execution_count": 18,
   "metadata": {
    "collapsed": false
   },
   "outputs": [],
   "source": [
    "def train_forest(X_train, y_train):\n",
    "    ne = [min(d * len_sequence, 40)]\n",
    "    nf = [min(d * len_sequence, 40)]\n",
    "    models = []\n",
    "    for e in ne:\n",
    "        for f in nf:   \n",
    "            model = RandomForestRegressor(n_estimators=e, max_features = f, verbose=2)\n",
    "            model.fit(X_train, y_train)\n",
    "            models.append(model)\n",
    "    return models"
   ]
  },
  {
   "cell_type": "code",
   "execution_count": 19,
   "metadata": {
    "collapsed": false
   },
   "outputs": [],
   "source": [
    "def train_baseline_nn(X_train, y_train, X_test, y_test):\n",
    "    #Baseline model in multiple dimensions: predicts the next measurement, all 10 dimensions\n",
    "    rms = RMSprop()\n",
    "    model = Sequential()\n",
    "    model.add(Dense(512, input_shape=(X_train.shape[1],)))\n",
    "    model.add(Activation('relu'))\n",
    "    model.add(Dropout(0.25))\n",
    "    model.add(Dense(y_train.shape[1]))\n",
    "    model.compile(loss='mean_squared_error', optimizer=rms)\n",
    "    model.fit(X_train, y_train, batch_size=32, nb_epoch=10, verbose=1,\n",
    "              validation_data=(X_test, y_test))\n",
    "    return model"
   ]
  },
  {
   "cell_type": "code",
   "execution_count": 20,
   "metadata": {
    "collapsed": false
   },
   "outputs": [],
   "source": [
    "def train_baseline_multi_deep(X_train, y_train, X_test, y_test):\n",
    "    #Baseline model in multiple dimensions: predicts the next measurement, all 10 dimensions\n",
    "    rms = RMSprop()\n",
    "    model = Sequential()\n",
    "    model.add(Dense(512, input_shape=(X_train.shape[1],)))\n",
    "    model.add(Activation('relu'))\n",
    "    model.add(Dropout(0.25))\n",
    "    model.add(Dense(512))\n",
    "    model.add(Activation('relu'))\n",
    "    model.add(Dropout(0.25))\n",
    "    model.add(Dense(y_train.shape[1]))\n",
    "    model.compile(loss='mean_squared_error', optimizer=rms)\n",
    "    model.fit(X_train, y_train, batch_size=32, nb_epoch=10, verbose=1,\n",
    "              validation_data=(X_test, y_test))\n",
    "    return model"
   ]
  },
  {
   "cell_type": "code",
   "execution_count": 21,
   "metadata": {
    "collapsed": false
   },
   "outputs": [],
   "source": [
    "def prepare_rnn(crazy, crazy_y):\n",
    "    #Reshape data and flatten for baseline models\n",
    "    rolled_x = crazy[:,:,:,:]\n",
    "    rolled_y = crazy_y[:,:,:]\n",
    "\n",
    "    print (rolled_x.shape)\n",
    "    print (rolled_y.shape)\n",
    "\n",
    "    unrolled_x = np.zeros((crazy.shape[0] * crazy.shape[1], crazy.shape[2], crazy.shape[3]))\n",
    "    unrolled_y = np.zeros((crazy.shape[0] * crazy.shape[1], crazy.shape[3]))\n",
    "\n",
    "    #maybe we should switch the order of these (but also maybe not it depends how batching works)\n",
    "    for i in range(crazy.shape[1]): #patients\n",
    "        for j in range(crazy.shape[0]): #time steps\n",
    "            unrolled_x[i * crazy.shape[0] + j] = rolled_x[j,i,:,:]\n",
    "            unrolled_y[i * crazy.shape[0] + j] = rolled_y[j,i,:]            \n",
    "\n",
    "    print (unrolled_x.shape)\n",
    "    print (unrolled_y.shape)\n",
    "\n",
    "    transition_point = int(unrolled_x.shape[0] * .8)\n",
    "    \n",
    "    X_train = np.array(unrolled_x[:transition_point,:])\n",
    "    y_train = np.array(unrolled_y[:transition_point])\n",
    "    X_test = np.array(unrolled_x[transition_point:,:])\n",
    "    y_test = np.array(unrolled_y[transition_point:])\n",
    "    \n",
    "    print (X_train.shape)\n",
    "    print (y_train.shape)\n",
    "    print (X_test.shape)\n",
    "    print (y_test.shape)\n",
    "    \n",
    "    return (X_train, y_train, X_test, y_test)\n",
    "    "
   ]
  },
  {
   "cell_type": "code",
   "execution_count": 22,
   "metadata": {
    "collapsed": true
   },
   "outputs": [],
   "source": [
    "#Predict the next measurement.  Trained using the window method.  A GRU + a Dense layer\n",
    "def train_window_regression_rnn(X_train, y_train, X_test, y_test):\n",
    "    model = Sequential()\n",
    "    model.add(GRU(16,activation='relu', input_dim = d))\n",
    "    model.add(Dense(128))\n",
    "    model.add(Dropout(0.5))\n",
    "    model.add(Activation('relu'))\n",
    "    model.add(Dense(d))\n",
    "    model.compile(loss='mean_squared_error', optimizer='adam')\n",
    "    model.fit(X_train, y_train, batch_size=32, nb_epoch=10, verbose=1,\n",
    "              validation_data=(X_test, y_test))\n",
    "    return model"
   ]
  },
  {
   "cell_type": "code",
   "execution_count": 23,
   "metadata": {
    "collapsed": true
   },
   "outputs": [],
   "source": [
    "def prepare_classification_rnn(crazy, crazy_flags):\n",
    "    #Reshape data and flatten for baseline models\n",
    "    rolled_x = crazy[:,:,:,:]\n",
    "    rolled_y = crazy_flags[:,:]\n",
    "\n",
    "    print (rolled_x.shape)\n",
    "    print (rolled_y.shape)\n",
    "\n",
    "    unrolled_x = np.zeros((crazy.shape[0] * crazy.shape[1], crazy.shape[2], crazy.shape[3]))\n",
    "    unrolled_y = np.zeros((crazy.shape[0] * crazy.shape[1]))\n",
    "\n",
    "    #maybe we should switch the order of these (but also maybe not it depends how batching works)\n",
    "    for i in range(crazy.shape[1]): #time steps\n",
    "        for j in range(crazy.shape[0]): #patients\n",
    "            unrolled_x[i * crazy.shape[0] + j] = rolled_x[j,i,:,:]\n",
    "            unrolled_y[i * crazy.shape[0] + j] = rolled_y[j,i]            \n",
    "\n",
    "    print (unrolled_x.shape)\n",
    "    print (unrolled_y.shape)\n",
    "    transition_point = int(unrolled_x.shape[0] * .8)\n",
    "    \n",
    "    X_train = np.array(unrolled_x[:transition_point,:])\n",
    "    y_train = np.array(unrolled_y[:transition_point])\n",
    "    X_test = np.array(unrolled_x[transition_point:,:])\n",
    "    y_test = np.array(unrolled_y[transition_point:])\n",
    "\n",
    "    print (X_train.shape)\n",
    "    print (y_train.shape)\n",
    "    print (X_test.shape)\n",
    "    print (y_test.shape)\n",
    "    \n",
    "    return (X_train, y_train, X_test, y_test)\n"
   ]
  },
  {
   "cell_type": "code",
   "execution_count": 31,
   "metadata": {
    "collapsed": true
   },
   "outputs": [],
   "source": [
    "def train_classification_forest(X_train, y_train):\n",
    "    ne = [min(d * len_sequence, 40)]\n",
    "    nf = [min(d * len_sequence, 40)]\n",
    "    models = []\n",
    "    for e in ne:\n",
    "        for f in nf:   \n",
    "            model = RandomForestClassifier(n_estimators=e, max_features = f, verbose=2)\n",
    "            model.fit(X_train, y_train)\n",
    "            models.append(model)\n",
    "    return models"
   ]
  },
  {
   "cell_type": "code",
   "execution_count": null,
   "metadata": {
    "collapsed": false
   },
   "outputs": [],
   "source": [
    "(X_train, y_train, X_test, y_test) = prepare_classification_baseline()"
   ]
  },
  {
   "cell_type": "code",
   "execution_count": null,
   "metadata": {
    "collapsed": false
   },
   "outputs": [],
   "source": [
    "models = train_classification_forest(X_train, y_train)"
   ]
  },
  {
   "cell_type": "code",
   "execution_count": null,
   "metadata": {
    "collapsed": false
   },
   "outputs": [],
   "source": [
    "for m in models: \n",
    "    print (\"num_estimators: \" + str(m.n_estimators))\n",
    "    print (\"Max Features: \" + str(m.max_features))\n",
    "    analyze_classification(m, X_test, y_test)"
   ]
  },
  {
   "cell_type": "code",
   "execution_count": 25,
   "metadata": {
    "collapsed": true
   },
   "outputs": [],
   "source": [
    "def train_window_classification_nn(X_train, y_train, X_test, y_test):\n",
    "    #Baseline model in multiple dimensions: predicts the next measurement, all 10 dimensions\n",
    "    rms = RMSprop()\n",
    "    model = Sequential()\n",
    "    model.add(Dense(512, input_shape=(X_train.shape[1],)))\n",
    "    model.add(Activation('relu'))\n",
    "    model.add(Dropout(0.25))\n",
    "    model.add(Dense(1))\n",
    "    model.add(Activation('sigmoid'))\n",
    "    model.compile(loss='binary_crossentropy', optimizer='rmsprop', metrics=['accuracy'])\n",
    "    model.fit(X_train, y_train, batch_size=32, nb_epoch=10, verbose=1,\n",
    "              validation_data=(X_test, y_test))    \n",
    "    return model"
   ]
  },
  {
   "cell_type": "code",
   "execution_count": null,
   "metadata": {
    "collapsed": false
   },
   "outputs": [],
   "source": [
    "model = train_window_classification_nn(X_train, y_train, X_test, y_test)"
   ]
  },
  {
   "cell_type": "code",
   "execution_count": null,
   "metadata": {
    "collapsed": false
   },
   "outputs": [],
   "source": [
    "results = model.predict(X_test)[:,0]\n",
    "results = np.where(results>.5, 1, 0)\n",
    "print (results)\n",
    "#only plotting the first 400 because otherwise you can't see anything\n",
    "preds = results[:400]\n",
    "reals = y_test[:400]\n",
    "\n",
    "plt.plot(preds, color='red')\n",
    "plt.plot(reals, color='blue')\n",
    "print(confusion_matrix(y_test, results))\n",
    "#Compare to all zeros"
   ]
  },
  {
   "cell_type": "code",
   "execution_count": 33,
   "metadata": {
    "collapsed": true
   },
   "outputs": [],
   "source": [
    "def train_window_classification_deep_nn(X_train, y_train, X_test, y_test):\n",
    "    #Baseline model in multiple dimensions: predicts the next measurement, all 10 dimensions\n",
    "    rms = RMSprop()\n",
    "    model = Sequential()\n",
    "    model.add(Dense(512, input_shape=(X_train.shape[1],)))\n",
    "    model.add(Activation('relu'))\n",
    "    model.add(Dropout(0.25))\n",
    "    model.add(Dense(512))\n",
    "    model.add(Activation('relu'))\n",
    "    model.add(Dropout(0.25))\n",
    "    model.add(Dense(1))\n",
    "    model.add(Activation('sigmoid'))\n",
    "    model.compile(loss='binary_crossentropy', optimizer='rmsprop', metrics=['accuracy'])\n",
    "    model.fit(X_train, y_train, batch_size=32, nb_epoch=10, verbose=1,\n",
    "              validation_data=(X_test, y_test))    \n",
    "    return model"
   ]
  },
  {
   "cell_type": "code",
   "execution_count": null,
   "metadata": {
    "collapsed": false
   },
   "outputs": [],
   "source": [
    "model2 = train_window_classification_deep_nn(X_train, y_train, X_test, y_test)"
   ]
  },
  {
   "cell_type": "code",
   "execution_count": null,
   "metadata": {
    "collapsed": false
   },
   "outputs": [],
   "source": [
    "results = model2.predict(X_test)[:,0]\n",
    "results = np.where(results>.5, 1, 0)\n",
    "print (results)\n",
    "#only plotting the first 400 because otherwise you can't see anything\n",
    "preds = results[:400]\n",
    "reals = y_test[:400]\n",
    "\n",
    "plt.plot(preds, color='red')\n",
    "plt.plot(reals, color='blue')\n",
    "print(confusion_matrix(y_test, results))\n",
    "#Compare to all zeros"
   ]
  },
  {
   "cell_type": "code",
   "execution_count": 34,
   "metadata": {
    "collapsed": false
   },
   "outputs": [],
   "source": [
    "#Predict the next measurement.  Trained using the window method.  A GRU + a Dense layer\n",
    "def train_window_classification_rnn(X_train, y_train, X_test, y_test):\n",
    "    model = Sequential()\n",
    "    model.add(GRU(16,activation='relu', input_dim = d))\n",
    "    model.add(Dense(128))\n",
    "    model.add(Dropout(0.5))\n",
    "    model.add(Activation('relu'))\n",
    "    model.add(Dense(1))\n",
    "    model.add(Activation('sigmoid'))\n",
    "    model.compile(loss='binary_crossentropy', optimizer='rmsprop', metrics=['accuracy'])\n",
    "    model.fit(X_train, y_train, batch_size=32, nb_epoch=10, verbose=1,\n",
    "              validation_data=(X_test, y_test))\n",
    "    return model"
   ]
  },
  {
   "cell_type": "code",
   "execution_count": null,
   "metadata": {
    "collapsed": false
   },
   "outputs": [],
   "source": [
    "(X_train, y_train, X_test, y_test) = prepare_classification_rnn()"
   ]
  },
  {
   "cell_type": "code",
   "execution_count": null,
   "metadata": {
    "collapsed": false
   },
   "outputs": [],
   "source": [
    "model = train_window_classification_rnn(X_train, y_train, X_test, y_test)"
   ]
  },
  {
   "cell_type": "code",
   "execution_count": null,
   "metadata": {
    "collapsed": false
   },
   "outputs": [],
   "source": [
    "results = model.predict(X_test)[:,0]\n",
    "results = np.where(results>.5, 1, 0)\n",
    "print (results)\n",
    "#only plotting the first 400 because otherwise you can't see anything\n",
    "preds = results[:400]\n",
    "reals = y_test[:400]\n",
    "\n",
    "plt.plot(preds, color='red')\n",
    "plt.plot(reals, color='blue')\n",
    "print(confusion_matrix(y_test, results))\n",
    "#Compare to all zeros"
   ]
  },
  {
   "cell_type": "code",
   "execution_count": null,
   "metadata": {
    "collapsed": false
   },
   "outputs": [],
   "source": [
    "print(X.shape)\n",
    "updated_flags = flags[:,:,0]\n",
    "print (updated_flags.shape)\n",
    "new_x = np.zeros((X.shape[0] * X.shape[1], X.shape[2],1))\n",
    "for i in range(X.shape[0]):\n",
    "    for ii in range(X.shape[1]):\n",
    "        for iii in range(X.shape[2]):\n",
    "            new_x[i * X.shape[1] + ii][iii][0] = X[i][ii][iii]\n",
    "new_flags = np.zeros((X.shape[0] * X.shape[1], 1))\n",
    "for i in range(updated_flags.shape[0]):\n",
    "    for ii in range(updated_flags.shape[1]):\n",
    "        new_flags[i * new_flags.shape[1] + ii][0] = updated_flags[i][ii]\n",
    "\n",
    "transition = 50\n",
    "X_train = new_x[0: transition * X.shape[1]]\n",
    "X_test = new_x[transition * X.shape[1]:2*transition*X.shape[1]]\n",
    "y_train = new_flags[0:transition*X.shape[1]]\n",
    "y_test = new_flags[transition*X.shape[1]:2*transition*X.shape[1]]"
   ]
  },
  {
   "cell_type": "code",
   "execution_count": null,
   "metadata": {
    "collapsed": false
   },
   "outputs": [],
   "source": [
    "updated_flags[2,:]"
   ]
  },
  {
   "cell_type": "code",
   "execution_count": null,
   "metadata": {
    "collapsed": false
   },
   "outputs": [],
   "source": [
    "print(X_train.shape)\n",
    "print(y_train.shape)\n",
    "print(X_test.shape)\n",
    "print(y_test.shape)"
   ]
  },
  {
   "cell_type": "code",
   "execution_count": null,
   "metadata": {
    "collapsed": false
   },
   "outputs": [],
   "source": [
    "class ResetStatesCallback(Callback):\n",
    "    def __init__(self):\n",
    "        self.counter = 0\n",
    "\n",
    "    def on_batch_begin(self, batch, logs={}):\n",
    "        if self.counter % T == 0:\n",
    "            self.model.reset_states()\n",
    "        self.counter += 1"
   ]
  },
  {
   "cell_type": "code",
   "execution_count": null,
   "metadata": {
    "collapsed": false
   },
   "outputs": [],
   "source": [
    "# STATEFUL MODEL\n",
    "print('Build STATEFUL model...')\n",
    "model = Sequential()\n",
    "model.add(LSTM(512,\n",
    "               batch_input_shape=(1, d, 1), return_sequences=False,\n",
    "               stateful=True))\n",
    "model.add(Dense(1, activation='sigmoid'))\n",
    "\n",
    "model.compile(loss='binary_crossentropy', optimizer='adam', metrics=['accuracy'])"
   ]
  },
  {
   "cell_type": "code",
   "execution_count": null,
   "metadata": {
    "collapsed": false
   },
   "outputs": [],
   "source": [
    "model.fit(X_train, y_train,\n",
    "          callbacks=[ResetStatesCallback()],\n",
    "      batch_size=1, nb_epoch=1,\n",
    "          shuffle=False, validation_data=(X_test, y_test))\n"
   ]
  },
  {
   "cell_type": "code",
   "execution_count": null,
   "metadata": {
    "collapsed": false
   },
   "outputs": [],
   "source": [
    "results = model.predict(X_test, batch_size=1, verbose=1)"
   ]
  },
  {
   "cell_type": "code",
   "execution_count": null,
   "metadata": {
    "collapsed": false
   },
   "outputs": [],
   "source": [
    "probs = results"
   ]
  },
  {
   "cell_type": "code",
   "execution_count": null,
   "metadata": {
    "collapsed": false
   },
   "outputs": [],
   "source": [
    "plt.plot(y_train, color='red')"
   ]
  },
  {
   "cell_type": "code",
   "execution_count": null,
   "metadata": {
    "collapsed": true
   },
   "outputs": [],
   "source": [
    "results = probs[:,0]\n",
    "results = np.where(results>.5, 1, 0)"
   ]
  },
  {
   "cell_type": "code",
   "execution_count": null,
   "metadata": {
    "collapsed": false
   },
   "outputs": [],
   "source": [
    "rando_sum = 0\n",
    "for i in range(8750):\n",
    "    rando_sum += results[i]\n",
    "print(rando_sum)"
   ]
  },
  {
   "cell_type": "code",
   "execution_count": null,
   "metadata": {
    "collapsed": true
   },
   "outputs": [],
   "source": [
    "results = model.predict(X_test)[:,0]\n",
    "results = np.where(results>.5, 1, 0)\n",
    "print (results)\n",
    "#only plotting the first 400 because otherwise you can't see anything\n",
    "preds = results[:400]\n",
    "reals = y_test[:400]\n",
    "\n",
    "plt.plot(preds, color='red')\n",
    "plt.plot(reals, color='blue')\n",
    "print(confusion_matrix(y_test, results))\n",
    "#Compare to all zeros"
   ]
  },
  {
   "cell_type": "code",
   "execution_count": null,
   "metadata": {
    "collapsed": true
   },
   "outputs": [],
   "source": [
    "#EVERYTHING BELOW HERE IS NOT WORKING / OLD CODE"
   ]
  },
  {
   "cell_type": "code",
   "execution_count": null,
   "metadata": {
    "collapsed": false
   },
   "outputs": [],
   "source": [
    "#given train_split, train the model using the first train_split examples\n",
    "#which = 0 for the normal prediction\n",
    "#which = 1 for crazy_flags\n",
    "#which = 2 for oned_flags\n",
    "def train_stage1(train_split, which):\n",
    "    #First model: Using the sliding window\n",
    "    hists = []\n",
    "    model = Sequential()\n",
    "    model.add(GRU(128,activation='relu', input_shape=(crazy.shape[2:])))\n",
    "    if which == 2:\n",
    "        model.add(Dense(1))\n",
    "    else:\n",
    "        model.add(Dense(d))\n",
    "    model.compile(loss='mean_squared_error', optimizer='adam')\n",
    "    for i in range(train_split): # for each patient\n",
    "        this_patient_x = crazy[:,i,:,:]\n",
    "        if which == 0:\n",
    "            this_patient_y = crazy_y[:,i,:]\n",
    "        elif which == 1:\n",
    "            this_patient_y = crazy_flags[:,i,:]\n",
    "        else:\n",
    "            this_patient_y = oned_flags[:,i,0:1]\n",
    "        for ii in range(crazy.shape[0]): #for each window of time sequence\n",
    "            this_patient_x_i = np.array([this_patient_x[ii,:,:]])\n",
    "            if which == 2:\n",
    "                this_patient_y_i = np.array([this_patient_y[ii,0:1]])\n",
    "            else:\n",
    "                this_patient_y_i = np.array([this_patient_y[ii,:]])\n",
    "            hists.append(model.train_on_batch(this_patient_x_i, this_patient_y_i))\n",
    "        model.reset_states()\n",
    "    return hists, model"
   ]
  },
  {
   "cell_type": "code",
   "execution_count": null,
   "metadata": {
    "collapsed": true
   },
   "outputs": [],
   "source": [
    "def train_stage2(train_split):\n",
    "    #second model: trading a stateful rnn using this batch thing\n",
    "    hists = []\n",
    "    model = Sequential()\n",
    "    \n",
    "    X  # this is our input data, of shape (32, 21, 16)\n",
    "    # we will feed it to our model in sequences of length 10\n",
    "\n",
    "    model = Sequential()\n",
    "    model.add(LSTM(32, batch_input_shape=(32, 10, 16), stateful=True))\n",
    "    model.add(Dense(16, activation='softmax'))\n",
    "\n",
    "    model.compile(optimizer='rmsprop', loss='categorical_crossentropy')\n",
    "\n",
    "    # we train the network to predict the 11th timestep given the first 10:\n",
    "    model.train_on_batch(X[:, :10, :], np.reshape(X[:, 10, :], (32, 16)))\n",
    "\n",
    "    # the state of the network has changed. We can feed the follow-up sequences:\n",
    "    model.train_on_batch(X[:, 10:20, :], np.reshape(X[:, 20, :], (32, 16)))\n",
    "\n",
    "    # let's reset the states of the LSTM layer:\n",
    "    model.reset_states()\n",
    "\n",
    "    # another way to do it in this case:\n",
    "    model.layers[0].reset_states()\n",
    "    \n",
    "    model.add(GRU(128,activation='relu', input_shape=(crazy.shape[2:])))\n",
    "    model.compile(loss='mean_squared_error', optimizer='adam')\n",
    "    for i in range(train_split): # for each patient\n",
    "        this_patient_x = crazy[:,i,:,:]\n",
    "        if which == 0:\n",
    "            this_patient_y = crazy_y[:,i,:]\n",
    "        elif which == 1:\n",
    "            this_patient_y = crazy_flags[:,i,:]\n",
    "        else:\n",
    "            this_patient_y = oned_flags[:,i,0:1]\n",
    "        for ii in range(crazy.shape[0]): #for each window of time sequence\n",
    "            this_patient_x_i = np.array([this_patient_x[ii,:,:]])\n",
    "            if which == 2:\n",
    "                this_patient_y_i = np.array([this_patient_y[ii,0:1]])\n",
    "            else:\n",
    "                this_patient_y_i = np.array([this_patient_y[ii,:]])\n",
    "            hists.append(model.train_on_batch(this_patient_x_i, this_patient_y_i))\n",
    "        model.reset_states()\n",
    "    return hists, model"
   ]
  },
  {
   "cell_type": "code",
   "execution_count": null,
   "metadata": {
    "collapsed": false
   },
   "outputs": [],
   "source": [
    "oned_flags.shape\n",
    "(hists, model) = train_stage1(10, 2)"
   ]
  },
  {
   "cell_type": "code",
   "execution_count": null,
   "metadata": {
    "collapsed": false
   },
   "outputs": [],
   "source": [
    "#compare the y between them\n",
    "print(oned_flags[:, 0, 0:1].shape)\n",
    "#this is y for normal stuff\n",
    "print(crazy_y[:,i,:][0,:].shape)\n",
    "#this is y for the newest one\n",
    "print((oned_flags[:,0,0:1][0,0:1]).shape)\n",
    "#compare the x between them\n"
   ]
  },
  {
   "cell_type": "code",
   "execution_count": null,
   "metadata": {
    "collapsed": false
   },
   "outputs": [],
   "source": [
    "print(crazy[:, patient_num, :, :].shape)\n",
    "print((crazy[:,0,:,:][0,:,:]).shape)\n",
    "\n",
    "crazy[:,patient_num,:,:]"
   ]
  },
  {
   "cell_type": "code",
   "execution_count": null,
   "metadata": {
    "collapsed": false
   },
   "outputs": [],
   "source": [
    "#evaluate the model on the last 10 samples\n",
    "#which = 0 for the normal prediction\n",
    "#which = 1 for crazy_flags\n",
    "#which = 2 for oned_flags\n",
    "def evaluate(model, which):\n",
    "    evaluations = []\n",
    "    for i in range(n-10, n): # for each patient not in the training\n",
    "        this_patient_x = crazy[:,i,:,:]\n",
    "        if which == 0:\n",
    "            this_patient_y = crazy_y[:,i,:]\n",
    "        elif which == 1:\n",
    "            this_patient_y = crazy_flags[:,i,:]\n",
    "        else:\n",
    "            this_patient_y = oned_flags[:,i,:]\n",
    "        for ii in range(crazy.shape[0]): #for each window of time sequence\n",
    "            this_patient_x_i = np.array([this_patient_x[ii,:,:]])            \n",
    "            this_patient_y_i = np.array([this_patient_y[ii,:]])\n",
    "            evaluations.append(model.evaluate(this_patient_x_i, this_patient_y_i, verbose=0))\n",
    "        model.reset_states()\n",
    "    return evaluations"
   ]
  },
  {
   "cell_type": "code",
   "execution_count": null,
   "metadata": {
    "collapsed": false,
    "scrolled": true
   },
   "outputs": [],
   "source": [
    "histories = {}\n",
    "all_evals = {}\n",
    "which = 2\n",
    "for training_amount in range(10, 100, 10):\n",
    "    #Train the model\n",
    "    (hists, model) = train_stage1(training_amount, which)\n",
    "\n",
    "    #Check training results of the data\n",
    "    hist_values = []\n",
    "    for hist in hists:\n",
    "        hist_values.append(hist.item())\n",
    "    #plt.plot(hist_values)\n",
    "    histories[training_amount] = (sum(hist_values)/float(len(hist_values)))\n",
    "\n",
    "    #Check evaluation of the model\n",
    "    evaluations = evaluate(model, which)\n",
    "    #plt.plot(evaluations)\n",
    "    all_evals[training_amount] = (sum(evaluations)/float(len(evaluations)))"
   ]
  },
  {
   "cell_type": "code",
   "execution_count": null,
   "metadata": {
    "collapsed": false,
    "scrolled": true
   },
   "outputs": [],
   "source": [
    "print(histories)\n",
    "for key in histories:\n",
    "    print (key)\n",
    "    print (histories[key] - all_evals[key])\n",
    "print(all_evals)"
   ]
  },
  {
   "cell_type": "code",
   "execution_count": null,
   "metadata": {
    "collapsed": false
   },
   "outputs": [],
   "source": [
    "#Visually check the prediction of the first reading versus what's actually happening\n",
    "#(178, 200, 20, 10)\n",
    "\n",
    "#choose a patient\n",
    "patient_num = randint(101,199)\n",
    "#choose a measuremen\n",
    "measurement = 0\n",
    "\n",
    "#Get what we are aiming for\n",
    "if which == 0:\n",
    "    reality = crazy_y[:, patient_num, measurement]\n",
    "elif which == 1:\n",
    "    reality = crazy_flags[:, patient_num, measurement]\n",
    "elif which == 2:\n",
    "    reality = oned_flags[:, patient_num, 0:1]\n",
    "#Get the predictions\n",
    "model.reset_states()\n",
    "predictions = model.predict(crazy[:,patient_num,:,:])\n",
    "\n",
    "#Plot prediction versus reality\n",
    "plt.plot(predictions[:,0], color='red')\n",
    "plt.plot(reality, color='blue')"
   ]
  },
  {
   "cell_type": "code",
   "execution_count": null,
   "metadata": {
    "collapsed": false
   },
   "outputs": [],
   "source": [
    "#Compute MSE\n",
    "dif = reality - predictions[:,0]\n",
    "dif = dif ** 2\n",
    "print (\"MSE:\")\n",
    "print (sum(dif)/178)\n",
    "\n",
    "#Plot the difference\n",
    "plt.plot(dif)"
   ]
  },
  {
   "cell_type": "markdown",
   "metadata": {
    "collapsed": true
   },
   "source": []
  }
 ],
 "metadata": {
  "kernelspec": {
   "display_name": "Python 3",
   "language": "python",
   "name": "python3"
  },
  "language_info": {
   "codemirror_mode": {
    "name": "ipython",
    "version": 3
   },
   "file_extension": ".py",
   "mimetype": "text/x-python",
   "name": "python",
   "nbconvert_exporter": "python",
   "pygments_lexer": "ipython3",
   "version": "3.5.1"
  }
 },
 "nbformat": 4,
 "nbformat_minor": 0
}
