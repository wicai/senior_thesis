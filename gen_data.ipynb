{
 "cells": [
  {
   "cell_type": "code",
   "execution_count": 608,
   "metadata": {
    "collapsed": false
   },
   "outputs": [],
   "source": [
    "%matplotlib inline\n",
    "from time import sleep\n",
    "import numpy as np \n",
    "import scipy\n",
    "import os\n",
    "import sys\n",
    "import matplotlib.pyplot as plt\n",
    "\n",
    "from sklearn.ensemble import RandomForestRegressor, RandomForestClassifier\n",
    "from sklearn.metrics import mean_absolute_error, confusion_matrix\n",
    "\n",
    "from random import randint\n",
    "from keras.models import Sequential\n",
    "from keras.layers import Dense\n",
    "from keras.layers import GRU\n",
    "from keras.optimizers import RMSprop\n",
    "\n",
    "from keras.layers.core import Dense, Dropout, Activation, Flatten\n",
    "\n",
    "\n",
    "#Questions:\n",
    "#question: Is there a better way to do the input than just flattening?\n",
    "\n",
    "\n",
    "#Completed tasks\n",
    "#Write a normal neural net to try to predict the next measurement with the window method in multiple dimensions (train_baseline_multi)\n",
    "#Write a deep neural net to try to predict the next measurement with the window method in multiple dimensions (train_baseline_multi)\n",
    "#Write a Random Forest Regressor to try to predict the next measurement with the window method in multiple dimensions (train_forest)\n",
    "#Consolidate the pipeline - shape data / create models / validate models \n",
    "#Sliding window with a RNN to predict the next value (train_window_regression_rnn)\n",
    "#Random Forest Classifier to classify FLAG at the next measurement(30 trees, 30 features)\n",
    "#Neural Network Classifier (1 layer, 512 nodes) \n",
    "#Deep Neural Network Classifier (2 layers, 512 nodes) \n",
    "#Recurrent Neural Network for classification using window\n",
    "#Complete all the quizzes and submit a request for MIMIC\n",
    "#Sanity check for A = B\n",
    "    #If it doesn't work, make sure the rolling/unrolling is correct\n",
    "    #Switch order of patient and timestep\n",
    "    #If it still doesn't work, try only feeding it one previous instead of 20 previous\n",
    "#--------------------------------------------------------------------------------------------------------------------------------------------\n",
    "#Completed today\n",
    "#Fix the regression\n",
    "    #Make it so that the matrix predictor gives 0 error\n",
    "    #Make the other regressors make sense\n",
    "\n",
    "#--------------------------------------------------------------------------------------------------------------------------------------------\n",
    "#TODO \n",
    "#Fix the flags crap\n",
    "#Investigate if any of our methods can actually predict in the time period where the flag is being flipped: e.g. the previous window has both 0 and 1\n",
    "#Sequence to sequence rnn regression\n",
    "#Sequence to sequence rnn classification\n",
    "#Write a normal neural net to take prediction from rnn and predict 1/0\n",
    "#Add a stateful try where the rnn is an autoencoder ( http://papers.nips.cc/paper/5346-sequence-to-sequence-learning-with-neural-networks.pdf) and then another LSTM"
   ]
  },
  {
   "cell_type": "code",
   "execution_count": 609,
   "metadata": {
    "collapsed": false
   },
   "outputs": [
    {
     "name": "stdout",
     "output_type": "stream",
     "text": [
      "8.33980975239 8.33980975239\n"
     ]
    }
   ],
   "source": [
    "# fix random seed for reproducibility\n",
    "np.random.seed(7)\n",
    "V=np.random.randn(10)\n",
    "print(V.dot(V), np.linalg.norm(V)**2)"
   ]
  },
  {
   "cell_type": "code",
   "execution_count": 610,
   "metadata": {
    "collapsed": false
   },
   "outputs": [],
   "source": [
    "#Setup for the generation of the data \n",
    "d=10 ##number of measurements per patient per time unit\n",
    "k=2 ##complexity of the time series\n",
    "n=200 ## number of patients\n",
    "\n",
    "len_sequence = 10\n",
    "epochs = 25\n",
    "\n",
    "T=175 ## amount of time measured for each patient (also batch size)\n",
    "sigmaw=0.2##randomness\n",
    "#d by d\n",
    "U=np.random.randn(d,k).dot(np.random.randn(k,d))\n",
    "betashift=np.random.randn(d)/np.sqrt(d)  ## used to check when we switch to the other time series\n",
    "#normalized U\n",
    "A=0.9*U/np.linalg.norm(U,ord=2)\n",
    "#V is also d by d\n",
    "V=np.random.randn(d,k).dot(np.random.randn(k,d))\n",
    "#normalized V\n",
    "B = .9*V/np.linalg.norm(V,ord=2)\n",
    "B = A #Set B = A for sanity checking\n",
    "X = np.zeros((n,T,d)) #this represents n patients, in d-dimensions, for T time-steps\n",
    "\n",
    "flags = np.zeros(X.shape)\n",
    "flag = 1"
   ]
  },
  {
   "cell_type": "code",
   "execution_count": 611,
   "metadata": {
    "collapsed": false
   },
   "outputs": [],
   "source": [
    "#Generate the data, fill in X, Y, flags\n",
    "flag_switches = []\n",
    "for j in range(n): #for each patient\n",
    "    X[j,0,:]=np.random.randn(d)/np.sqrt(d)\n",
    "    flag=1\n",
    "    flag_switch = -1\n",
    "    for i in range(1,T): #for each time      \n",
    "        if flag and ((X[j,i-1,:].dot(betashift))>.5): ##if flag was true and we go above a certain threshold, then set flag=0\n",
    "            flag=0\n",
    "            flag_switch = i\n",
    "            flag_switches.append(flag_switch)\n",
    "        ## we can think of flag has flag==1 means not critical, flag==0 means critical\n",
    "        if flag:\n",
    "            X[j,i,:]=A.dot(X[j,i-1,:])+sigmaw*np.random.randn(d)\n",
    "        else:\n",
    "            X[j,i,:]=B.dot(X[j,i-1,:])+sigmaw*np.random.randn(d)\n",
    "    for i in range(0, T - len_sequence): #for each time\n",
    "        if flag_switch >= 0: #if the flag ever switched\n",
    "            flags[j, i, :] = (flag_switch <= i + len_sequence) * np.ones(flags[j,i,:].shape) #set flags            \n",
    "## X is a n by d by T tensor\n",
    "## Y is just X but shifted one backwards\n",
    "## n represents independent trials (think of them as patients or time periods for patients separated)\n",
    "## T represents the time horizon (how long we observe a patient, for now T is the same for everybody, but we can imagine that changing)\n",
    "## d is the number of measurements that we have per patient per time."
   ]
  },
  {
   "cell_type": "code",
   "execution_count": 612,
   "metadata": {
    "collapsed": false
   },
   "outputs": [
    {
     "data": {
      "text/plain": [
       "array([[[ 0.13648387, -0.02278664,  0.31993782, ...,  0.05500866,\n",
       "          0.43710023, -0.15959334]],\n",
       "\n",
       "       [[-0.27191754, -0.10929665, -0.18194046, ...,  0.06737076,\n",
       "         -0.02286799, -0.08732597]],\n",
       "\n",
       "       [[ 0.11404246,  0.1187029 ,  0.22231738, ...,  0.10960273,\n",
       "         -0.16893691,  0.38270136]],\n",
       "\n",
       "       ..., \n",
       "       [[-0.12698173, -0.31445158, -0.00501316, ...,  0.23570379,\n",
       "         -0.38117572,  0.35008174]],\n",
       "\n",
       "       [[ 0.18510458, -0.31236021,  0.08860081, ...,  0.04161806,\n",
       "         -0.20910857,  0.00647608]],\n",
       "\n",
       "       [[ 0.22502466, -0.05116353,  0.0958164 , ...,  0.16317497,\n",
       "          0.12937733,  0.3659381 ]]])"
      ]
     },
     "execution_count": 612,
     "metadata": {},
     "output_type": "execute_result"
    }
   ],
   "source": [
    "X.shape\n",
    "X[:, 19:20]"
   ]
  },
  {
   "cell_type": "code",
   "execution_count": 613,
   "metadata": {
    "collapsed": false,
    "scrolled": false
   },
   "outputs": [
    {
     "name": "stdout",
     "output_type": "stream",
     "text": [
      "(165, 200, 10, 10)\n",
      "(165, 200, 10)\n",
      "(164, 200, 10)\n",
      "(164, 200, 1)\n"
     ]
    }
   ],
   "source": [
    "#Format the data with a window of length len_sequence\n",
    "\n",
    "crazy = np.array([X[:, i: i + len_sequence] for i in range(X.shape[1] - len_sequence)])\n",
    "crazy_y = np.array([X[:, i + len_sequence] for i in range(X.shape[1] - len_sequence)])\n",
    "crazy_flags = np.array([flags[:, i] for i in range(X.shape[1] - len_sequence - 1)])\n",
    "oned_flags = np.array([flags[:, i, 0:1] for i in range(X.shape[1] - len_sequence - 1)])\n",
    "\n",
    "print(crazy.shape)\n",
    "print(crazy_y.shape)\n",
    "print(crazy_flags.shape)\n",
    "print(oned_flags.shape)"
   ]
  },
  {
   "cell_type": "code",
   "execution_count": 614,
   "metadata": {
    "collapsed": false
   },
   "outputs": [
    {
     "name": "stdout",
     "output_type": "stream",
     "text": [
      "patient 1: \n",
      "[-0.27337574 -0.07295683 -0.06450468 -0.12328851 -0.1342445  -0.02550362\n",
      " -0.17222136 -0.13942055 -0.10527743  0.02626359 -0.36800942 -0.25328483\n",
      "  0.04535034 -0.0422003   0.02950755  0.00219591  0.27095175 -0.00380258\n",
      " -0.06797976  0.13648387  0.06664435 -0.13549066  0.17295386 -0.09338042\n",
      "  0.37981798  0.46332383  0.1213873   0.08072495  0.16882336 -0.03475307\n",
      " -0.05315179  0.17905008 -0.14846368 -0.15706895 -0.09775553 -0.11765551\n",
      "  0.06827621  0.11744428  0.20824438 -0.14179266  0.3221637  -0.19511671\n",
      " -0.19661791  0.09994852 -0.09452776  0.13335894  0.27007152 -0.03074855\n",
      " -0.07282262  0.01418409 -0.0628055   0.04757901 -0.04739823 -0.0109888\n",
      "  0.07493491 -0.03362828 -0.22642219 -0.21593642 -0.13422776 -0.17784284\n",
      " -0.00592467 -0.1131647  -0.31256697 -0.32580176  0.10665836  0.35888431\n",
      " -0.0726361   0.03413345 -0.00156306  0.02714091  0.01894509 -0.01830348\n",
      " -0.06919708 -0.11202647  0.12321818 -0.04469571  0.41119074  0.04601023\n",
      " -0.18396991 -0.01077735 -0.05658308  0.34645993  0.12301973  0.01658621\n",
      "  0.3123573   0.40445765  0.08327733 -0.02484207  0.184896   -0.03975177\n",
      "  0.19541612 -0.10158345 -0.19937319  0.35989498 -0.04049702 -0.29297308\n",
      " -0.03624868  0.33290579 -0.22881919  0.20213904  0.33623438  0.22283303\n",
      "  0.17772114  0.06649168  0.21157004  0.13376063  0.11713353  0.2555664\n",
      "  0.0439255   0.03258252 -0.2697352  -0.1185412   0.16401325  0.15186752\n",
      "  0.27388572  0.18732536  0.18167041 -0.33387346  0.24724849 -0.1328698\n",
      " -0.00488706 -0.10485348 -0.1894543   0.28840786  0.27083557 -0.04908695\n",
      "  0.00291325 -0.24563588 -0.11710301 -0.28890036  0.11296007  0.46256226\n",
      "  0.11295452  0.58890933 -0.53001997  0.10322333  0.30117157  0.25604682\n",
      " -0.31982675 -0.08481671  0.00084658  0.11491008 -0.21605352 -0.21952002\n",
      " -0.14132609 -0.04229918 -0.00139297 -0.44293737 -0.33768442 -0.18033429\n",
      " -0.0258148  -0.14380541 -0.28466465  0.38674399 -0.15995793 -0.12743395\n",
      "  0.03732457  0.05036403 -0.09512641  0.18277453 -0.08755558  0.0148718\n",
      " -0.16296792  0.01831123 -0.16551175  0.26157401  0.29850754 -0.11868359\n",
      "  0.0846951  -0.10395169  0.19663134  0.02819494 -0.29407372  0.07682714\n",
      " -0.04520424]\n",
      "crazy_patient 1: \n",
      "[[-0.27337574 -0.07295683 -0.06450468 ..., -0.13942055 -0.10527743\n",
      "   0.02626359]\n",
      " [-0.07295683 -0.06450468 -0.12328851 ..., -0.10527743  0.02626359\n",
      "  -0.36800942]\n",
      " [-0.06450468 -0.12328851 -0.1342445  ...,  0.02626359 -0.36800942\n",
      "  -0.25328483]\n",
      " ..., \n",
      " [-0.16296792  0.01831123 -0.16551175 ..., -0.10395169  0.19663134\n",
      "   0.02819494]\n",
      " [ 0.01831123 -0.16551175  0.26157401 ...,  0.19663134  0.02819494\n",
      "  -0.29407372]\n",
      " [-0.16551175  0.26157401  0.29850754 ...,  0.02819494 -0.29407372\n",
      "   0.07682714]]\n",
      "crazy_patient 1 y : \n",
      "[-0.36800942 -0.25328483  0.04535034 -0.0422003   0.02950755  0.00219591\n",
      "  0.27095175 -0.00380258 -0.06797976  0.13648387  0.06664435 -0.13549066\n",
      "  0.17295386 -0.09338042  0.37981798  0.46332383  0.1213873   0.08072495\n",
      "  0.16882336 -0.03475307 -0.05315179  0.17905008 -0.14846368 -0.15706895\n",
      " -0.09775553 -0.11765551  0.06827621  0.11744428  0.20824438 -0.14179266\n",
      "  0.3221637  -0.19511671 -0.19661791  0.09994852 -0.09452776  0.13335894\n",
      "  0.27007152 -0.03074855 -0.07282262  0.01418409 -0.0628055   0.04757901\n",
      " -0.04739823 -0.0109888   0.07493491 -0.03362828 -0.22642219 -0.21593642\n",
      " -0.13422776 -0.17784284 -0.00592467 -0.1131647  -0.31256697 -0.32580176\n",
      "  0.10665836  0.35888431 -0.0726361   0.03413345 -0.00156306  0.02714091\n",
      "  0.01894509 -0.01830348 -0.06919708 -0.11202647  0.12321818 -0.04469571\n",
      "  0.41119074  0.04601023 -0.18396991 -0.01077735 -0.05658308  0.34645993\n",
      "  0.12301973  0.01658621  0.3123573   0.40445765  0.08327733 -0.02484207\n",
      "  0.184896   -0.03975177  0.19541612 -0.10158345 -0.19937319  0.35989498\n",
      " -0.04049702 -0.29297308 -0.03624868  0.33290579 -0.22881919  0.20213904\n",
      "  0.33623438  0.22283303  0.17772114  0.06649168  0.21157004  0.13376063\n",
      "  0.11713353  0.2555664   0.0439255   0.03258252 -0.2697352  -0.1185412\n",
      "  0.16401325  0.15186752  0.27388572  0.18732536  0.18167041 -0.33387346\n",
      "  0.24724849 -0.1328698  -0.00488706 -0.10485348 -0.1894543   0.28840786\n",
      "  0.27083557 -0.04908695  0.00291325 -0.24563588 -0.11710301 -0.28890036\n",
      "  0.11296007  0.46256226  0.11295452  0.58890933 -0.53001997  0.10322333\n",
      "  0.30117157  0.25604682 -0.31982675 -0.08481671  0.00084658  0.11491008\n",
      " -0.21605352 -0.21952002 -0.14132609 -0.04229918 -0.00139297 -0.44293737\n",
      " -0.33768442 -0.18033429 -0.0258148  -0.14380541 -0.28466465  0.38674399\n",
      " -0.15995793 -0.12743395  0.03732457  0.05036403 -0.09512641  0.18277453\n",
      " -0.08755558  0.0148718  -0.16296792  0.01831123 -0.16551175  0.26157401\n",
      "  0.29850754 -0.11868359  0.0846951  -0.10395169  0.19663134  0.02819494\n",
      " -0.29407372  0.07682714 -0.04520424]\n",
      "[-0.27337574  0.1183863   0.12381762 -0.45635514  0.15379269 -0.18008294\n",
      "  0.45116884  0.04959842  0.54319394 -0.14487241]\n"
     ]
    }
   ],
   "source": [
    "patient_1 = X[0, :, 0]\n",
    "print(\"patient 1: \\n\" + str(patient_1))\n",
    "crazy_patient_1 = crazy[:,0,:,0]\n",
    "print(\"crazy_patient 1: \\n\" + str(crazy_patient_1))\n",
    "crazy_patient_1_y = crazy_y[:,0,0]\n",
    "print(\"crazy_patient 1 y : \\n\" + str(crazy_patient_1_y))\n",
    "print(X_train[0])"
   ]
  },
  {
   "cell_type": "code",
   "execution_count": 615,
   "metadata": {
    "collapsed": false
   },
   "outputs": [],
   "source": [
    "def prepare_baseline():\n",
    "    #Reshape data and flatten for baseline models\n",
    "    rolled_x = crazy[:,:,:,:]\n",
    "    rolled_y = crazy_y[:,:,:]\n",
    "\n",
    "    print (rolled_x.shape)\n",
    "    print (rolled_y.shape)\n",
    "\n",
    "    unrolled_x = np.zeros((crazy.shape[0]*crazy.shape[1], crazy.shape[2] * crazy.shape[3]))\n",
    "    unrolled_y = np.zeros((crazy.shape[0] * crazy.shape[1], crazy.shape[3]))\n",
    "\n",
    "    for i in range(crazy.shape[1]): #patients\n",
    "        for j in range(crazy.shape[0]): #time steps\n",
    "            unrolled_y[i * crazy.shape[0] + j] = rolled_y[j,i,:]            \n",
    "            for l in range(crazy.shape[2]):#len_sequence\n",
    "                for k in range(crazy.shape[3]): #dimensionality\n",
    "                    unrolled_x[i * crazy.shape[0] + j][l*crazy.shape[3] + k] = rolled_x[j,i,l,k]\n",
    "\n",
    "    print (unrolled_x.shape)\n",
    "    print (unrolled_y.shape)\n",
    "    transition_point = int(unrolled_x.shape[0] * .8)\n",
    "    \n",
    "    X_train = np.array(unrolled_x[:transition_point,:])\n",
    "    y_train = np.array(unrolled_y[:transition_point])\n",
    "    X_test = np.array(unrolled_x[transition_point:,:])\n",
    "    y_test = np.array(unrolled_y[transition_point:])\n",
    "\n",
    "    print (X_train.shape)\n",
    "    print (y_train.shape)\n",
    "    print (X_test.shape)\n",
    "    print (y_test.shape)\n",
    "    \n",
    "    return (X_train, y_train, X_test, y_test)"
   ]
  },
  {
   "cell_type": "code",
   "execution_count": 616,
   "metadata": {
    "collapsed": false
   },
   "outputs": [
    {
     "name": "stdout",
     "output_type": "stream",
     "text": [
      "(165, 200, 10, 10)\n",
      "(165, 200, 10)\n",
      "(33000, 100)\n",
      "(33000, 10)\n",
      "(26400, 100)\n",
      "(26400, 10)\n",
      "(6600, 100)\n",
      "(6600, 10)\n"
     ]
    }
   ],
   "source": [
    "(X_train, y_train, X_test, y_test) = prepare_baseline()\n"
   ]
  },
  {
   "cell_type": "code",
   "execution_count": 617,
   "metadata": {
    "collapsed": false
   },
   "outputs": [],
   "source": [
    "#Given a model that uses the flattened window, this will print its mean squared error and plot it's results versus reality\n",
    "def analyze(model, X_test, y_test):\n",
    "    plt.clf()\n",
    "    results = model.predict(X_test)\n",
    "    \n",
    "    manual = np.zeros(y_test.shape)\n",
    "    for i in range(manual.shape[0]):\n",
    "        manual[i,:] = A.dot(X_test[i,-d:])\n",
    "        \n",
    "    preds = results[int(manual.shape[0]*.5):(int(manual.shape[0]*.5) + 10),:]\n",
    "    reals = y_test[int(manual.shape[0]*.5):(int(manual.shape[0]*.5) + 10),:]\n",
    "    manuals = manual[int(manual.shape[0]*.5):(int(manual.shape[0]*.5) + 10), :]\n",
    "    \n",
    "    plt.plot(preds, color='red')\n",
    "    plt.plot(reals, color='blue')\n",
    "    plt.plot(manuals, color='yellow')\n",
    "    \n",
    "    all_z = np.zeros(y_test.shape)\n",
    "    \n",
    "    print(\"all_zero error: \" + str(mean_absolute_error(y_test, all_z)))\n",
    "    print(\"smart_predictor error: \" + str(mean_absolute_error(y_test, manual)))\n",
    "    print(\"Actual Error: \" + str(mean_absolute_error(y_test, results)))"
   ]
  },
  {
   "cell_type": "code",
   "execution_count": 618,
   "metadata": {
    "collapsed": true
   },
   "outputs": [],
   "source": [
    "#Given a model that uses the flattened window for classification,this will print its confusion matrix and plot it's results versus reality\n",
    "def analyze_classification(model, X_test, y_test):\n",
    "    results = model.predict(X_test)\n",
    "    #only plotting the first 400 because otherwise you can't see anything\n",
    "    preds = results[:400]\n",
    "    reals = y_test[:400]\n",
    "    plt.plot(preds, color='red')\n",
    "    plt.plot(reals, color='blue')\n",
    "    print(confusion_matrix(y_test, results))\n",
    "    #Compare to all zeros\n",
    "    \"\"\"\n",
    "    print(\"Try all zeros\")\n",
    "    zeros = np.zeros(5600)\n",
    "    print(confusion_matrix(y_test, zeros))\n",
    "    \"\"\""
   ]
  },
  {
   "cell_type": "code",
   "execution_count": 619,
   "metadata": {
    "collapsed": false
   },
   "outputs": [],
   "source": [
    "def train_forest(X_train, y_train):\n",
    "    ne = [10]\n",
    "    nf = [10]\n",
    "    models = []\n",
    "    for e in ne:\n",
    "        for f in nf:   \n",
    "            model = RandomForestRegressor(n_estimators=e, max_features = f, verbose=2)\n",
    "            model.fit(X_train, y_train)\n",
    "            models.append(model)\n",
    "    return models"
   ]
  },
  {
   "cell_type": "code",
   "execution_count": 620,
   "metadata": {
    "collapsed": false
   },
   "outputs": [],
   "source": [
    "def train_baseline_nn(X_train, y_train, X_test, y_test):\n",
    "    #Baseline model in multiple dimensions: predicts the next measurement, all 10 dimensions\n",
    "    rms = RMSprop()\n",
    "    model = Sequential()\n",
    "    model.add(Dense(512, input_shape=(X_train.shape[1],)))\n",
    "    model.add(Activation('relu'))\n",
    "    model.add(Dropout(0.25))\n",
    "    model.add(Dense(y_train.shape[1]))\n",
    "    model.compile(loss='mean_squared_error', optimizer=rms)\n",
    "    model.fit(X_train, y_train, batch_size=32, nb_epoch=10, verbose=1,\n",
    "              validation_data=(X_test, y_test))\n",
    "    return model"
   ]
  },
  {
   "cell_type": "code",
   "execution_count": 621,
   "metadata": {
    "collapsed": false
   },
   "outputs": [],
   "source": [
    "def train_baseline_multi_deep(X_train, y_train, X_test, y_test):\n",
    "    #Baseline model in multiple dimensions: predicts the next measurement, all 10 dimensions\n",
    "    rms = RMSprop()\n",
    "    model = Sequential()\n",
    "    model.add(Dense(512, input_shape=(X_train.shape[1],)))\n",
    "    model.add(Activation('relu'))\n",
    "    model.add(Dropout(0.25))\n",
    "    model.add(Dense(512))\n",
    "    model.add(Activation('relu'))\n",
    "    model.add(Dropout(0.25))\n",
    "    model.add(Dense(y_train.shape[1]))\n",
    "    model.compile(loss='mean_squared_error', optimizer=rms)\n",
    "    model.fit(X_train, y_train, batch_size=32, nb_epoch=10, verbose=1,\n",
    "              validation_data=(X_test, y_test))\n",
    "    return model"
   ]
  },
  {
   "cell_type": "code",
   "execution_count": 622,
   "metadata": {
    "collapsed": false
   },
   "outputs": [
    {
     "name": "stdout",
     "output_type": "stream",
     "text": [
      "Train on 26400 samples, validate on 6600 samples\n",
      "Epoch 1/10\n",
      "26400/26400 [==============================] - 3s - loss: 0.0451 - val_loss: 0.0415\n",
      "Epoch 2/10\n",
      "26400/26400 [==============================] - 3s - loss: 0.0412 - val_loss: 0.0410\n",
      "Epoch 3/10\n",
      "26400/26400 [==============================] - 3s - loss: 0.0403 - val_loss: 0.0409\n",
      "Epoch 4/10\n",
      "26400/26400 [==============================] - 3s - loss: 0.0399 - val_loss: 0.0409\n",
      "Epoch 5/10\n",
      "26400/26400 [==============================] - 3s - loss: 0.0396 - val_loss: 0.0409\n",
      "Epoch 6/10\n",
      "26400/26400 [==============================] - 3s - loss: 0.0394 - val_loss: 0.0409\n",
      "Epoch 7/10\n",
      "26400/26400 [==============================] - 3s - loss: 0.0392 - val_loss: 0.0409\n",
      "Epoch 8/10\n",
      "26400/26400 [==============================] - 3s - loss: 0.0390 - val_loss: 0.0409\n",
      "Epoch 9/10\n",
      "26400/26400 [==============================] - 3s - loss: 0.0388 - val_loss: 0.0409\n",
      "Epoch 10/10\n",
      "26400/26400 [==============================] - 3s - loss: 0.0387 - val_loss: 0.0410\n",
      "Train on 26400 samples, validate on 6600 samples\n",
      "Epoch 1/10\n",
      "26400/26400 [==============================] - 9s - loss: 0.0435 - val_loss: 0.0410\n",
      "Epoch 2/10\n",
      "26400/26400 [==============================] - 11s - loss: 0.0409 - val_loss: 0.0407\n",
      "Epoch 3/10\n",
      "26400/26400 [==============================] - 11s - loss: 0.0404 - val_loss: 0.0405\n",
      "Epoch 4/10\n",
      "26400/26400 [==============================] - 9s - loss: 0.0401 - val_loss: 0.0405\n",
      "Epoch 5/10\n",
      "26400/26400 [==============================] - 9s - loss: 0.0400 - val_loss: 0.0405\n",
      "Epoch 6/10\n",
      "26400/26400 [==============================] - 9s - loss: 0.0398 - val_loss: 0.0405\n",
      "Epoch 7/10\n",
      "26400/26400 [==============================] - 9s - loss: 0.0397 - val_loss: 0.0405\n",
      "Epoch 8/10\n",
      "26400/26400 [==============================] - 9s - loss: 0.0396 - val_loss: 0.0406\n",
      "Epoch 9/10\n",
      "26400/26400 [==============================] - 9s - loss: 0.0395 - val_loss: 0.0405\n",
      "Epoch 10/10\n",
      "26400/26400 [==============================] - 9s - loss: 0.0393 - val_loss: 0.0406\n"
     ]
    }
   ],
   "source": [
    "#(X_train, y_train, X_test, y_test) = prepare_baseline()\n",
    "models = {}\n",
    "tree_models = train_forest(X_train, y_train)\n",
    "models['tree'] = tree_models[0]\n",
    "models['nn'] = train_baseline_nn(X_train, y_train, X_test, y_test)\n",
    "models['deep_nn'] = train_baseline_multi_deep(X_train, y_train, X_test, y_test)\n"
   ]
  },
  {
   "cell_type": "code",
   "execution_count": 623,
   "metadata": {
    "collapsed": false
   },
   "outputs": [
    {
     "data": {
      "text/plain": [
       "(6600, 100)"
      ]
     },
     "execution_count": 623,
     "metadata": {},
     "output_type": "execute_result"
    }
   ],
   "source": [
    "X_test.shape"
   ]
  },
  {
   "cell_type": "code",
   "execution_count": 626,
   "metadata": {
    "collapsed": false
   },
   "outputs": [
    {
     "name": "stdout",
     "output_type": "stream",
     "text": [
      "building tree 1 of 10\n",
      "building tree 2 of 10\n",
      "building tree 3 of 10\n",
      "building tree 4 of 10\n",
      "building tree 5 of 10\n",
      "building tree 6 of 10\n",
      "building tree 7 of 10\n",
      "building tree 8 of 10\n",
      "building tree 9 of 10\n",
      "building tree 10 of 10"
     ]
    },
    {
     "name": "stderr",
     "output_type": "stream",
     "text": [
      "[Parallel(n_jobs=1)]: Done   1 out of   1 | elapsed:    0.5s remaining:    0.0s\n",
      "[Parallel(n_jobs=1)]: Done  10 out of  10 | elapsed:    5.5s finished\n"
     ]
    },
    {
     "name": "stdout",
     "output_type": "stream",
     "text": [
      "\n"
     ]
    }
   ],
   "source": [
    "tree_models = train_forest(X_train, y_train)"
   ]
  },
  {
   "cell_type": "code",
   "execution_count": 627,
   "metadata": {
    "collapsed": false
   },
   "outputs": [
    {
     "name": "stderr",
     "output_type": "stream",
     "text": [
      "[Parallel(n_jobs=1)]: Done   1 out of   1 | elapsed:    0.0s remaining:    0.0s\n",
      "[Parallel(n_jobs=1)]: Done  10 out of  10 | elapsed:    0.1s finished\n"
     ]
    },
    {
     "name": "stdout",
     "output_type": "stream",
     "text": [
      "all_zero error: 0.168840895246\n",
      "smart_predictor error: 0.159880463551\n",
      "Actual Error: 0.179659119986\n"
     ]
    },
    {
     "data": {
      "image/png": "[encoded data removed]",
      "text/plain": [
       "<matplotlib.figure.Figure at 0x141504a58>"
      ]
     },
     "metadata": {},
     "output_type": "display_data"
    }
   ],
   "source": [
    "analyze(models['tree'], X_test, y_test)"
   ]
  },
  {
   "cell_type": "code",
   "execution_count": 238,
   "metadata": {
    "collapsed": false
   },
   "outputs": [],
   "source": [
    "def prepare_rnn():\n",
    "    #Reshape data and flatten for baseline models\n",
    "    rolled_x = crazy[:,:,:,:]\n",
    "    rolled_y = crazy_y[:,:,:]\n",
    "\n",
    "    print (rolled_x.shape)\n",
    "    print (rolled_y.shape)\n",
    "\n",
    "    unrolled_x = np.zeros((crazy.shape[0] * crazy.shape[1], crazy.shape[2], crazy.shape[3]))\n",
    "    unrolled_y = np.zeros((crazy.shape[0] * crazy.shape[1], crazy.shape[3]))\n",
    "\n",
    "    #maybe we should switch the order of these (but also maybe not it depends how batching works)\n",
    "    for i in range(crazy.shape[0]): #time steps\n",
    "        for j in range(crazy.shape[1]): #patients\n",
    "            unrolled_x[i * crazy.shape[1] + j] = rolled_x[i,j,:,:]\n",
    "            unrolled_y[i * crazy.shape[1] + j] = rolled_y[i,j,:]            \n",
    "\n",
    "    print (unrolled_x.shape)\n",
    "    print (unrolled_y.shape)\n",
    "\n",
    "    X_train = np.array(unrolled_x[:25000,:])\n",
    "    y_train = np.array(unrolled_y[:25000])\n",
    "    X_test = np.array(unrolled_x[25000:,:])\n",
    "    y_test = np.array(unrolled_y[25000:])\n",
    "\n",
    "    print (X_train.shape)\n",
    "    print (y_train.shape)\n",
    "    print (X_test.shape)\n",
    "    print (y_test.shape)\n",
    "    \n",
    "    return (X_train, y_train, X_test, y_test)\n",
    "    "
   ]
  },
  {
   "cell_type": "code",
   "execution_count": 239,
   "metadata": {
    "collapsed": false
   },
   "outputs": [
    {
     "name": "stdout",
     "output_type": "stream",
     "text": [
      "(154, 200, 10, 10)\n",
      "(154, 200, 10)\n",
      "(30800, 10, 10)\n",
      "(30800, 10)\n",
      "(25000, 10, 10)\n",
      "(25000, 10)\n",
      "(5800, 10, 10)\n",
      "(5800, 10)\n"
     ]
    }
   ],
   "source": [
    "(X_train, y_train, X_test, y_test) = prepare_rnn()"
   ]
  },
  {
   "cell_type": "code",
   "execution_count": 240,
   "metadata": {
    "collapsed": true
   },
   "outputs": [],
   "source": [
    "#Predict the next measurement.  Trained using the window method.  A GRU + a Dense layer\n",
    "def train_window_regression_rnn(X_train, y_train, X_test, y_test):\n",
    "    model = Sequential()\n",
    "    model.add(GRU(16,activation='relu', input_dim = d))\n",
    "    model.add(Dense(128))\n",
    "    model.add(Dropout(0.5))\n",
    "    model.add(Activation('relu'))\n",
    "    model.add(Dense(d))\n",
    "    model.compile(loss='mean_squared_error', optimizer='adam')\n",
    "    model.fit(X_train, y_train, batch_size=32, nb_epoch=10, verbose=1,\n",
    "              validation_data=(X_test, y_test))\n",
    "    return model"
   ]
  },
  {
   "cell_type": "code",
   "execution_count": 241,
   "metadata": {
    "collapsed": false
   },
   "outputs": [
    {
     "name": "stdout",
     "output_type": "stream",
     "text": [
      "Train on 25000 samples, validate on 5800 samples\n",
      "Epoch 1/10\n",
      "25000/25000 [==============================] - 4s - loss: 0.0451 - val_loss: 0.0442\n",
      "Epoch 2/10\n",
      "25000/25000 [==============================] - 4s - loss: 0.0449 - val_loss: 0.0441\n",
      "Epoch 3/10\n",
      "25000/25000 [==============================] - 4s - loss: 0.0448 - val_loss: 0.0441\n",
      "Epoch 4/10\n",
      "25000/25000 [==============================] - 4s - loss: 0.0448 - val_loss: 0.0441\n",
      "Epoch 5/10\n",
      "25000/25000 [==============================] - 4s - loss: 0.0448 - val_loss: 0.0440\n",
      "Epoch 6/10\n",
      "25000/25000 [==============================] - 4s - loss: 0.0448 - val_loss: 0.0440\n",
      "Epoch 7/10\n",
      "25000/25000 [==============================] - 4s - loss: 0.0448 - val_loss: 0.0440\n",
      "Epoch 8/10\n",
      "25000/25000 [==============================] - 4s - loss: 0.0448 - val_loss: 0.0440\n",
      "Epoch 9/10\n",
      "25000/25000 [==============================] - 4s - loss: 0.0447 - val_loss: 0.0440\n",
      "Epoch 10/10\n",
      "25000/25000 [==============================] - 4s - loss: 0.0447 - val_loss: 0.0440\n"
     ]
    }
   ],
   "source": [
    "rnn_regressor = train_window_regression_rnn(X_train, y_train, X_test, y_test)"
   ]
  },
  {
   "cell_type": "code",
   "execution_count": 242,
   "metadata": {
    "collapsed": false
   },
   "outputs": [
    {
     "name": "stdout",
     "output_type": "stream",
     "text": [
      "All Zero error: 0.167545578338\n",
      "Actual Error: 0.167065875155\n"
     ]
    },
    {
     "data": {
      "image/png": "[encoded data removed]",
      "text/plain": [
       "<matplotlib.figure.Figure at 0x1332a8f28>"
      ]
     },
     "metadata": {},
     "output_type": "display_data"
    }
   ],
   "source": [
    "analyze(rnn_regressor, X_test, y_test)"
   ]
  },
  {
   "cell_type": "code",
   "execution_count": 243,
   "metadata": {
    "collapsed": true
   },
   "outputs": [],
   "source": [
    "def prepare_classification_rnn():\n",
    "    #Reshape data and flatten for baseline models\n",
    "    rolled_x = crazy[:,:,:,:]\n",
    "    rolled_y = oned_flags[:,:,:]\n",
    "\n",
    "    print (rolled_x.shape)\n",
    "    print (rolled_y.shape)\n",
    "\n",
    "    unrolled_x = np.zeros((crazy.shape[0] * crazy.shape[1], crazy.shape[2], crazy.shape[3]))\n",
    "    unrolled_y = np.zeros((crazy.shape[0] * crazy.shape[1]))\n",
    "\n",
    "    #maybe we should switch the order of these (but also maybe not it depends how batching works)\n",
    "    for i in range(crazy.shape[0]): #time steps\n",
    "        for j in range(crazy.shape[1]): #patients\n",
    "            unrolled_x[i * crazy.shape[1] + j] = rolled_x[i,j,:,:]\n",
    "            unrolled_y[i * crazy.shape[1] + j] = rolled_y[i,j,:]            \n",
    "\n",
    "    print (unrolled_x.shape)\n",
    "    print (unrolled_y.shape)\n",
    "\n",
    "    X_train = np.array(unrolled_x[:25000,:])\n",
    "    y_train = np.array(unrolled_y[:25000])\n",
    "    X_test = np.array(unrolled_x[25000:,:])\n",
    "    y_test = np.array(unrolled_y[25000:])\n",
    "\n",
    "    print (X_train.shape)\n",
    "    print (y_train.shape)\n",
    "    print (X_test.shape)\n",
    "    print (y_test.shape)\n",
    "    \n",
    "    return (X_train, y_train, X_test, y_test)\n",
    "    "
   ]
  },
  {
   "cell_type": "code",
   "execution_count": 244,
   "metadata": {
    "collapsed": false
   },
   "outputs": [],
   "source": [
    "def prepare_classification_baseline():\n",
    "    #Reshape data and flatten for baseline models\n",
    "    rolled_x = crazy[:,:,:,:]\n",
    "    rolled_y = oned_flags[:,:,:]\n",
    "\n",
    "    print (rolled_x.shape)\n",
    "    print (rolled_y.shape)\n",
    "    unrolled_x = np.zeros((crazy.shape[0]*crazy.shape[1], crazy.shape[2] * crazy.shape[3]))\n",
    "    unrolled_y = np.zeros((crazy.shape[0] * crazy.shape[1]))\n",
    "\n",
    "    for i in range(crazy.shape[0]): #time steps\n",
    "        for j in range(crazy.shape[1]): #patients\n",
    "            unrolled_y[i * crazy.shape[1] + j] = rolled_y[i,j,:]            \n",
    "            for l in range(crazy.shape[3]):#dimensionality of data measurements\n",
    "                for k in range(crazy.shape[2]): #len_sequence\n",
    "                    unrolled_x[i * crazy.shape[1] + j][k*crazy.shape[3] + l] = rolled_x[i,j,k,l]\n",
    "\n",
    "    print (unrolled_x.shape)\n",
    "    print (unrolled_y.shape)\n",
    "\n",
    "    X_train = np.array(unrolled_x[:25000,:])\n",
    "    y_train = np.array(unrolled_y[:25000])\n",
    "    X_test = np.array(unrolled_x[25000:,:])\n",
    "    y_test = np.array(unrolled_y[25000:])\n",
    "\n",
    "    print (X_train.shape)\n",
    "    print (y_train.shape)\n",
    "    print (X_test.shape)\n",
    "    print (y_test.shape)\n",
    "    \n",
    "    return (X_train, y_train, X_test, y_test)"
   ]
  },
  {
   "cell_type": "code",
   "execution_count": 245,
   "metadata": {
    "collapsed": true
   },
   "outputs": [],
   "source": [
    "def train_classification_forest(X_train, y_train):\n",
    "    ne = [10]\n",
    "    nf = [10]\n",
    "    models = []\n",
    "    for e in ne:\n",
    "        for f in nf:   \n",
    "            model = RandomForestClassifier(n_estimators=e, max_features = f, verbose=2)\n",
    "            model.fit(X_train, y_train)\n",
    "            models.append(model)\n",
    "    return models"
   ]
  },
  {
   "cell_type": "code",
   "execution_count": 246,
   "metadata": {
    "collapsed": false
   },
   "outputs": [
    {
     "name": "stdout",
     "output_type": "stream",
     "text": [
      "(154, 200, 10, 10)\n",
      "(154, 200, 1)\n",
      "(30800, 100)\n",
      "(30800,)\n",
      "(25000, 100)\n",
      "(25000,)\n",
      "(5800, 100)\n",
      "(5800,)\n"
     ]
    }
   ],
   "source": [
    "(X_train, y_train, X_test, y_test) = prepare_classification_baseline()"
   ]
  },
  {
   "cell_type": "code",
   "execution_count": 247,
   "metadata": {
    "collapsed": false
   },
   "outputs": [
    {
     "name": "stdout",
     "output_type": "stream",
     "text": [
      "building tree 1 of 10\n",
      "building tree 2 of 10\n",
      "building tree 3 of 10\n",
      "building tree 4 of 10\n",
      "building tree 5 of 10\n",
      "building tree 6 of 10\n",
      "building tree 7 of 10\n",
      "building tree 8 of 10\n",
      "building tree 9 of 10\n",
      "building tree 10 of 10"
     ]
    },
    {
     "name": "stderr",
     "output_type": "stream",
     "text": [
      "[Parallel(n_jobs=1)]: Done   1 out of   1 | elapsed:    0.5s remaining:    0.0s\n",
      "[Parallel(n_jobs=1)]: Done  10 out of  10 | elapsed:    5.8s finished\n"
     ]
    },
    {
     "name": "stdout",
     "output_type": "stream",
     "text": [
      "\n"
     ]
    }
   ],
   "source": [
    "models = train_classification_forest(X_train, y_train)"
   ]
  },
  {
   "cell_type": "code",
   "execution_count": 248,
   "metadata": {
    "collapsed": false
   },
   "outputs": [
    {
     "name": "stdout",
     "output_type": "stream",
     "text": [
      "num_estimators: 10\n",
      "Max Features: 10\n",
      "[[ 287  211]\n",
      " [1107 4195]]\n"
     ]
    },
    {
     "name": "stderr",
     "output_type": "stream",
     "text": [
      "[Parallel(n_jobs=1)]: Done   1 out of   1 | elapsed:    0.0s remaining:    0.0s\n",
      "[Parallel(n_jobs=1)]: Done  10 out of  10 | elapsed:    0.0s finished\n"
     ]
    },
    {
     "data": {
      "image/png": "[encoded data removed]",
      "text/plain": [
       "<matplotlib.figure.Figure at 0x110b21da0>"
      ]
     },
     "metadata": {},
     "output_type": "display_data"
    }
   ],
   "source": [
    "for m in models: \n",
    "    print (\"num_estimators: \" + str(m.n_estimators))\n",
    "    print (\"Max Features: \" + str(m.max_features))\n",
    "    analyze_classification(m, X_test, y_test)"
   ]
  },
  {
   "cell_type": "code",
   "execution_count": 249,
   "metadata": {
    "collapsed": true
   },
   "outputs": [],
   "source": [
    "def train_window_classification_nn(X_train, y_train, X_test, y_test):\n",
    "    #Baseline model in multiple dimensions: predicts the next measurement, all 10 dimensions\n",
    "    rms = RMSprop()\n",
    "    model = Sequential()\n",
    "    model.add(Dense(512, input_shape=(X_train.shape[1],)))\n",
    "    model.add(Activation('relu'))\n",
    "    model.add(Dropout(0.25))\n",
    "    model.add(Dense(1))\n",
    "    model.add(Activation('sigmoid'))\n",
    "    model.compile(loss='binary_crossentropy', optimizer='rmsprop', metrics=['accuracy'])\n",
    "    model.fit(X_train, y_train, batch_size=32, nb_epoch=10, verbose=1,\n",
    "              validation_data=(X_test, y_test))    \n",
    "    return model"
   ]
  },
  {
   "cell_type": "code",
   "execution_count": 250,
   "metadata": {
    "collapsed": false
   },
   "outputs": [
    {
     "name": "stdout",
     "output_type": "stream",
     "text": [
      "Train on 25000 samples, validate on 5800 samples\n",
      "Epoch 1/10\n",
      "25000/25000 [==============================] - 2s - loss: 0.5018 - acc: 0.7584 - val_loss: 0.2583 - val_acc: 0.9410\n",
      "Epoch 2/10\n",
      "25000/25000 [==============================] - 2s - loss: 0.2599 - acc: 0.9103 - val_loss: 0.1584 - val_acc: 0.9541\n",
      "Epoch 3/10\n",
      "25000/25000 [==============================] - 2s - loss: 0.1932 - acc: 0.9316 - val_loss: 0.1156 - val_acc: 0.9648\n",
      "Epoch 4/10\n",
      "25000/25000 [==============================] - 2s - loss: 0.1587 - acc: 0.9451 - val_loss: 0.0965 - val_acc: 0.9678\n",
      "Epoch 5/10\n",
      "25000/25000 [==============================] - 2s - loss: 0.1349 - acc: 0.9546 - val_loss: 0.0816 - val_acc: 0.9724\n",
      "Epoch 6/10\n",
      "25000/25000 [==============================] - 2s - loss: 0.1159 - acc: 0.9608 - val_loss: 0.0781 - val_acc: 0.9731\n",
      "Epoch 7/10\n",
      "25000/25000 [==============================] - 2s - loss: 0.1028 - acc: 0.9661 - val_loss: 0.0932 - val_acc: 0.9662\n",
      "Epoch 8/10\n",
      "25000/25000 [==============================] - 2s - loss: 0.0936 - acc: 0.9692 - val_loss: 0.0871 - val_acc: 0.9688\n",
      "Epoch 9/10\n",
      "25000/25000 [==============================] - 2s - loss: 0.0833 - acc: 0.9716 - val_loss: 0.0719 - val_acc: 0.9752\n",
      "Epoch 10/10\n",
      "25000/25000 [==============================] - 2s - loss: 0.0742 - acc: 0.9750 - val_loss: 0.0768 - val_acc: 0.9697\n"
     ]
    }
   ],
   "source": [
    "model = train_window_classification_nn(X_train, y_train, X_test, y_test)"
   ]
  },
  {
   "cell_type": "code",
   "execution_count": 251,
   "metadata": {
    "collapsed": false
   },
   "outputs": [
    {
     "name": "stdout",
     "output_type": "stream",
     "text": [
      "[1 1 1 ..., 0 1 1]\n",
      "[[ 466   32]\n",
      " [ 144 5158]]\n"
     ]
    },
    {
     "data": {
      "image/png": "[encoded data removed]",
      "text/plain": [
       "<matplotlib.figure.Figure at 0x1201ac630>"
      ]
     },
     "metadata": {},
     "output_type": "display_data"
    }
   ],
   "source": [
    "results = model.predict(X_test)[:,0]\n",
    "results = np.where(results>.5, 1, 0)\n",
    "print (results)\n",
    "#only plotting the first 400 because otherwise you can't see anything\n",
    "preds = results[:400]\n",
    "reals = y_test[:400]\n",
    "\n",
    "plt.plot(preds, color='red')\n",
    "plt.plot(reals, color='blue')\n",
    "print(confusion_matrix(y_test, results))\n",
    "#Compare to all zeros"
   ]
  },
  {
   "cell_type": "code",
   "execution_count": 252,
   "metadata": {
    "collapsed": true
   },
   "outputs": [],
   "source": [
    "def train_window_classification_deep_nn(X_train, y_train, X_test, y_test):\n",
    "    #Baseline model in multiple dimensions: predicts the next measurement, all 10 dimensions\n",
    "    rms = RMSprop()\n",
    "    model = Sequential()\n",
    "    model.add(Dense(512, input_shape=(X_train.shape[1],)))\n",
    "    model.add(Activation('relu'))\n",
    "    model.add(Dropout(0.25))\n",
    "    model.add(Dense(512))\n",
    "    model.add(Activation('relu'))\n",
    "    model.add(Dropout(0.25))\n",
    "    model.add(Dense(1))\n",
    "    model.add(Activation('sigmoid'))\n",
    "    model.compile(loss='binary_crossentropy', optimizer='rmsprop', metrics=['accuracy'])\n",
    "    model.fit(X_train, y_train, batch_size=32, nb_epoch=10, verbose=1,\n",
    "              validation_data=(X_test, y_test))    \n",
    "    return model"
   ]
  },
  {
   "cell_type": "code",
   "execution_count": 253,
   "metadata": {
    "collapsed": false
   },
   "outputs": [
    {
     "name": "stdout",
     "output_type": "stream",
     "text": [
      "Train on 25000 samples, validate on 5800 samples\n",
      "Epoch 1/10\n",
      "25000/25000 [==============================] - 7s - loss: 0.4015 - acc: 0.8068 - val_loss: 0.1269 - val_acc: 0.9581\n",
      "Epoch 2/10\n",
      "25000/25000 [==============================] - 7s - loss: 0.2010 - acc: 0.9226 - val_loss: 0.0885 - val_acc: 0.9660\n",
      "Epoch 3/10\n",
      "25000/25000 [==============================] - 7s - loss: 0.1514 - acc: 0.9425 - val_loss: 0.1045 - val_acc: 0.9555\n",
      "Epoch 4/10\n",
      "25000/25000 [==============================] - 7s - loss: 0.1190 - acc: 0.9548 - val_loss: 0.1036 - val_acc: 0.9564\n",
      "Epoch 5/10\n",
      "25000/25000 [==============================] - 7s - loss: 0.1014 - acc: 0.9618 - val_loss: 0.0849 - val_acc: 0.9641\n",
      "Epoch 6/10\n",
      "25000/25000 [==============================] - 7s - loss: 0.0882 - acc: 0.9666 - val_loss: 0.0999 - val_acc: 0.9602\n",
      "Epoch 7/10\n",
      "25000/25000 [==============================] - 7s - loss: 0.0744 - acc: 0.9718 - val_loss: 0.0862 - val_acc: 0.9652\n",
      "Epoch 8/10\n",
      "25000/25000 [==============================] - 7s - loss: 0.0685 - acc: 0.9752 - val_loss: 0.0805 - val_acc: 0.9664\n",
      "Epoch 9/10\n",
      "25000/25000 [==============================] - 7s - loss: 0.0604 - acc: 0.9771 - val_loss: 0.1074 - val_acc: 0.9588\n",
      "Epoch 10/10\n",
      "25000/25000 [==============================] - 7s - loss: 0.0517 - acc: 0.9805 - val_loss: 0.0624 - val_acc: 0.9767\n"
     ]
    }
   ],
   "source": [
    "model2 = train_window_classification_deep_nn(X_train, y_train, X_test, y_test)"
   ]
  },
  {
   "cell_type": "code",
   "execution_count": 254,
   "metadata": {
    "collapsed": false
   },
   "outputs": [
    {
     "name": "stdout",
     "output_type": "stream",
     "text": [
      "[1 1 1 ..., 0 1 1]\n",
      "[[ 446   52]\n",
      " [  83 5219]]\n"
     ]
    },
    {
     "data": {
      "image/png": "[encoded data removed]",
      "text/plain": [
       "<matplotlib.figure.Figure at 0x133521748>"
      ]
     },
     "metadata": {},
     "output_type": "display_data"
    }
   ],
   "source": [
    "results = model2.predict(X_test)[:,0]\n",
    "results = np.where(results>.5, 1, 0)\n",
    "print (results)\n",
    "#only plotting the first 400 because otherwise you can't see anything\n",
    "preds = results[:400]\n",
    "reals = y_test[:400]\n",
    "\n",
    "plt.plot(preds, color='red')\n",
    "plt.plot(reals, color='blue')\n",
    "print(confusion_matrix(y_test, results))\n",
    "#Compare to all zeros"
   ]
  },
  {
   "cell_type": "code",
   "execution_count": 255,
   "metadata": {
    "collapsed": false
   },
   "outputs": [],
   "source": [
    "#Predict the next measurement.  Trained using the window method.  A GRU + a Dense layer\n",
    "def train_window_classification_rnn(X_train, y_train, X_test, y_test):\n",
    "    model = Sequential()\n",
    "    model.add(GRU(16,activation='relu', input_dim = d))\n",
    "    model.add(Dense(128))\n",
    "    model.add(Dropout(0.5))\n",
    "    model.add(Activation('relu'))\n",
    "    model.add(Dense(1))\n",
    "    model.add(Activation('sigmoid'))\n",
    "    model.compile(loss='binary_crossentropy', optimizer='rmsprop', metrics=['accuracy'])\n",
    "    model.fit(X_train, y_train, batch_size=32, nb_epoch=10, verbose=1,\n",
    "              validation_data=(X_test, y_test))\n",
    "    return model"
   ]
  },
  {
   "cell_type": "code",
   "execution_count": 256,
   "metadata": {
    "collapsed": false
   },
   "outputs": [
    {
     "name": "stdout",
     "output_type": "stream",
     "text": [
      "(154, 200, 10, 10)\n",
      "(154, 200, 1)\n",
      "(30800, 10, 10)\n",
      "(30800,)\n",
      "(25000, 10, 10)\n",
      "(25000,)\n",
      "(5800, 10, 10)\n",
      "(5800,)\n"
     ]
    }
   ],
   "source": [
    "(X_train, y_train, X_test, y_test) = prepare_classification_rnn()"
   ]
  },
  {
   "cell_type": "code",
   "execution_count": 257,
   "metadata": {
    "collapsed": false
   },
   "outputs": [
    {
     "name": "stdout",
     "output_type": "stream",
     "text": [
      "Train on 25000 samples, validate on 5800 samples\n",
      "Epoch 1/10\n",
      "25000/25000 [==============================] - 3s - loss: 0.5723 - acc: 0.6835 - val_loss: 0.2734 - val_acc: 0.8684\n",
      "Epoch 2/10\n",
      "25000/25000 [==============================] - 3s - loss: 0.3064 - acc: 0.8696 - val_loss: 0.1082 - val_acc: 0.9517\n",
      "Epoch 3/10\n",
      "25000/25000 [==============================] - 4s - loss: 0.2087 - acc: 0.9188 - val_loss: 0.1021 - val_acc: 0.9574\n",
      "Epoch 4/10\n",
      "25000/25000 [==============================] - 3s - loss: 0.1715 - acc: 0.9345 - val_loss: 0.1116 - val_acc: 0.9522\n",
      "Epoch 5/10\n",
      "25000/25000 [==============================] - 3s - loss: 0.1492 - acc: 0.9449 - val_loss: 0.1906 - val_acc: 0.9150\n",
      "Epoch 6/10\n",
      "25000/25000 [==============================] - 3s - loss: 0.1338 - acc: 0.9495 - val_loss: 0.0795 - val_acc: 0.9662\n",
      "Epoch 7/10\n",
      "25000/25000 [==============================] - 3s - loss: 0.1206 - acc: 0.9550 - val_loss: 0.0989 - val_acc: 0.9571\n",
      "Epoch 8/10\n",
      "25000/25000 [==============================] - 3s - loss: 0.1101 - acc: 0.9588 - val_loss: 0.0687 - val_acc: 0.9803\n",
      "Epoch 9/10\n",
      "25000/25000 [==============================] - 3s - loss: 0.1017 - acc: 0.9613 - val_loss: 0.1192 - val_acc: 0.9509\n",
      "Epoch 10/10\n",
      "25000/25000 [==============================] - 3s - loss: 0.0934 - acc: 0.9655 - val_loss: 0.0681 - val_acc: 0.9764\n"
     ]
    }
   ],
   "source": [
    "model = train_window_classification_rnn(X_train, y_train, X_test, y_test)"
   ]
  },
  {
   "cell_type": "code",
   "execution_count": 258,
   "metadata": {
    "collapsed": false
   },
   "outputs": [
    {
     "name": "stdout",
     "output_type": "stream",
     "text": [
      "[1 1 1 ..., 0 1 1]\n",
      "[[ 472   26]\n",
      " [ 111 5191]]\n"
     ]
    },
    {
     "data": {
      "image/png": "[encoded data removed]",
      "text/plain": [
       "<matplotlib.figure.Figure at 0x130d8b8d0>"
      ]
     },
     "metadata": {},
     "output_type": "display_data"
    }
   ],
   "source": [
    "results = model.predict(X_test)[:,0]\n",
    "results = np.where(results>.5, 1, 0)\n",
    "print (results)\n",
    "#only plotting the first 400 because otherwise you can't see anything\n",
    "preds = results[:400]\n",
    "reals = y_test[:400]\n",
    "\n",
    "plt.plot(preds, color='red')\n",
    "plt.plot(reals, color='blue')\n",
    "print(confusion_matrix(y_test, results))\n",
    "#Compare to all zeros"
   ]
  },
  {
   "cell_type": "code",
   "execution_count": null,
   "metadata": {
    "collapsed": true
   },
   "outputs": [],
   "source": [
    "#EVERYTHING BELOW HERE IS NOT WORKING / OLD CODE"
   ]
  },
  {
   "cell_type": "code",
   "execution_count": null,
   "metadata": {
    "collapsed": false
   },
   "outputs": [],
   "source": [
    "#given train_split, train the model using the first train_split examples\n",
    "#which = 0 for the normal prediction\n",
    "#which = 1 for crazy_flags\n",
    "#which = 2 for oned_flags\n",
    "def train_stage1(train_split, which):\n",
    "    #First model: Using the sliding window\n",
    "    hists = []\n",
    "    model = Sequential()\n",
    "    model.add(GRU(128,activation='relu', input_shape=(crazy.shape[2:])))\n",
    "    if which == 2:\n",
    "        model.add(Dense(1))\n",
    "    else:\n",
    "        model.add(Dense(d))\n",
    "    model.compile(loss='mean_squared_error', optimizer='adam')\n",
    "    for i in range(train_split): # for each patient\n",
    "        this_patient_x = crazy[:,i,:,:]\n",
    "        if which == 0:\n",
    "            this_patient_y = crazy_y[:,i,:]\n",
    "        elif which == 1:\n",
    "            this_patient_y = crazy_flags[:,i,:]\n",
    "        else:\n",
    "            this_patient_y = oned_flags[:,i,0:1]\n",
    "        for ii in range(crazy.shape[0]): #for each window of time sequence\n",
    "            this_patient_x_i = np.array([this_patient_x[ii,:,:]])\n",
    "            if which == 2:\n",
    "                this_patient_y_i = np.array([this_patient_y[ii,0:1]])\n",
    "            else:\n",
    "                this_patient_y_i = np.array([this_patient_y[ii,:]])\n",
    "            hists.append(model.train_on_batch(this_patient_x_i, this_patient_y_i))\n",
    "        model.reset_states()\n",
    "    return hists, model"
   ]
  },
  {
   "cell_type": "code",
   "execution_count": null,
   "metadata": {
    "collapsed": true
   },
   "outputs": [],
   "source": [
    "def train_stage2(train_split):\n",
    "    #second model: trading a stateful rnn using this batch thing\n",
    "    hists = []\n",
    "    model = Sequential()\n",
    "    \n",
    "    X  # this is our input data, of shape (32, 21, 16)\n",
    "    # we will feed it to our model in sequences of length 10\n",
    "\n",
    "    model = Sequential()\n",
    "    model.add(LSTM(32, batch_input_shape=(32, 10, 16), stateful=True))\n",
    "    model.add(Dense(16, activation='softmax'))\n",
    "\n",
    "    model.compile(optimizer='rmsprop', loss='categorical_crossentropy')\n",
    "\n",
    "    # we train the network to predict the 11th timestep given the first 10:\n",
    "    model.train_on_batch(X[:, :10, :], np.reshape(X[:, 10, :], (32, 16)))\n",
    "\n",
    "    # the state of the network has changed. We can feed the follow-up sequences:\n",
    "    model.train_on_batch(X[:, 10:20, :], np.reshape(X[:, 20, :], (32, 16)))\n",
    "\n",
    "    # let's reset the states of the LSTM layer:\n",
    "    model.reset_states()\n",
    "\n",
    "    # another way to do it in this case:\n",
    "    model.layers[0].reset_states()\n",
    "    \n",
    "    model.add(GRU(128,activation='relu', input_shape=(crazy.shape[2:])))\n",
    "    model.compile(loss='mean_squared_error', optimizer='adam')\n",
    "    for i in range(train_split): # for each patient\n",
    "        this_patient_x = crazy[:,i,:,:]\n",
    "        if which == 0:\n",
    "            this_patient_y = crazy_y[:,i,:]\n",
    "        elif which == 1:\n",
    "            this_patient_y = crazy_flags[:,i,:]\n",
    "        else:\n",
    "            this_patient_y = oned_flags[:,i,0:1]\n",
    "        for ii in range(crazy.shape[0]): #for each window of time sequence\n",
    "            this_patient_x_i = np.array([this_patient_x[ii,:,:]])\n",
    "            if which == 2:\n",
    "                this_patient_y_i = np.array([this_patient_y[ii,0:1]])\n",
    "            else:\n",
    "                this_patient_y_i = np.array([this_patient_y[ii,:]])\n",
    "            hists.append(model.train_on_batch(this_patient_x_i, this_patient_y_i))\n",
    "        model.reset_states()\n",
    "    return hists, model"
   ]
  },
  {
   "cell_type": "code",
   "execution_count": null,
   "metadata": {
    "collapsed": false
   },
   "outputs": [],
   "source": [
    "oned_flags.shape\n",
    "(hists, model) = train_stage1(10, 2)"
   ]
  },
  {
   "cell_type": "code",
   "execution_count": null,
   "metadata": {
    "collapsed": false
   },
   "outputs": [],
   "source": [
    "#compare the y between them\n",
    "print(oned_flags[:, 0, 0:1].shape)\n",
    "#this is y for normal stuff\n",
    "print(crazy_y[:,i,:][0,:].shape)\n",
    "#this is y for the newest one\n",
    "print((oned_flags[:,0,0:1][0,0:1]).shape)\n",
    "#compare the x between them\n"
   ]
  },
  {
   "cell_type": "code",
   "execution_count": null,
   "metadata": {
    "collapsed": false
   },
   "outputs": [],
   "source": [
    "print(crazy[:, patient_num, :, :].shape)\n",
    "print((crazy[:,0,:,:][0,:,:]).shape)\n",
    "\n",
    "crazy[:,patient_num,:,:]"
   ]
  },
  {
   "cell_type": "code",
   "execution_count": null,
   "metadata": {
    "collapsed": false
   },
   "outputs": [],
   "source": [
    "#evaluate the model on the last 10 samples\n",
    "#which = 0 for the normal prediction\n",
    "#which = 1 for crazy_flags\n",
    "#which = 2 for oned_flags\n",
    "def evaluate(model, which):\n",
    "    evaluations = []\n",
    "    for i in range(n-10, n): # for each patient not in the training\n",
    "        this_patient_x = crazy[:,i,:,:]\n",
    "        if which == 0:\n",
    "            this_patient_y = crazy_y[:,i,:]\n",
    "        elif which == 1:\n",
    "            this_patient_y = crazy_flags[:,i,:]\n",
    "        else:\n",
    "            this_patient_y = oned_flags[:,i,:]\n",
    "        for ii in range(crazy.shape[0]): #for each window of time sequence\n",
    "            this_patient_x_i = np.array([this_patient_x[ii,:,:]])            \n",
    "            this_patient_y_i = np.array([this_patient_y[ii,:]])\n",
    "            evaluations.append(model.evaluate(this_patient_x_i, this_patient_y_i, verbose=0))\n",
    "        model.reset_states()\n",
    "    return evaluations"
   ]
  },
  {
   "cell_type": "code",
   "execution_count": null,
   "metadata": {
    "collapsed": false,
    "scrolled": true
   },
   "outputs": [],
   "source": [
    "histories = {}\n",
    "all_evals = {}\n",
    "which = 2\n",
    "for training_amount in range(10, 100, 10):\n",
    "    #Train the model\n",
    "    (hists, model) = train_stage1(training_amount, which)\n",
    "\n",
    "    #Check training results of the data\n",
    "    hist_values = []\n",
    "    for hist in hists:\n",
    "        hist_values.append(hist.item())\n",
    "    #plt.plot(hist_values)\n",
    "    histories[training_amount] = (sum(hist_values)/float(len(hist_values)))\n",
    "\n",
    "    #Check evaluation of the model\n",
    "    evaluations = evaluate(model, which)\n",
    "    #plt.plot(evaluations)\n",
    "    all_evals[training_amount] = (sum(evaluations)/float(len(evaluations)))"
   ]
  },
  {
   "cell_type": "code",
   "execution_count": null,
   "metadata": {
    "collapsed": false,
    "scrolled": true
   },
   "outputs": [],
   "source": [
    "print(histories)\n",
    "for key in histories:\n",
    "    print (key)\n",
    "    print (histories[key] - all_evals[key])\n",
    "print(all_evals)"
   ]
  },
  {
   "cell_type": "code",
   "execution_count": null,
   "metadata": {
    "collapsed": false
   },
   "outputs": [],
   "source": [
    "#Visually check the prediction of the first reading versus what's actually happening\n",
    "#(178, 200, 20, 10)\n",
    "\n",
    "#choose a patient\n",
    "patient_num = randint(101,199)\n",
    "#choose a measuremen\n",
    "measurement = 0\n",
    "\n",
    "#Get what we are aiming for\n",
    "if which == 0:\n",
    "    reality = crazy_y[:, patient_num, measurement]\n",
    "elif which == 1:\n",
    "    reality = crazy_flags[:, patient_num, measurement]\n",
    "elif which == 2:\n",
    "    reality = oned_flags[:, patient_num, 0:1]\n",
    "#Get the predictions\n",
    "model.reset_states()\n",
    "predictions = model.predict(crazy[:,patient_num,:,:])\n",
    "\n",
    "#Plot prediction versus reality\n",
    "plt.plot(predictions[:,0], color='red')\n",
    "plt.plot(reality, color='blue')"
   ]
  },
  {
   "cell_type": "code",
   "execution_count": null,
   "metadata": {
    "collapsed": false
   },
   "outputs": [],
   "source": [
    "#Compute MSE\n",
    "dif = reality - predictions[:,0]\n",
    "dif = dif ** 2\n",
    "print (\"MSE:\")\n",
    "print (sum(dif)/178)\n",
    "\n",
    "#Plot the difference\n",
    "plt.plot(dif)"
   ]
  },
  {
   "cell_type": "markdown",
   "metadata": {
    "collapsed": true
   },
   "source": []
  }
 ],
 "metadata": {
  "kernelspec": {
   "display_name": "Python 3",
   "language": "python",
   "name": "python3"
  },
  "language_info": {
   "codemirror_mode": {
    "name": "ipython",
    "version": 3
   },
   "file_extension": ".py",
   "mimetype": "text/x-python",
   "name": "python",
   "nbconvert_exporter": "python",
   "pygments_lexer": "ipython3",
   "version": "3.5.1"
  }
 },
 "nbformat": 4,
 "nbformat_minor": 0
}
