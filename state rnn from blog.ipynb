{
 "cells": [
  {
   "cell_type": "code",
   "execution_count": 1,
   "metadata": {
    "collapsed": false
   },
   "outputs": [
    {
     "name": "stderr",
     "output_type": "stream",
     "text": [
      "Using Theano backend.\n",
      "/Users/williamcai/anaconda3/lib/python3.5/site-packages/ipykernel/__main__.py:31: VisibleDeprecationWarning: using a non-integer number instead of an integer will result in an error in the future\n"
     ]
    },
    {
     "name": "stdout",
     "output_type": "stream",
     "text": [
      "X_train shape: (1000, 20)\n",
      "X_test shape: (200, 20)\n"
     ]
    },
    {
     "name": "stderr",
     "output_type": "stream",
     "text": [
      "/Users/williamcai/anaconda3/lib/python3.5/site-packages/ipykernel/__main__.py:35: VisibleDeprecationWarning: using a non-integer number instead of an integer will result in an error in the future\n"
     ]
    }
   ],
   "source": [
    "from __future__ import print_function\n",
    "\n",
    "import numpy as np\n",
    "from keras.callbacks import Callback\n",
    "from keras.layers import Dense\n",
    "from keras.layers import LSTM\n",
    "from keras.models import Sequential\n",
    "from numpy.random import choice\n",
    "\n",
    "USE_SEQUENCES = False\n",
    "USE_STATELESS_MODEL = False\n",
    "\n",
    "# you can all the four possible combinations\n",
    "# USE_SEQUENCES and USE_STATELESS_MODEL\n",
    "\n",
    "max_len = 20\n",
    "batch_size = 1\n",
    "\n",
    "N_train = 1000\n",
    "N_test = 200\n",
    "\n",
    "X_train = np.zeros((N_train, max_len))\n",
    "X_test = np.zeros((N_test, max_len))\n",
    "\n",
    "print('X_train shape:', X_train.shape)\n",
    "print('X_test shape:', X_test.shape)\n",
    "\n",
    "y_train = np.zeros((N_train, 1))\n",
    "y_test = np.zeros((N_test, 1))\n",
    "\n",
    "one_indexes = choice(a=N_train, size=N_train / 2, replace=False)\n",
    "X_train[one_indexes, 0] = 1\n",
    "y_train[one_indexes] = 1\n",
    "\n",
    "one_indexes = choice(a=N_test, size=N_test / 2, replace=False)\n",
    "X_test[one_indexes, 0] = 1\n",
    "y_test[one_indexes] = 1\n"
   ]
  },
  {
   "cell_type": "code",
   "execution_count": 2,
   "metadata": {
    "collapsed": true
   },
   "outputs": [],
   "source": [
    "class ResetStatesCallback(Callback):\n",
    "    def __init__(self):\n",
    "        self.counter = 0\n",
    "\n",
    "    def on_batch_begin(self, batch, logs={}):\n",
    "        if self.counter % max_len == 0:\n",
    "            self.model.reset_states()\n",
    "        self.counter += 1\n"
   ]
  },
  {
   "cell_type": "code",
   "execution_count": 3,
   "metadata": {
    "collapsed": false
   },
   "outputs": [
    {
     "name": "stdout",
     "output_type": "stream",
     "text": [
      "sequences_x_train shape: (1000, 20, 1)\n",
      "sequences_y_train shape: (1000, 1)\n",
      "sequences_x_test shape: (200, 20, 1)\n",
      "sequences_y_test shape: (200, 1)\n"
     ]
    }
   ],
   "source": [
    "if USE_SEQUENCES:\n",
    "    max_len = 10\n",
    "    X_train, y_train = prepare_sequences(X_train, y_train, window_length=max_len)\n",
    "    X_test, y_test = prepare_sequences(X_test, y_test, window_length=max_len)\n",
    "\n",
    "X_train = np.expand_dims(X_train, axis=2)  # input dim is 1. Timesteps is the sequence length.\n",
    "X_test = np.expand_dims(X_test, axis=2)\n",
    "\n",
    "print('sequences_x_train shape:', X_train.shape)\n",
    "print('sequences_y_train shape:', y_train.shape)\n",
    "\n",
    "print('sequences_x_test shape:', X_test.shape)\n",
    "print('sequences_y_test shape:', y_test.shape)"
   ]
  },
  {
   "cell_type": "code",
   "execution_count": 4,
   "metadata": {
    "collapsed": true
   },
   "outputs": [],
   "source": [
    "if USE_STATELESS_MODEL:\n",
    "    print('Build STATELESS model...')\n",
    "    model = Sequential()\n",
    "    model.add(LSTM(10, input_shape=(max_len, 1), return_sequences=False))\n",
    "    model.add(Dense(1, activation='sigmoid'))\n",
    "\n",
    "    model.compile(loss='binary_crossentropy', optimizer='adam', metrics=['accuracy'])\n",
    "\n",
    "    print('Train...')\n",
    "    model.fit(X_train, y_train, batch_size=batch_size, nb_epoch=15,\n",
    "              validation_data=(X_test, y_test), shuffle=False, callbacks=[ResetStatesCallback()])\n",
    "\n",
    "    score, acc = model.evaluate(X_test, y_test, batch_size=batch_size, verbose=0)\n",
    "    print('___________________________________')\n",
    "    print('Test score:', score)\n",
    "    print('Test accuracy:', acc)"
   ]
  },
  {
   "cell_type": "code",
   "execution_count": 5,
   "metadata": {
    "collapsed": false
   },
   "outputs": [
    {
     "name": "stdout",
     "output_type": "stream",
     "text": [
      "Build STATEFUL model...\n"
     ]
    }
   ],
   "source": [
    "# STATEFUL MODEL\n",
    "print('Build STATEFUL model...')\n",
    "model = Sequential()\n",
    "model.add(LSTM(10,\n",
    "               batch_input_shape=(1, 1, 1), return_sequences=False,\n",
    "               stateful=True))\n",
    "model.add(Dense(1, activation='sigmoid'))\n",
    "\n",
    "model.compile(loss='binary_crossentropy', optimizer='adam', metrics=['accuracy'])\n",
    "\n",
    "x = np.expand_dims(np.expand_dims(X_train.flatten(), axis=1), axis=1)\n",
    "y = np.expand_dims(np.array([[v] * max_len for v in y_train.flatten()]).flatten(), axis=1)\n",
    "\n"
   ]
  },
  {
   "cell_type": "code",
   "execution_count": 6,
   "metadata": {
    "collapsed": false
   },
   "outputs": [
    {
     "data": {
      "text/plain": [
       "(20000, 1)"
      ]
     },
     "execution_count": 6,
     "metadata": {},
     "output_type": "execute_result"
    }
   ],
   "source": [
    "y.shape"
   ]
  },
  {
   "cell_type": "code",
   "execution_count": 7,
   "metadata": {
    "collapsed": false
   },
   "outputs": [
    {
     "name": "stdout",
     "output_type": "stream",
     "text": [
      "Epoch 1/3\n",
      "20000/20000 [==============================] - 57s - loss: 0.0337 - acc: 0.9890    \n",
      "Epoch 2/3\n",
      "20000/20000 [==============================] - 51s - loss: 2.4814e-07 - acc: 1.0000    \n",
      "Epoch 3/3\n",
      "20000/20000 [==============================] - 54s - loss: 1.1921e-07 - acc: 1.0000    \n"
     ]
    },
    {
     "data": {
      "text/plain": [
       "<keras.callbacks.History at 0x10edfe828>"
      ]
     },
     "execution_count": 7,
     "metadata": {},
     "output_type": "execute_result"
    }
   ],
   "source": [
    "model.fit(x,\n",
    "          y,\n",
    "          callbacks=[ResetStatesCallback()],\n",
    "          batch_size=1,\n",
    "          shuffle=False, nb_epoch=3)"
   ]
  },
  {
   "cell_type": "code",
   "execution_count": 8,
   "metadata": {
    "collapsed": false
   },
   "outputs": [
    {
     "name": "stdout",
     "output_type": "stream",
     "text": [
      "Train...\n",
      "accuracy training = 1.0\n",
      "loss training = 1.1920930376163597e-07\n",
      "___________________________________\n",
      "accuracy testing = 1.0\n",
      "loss testing = 1.1920930376163597e-07\n",
      "___________________________________\n",
      "accuracy training = 1.0\n",
      "loss training = 1.1920930376163597e-07\n",
      "___________________________________\n",
      "accuracy testing = 1.0\n",
      "loss testing = 1.1920930376163597e-07\n",
      "___________________________________\n",
      "accuracy training = 1.0\n",
      "loss training = 1.1920930376163597e-07\n",
      "___________________________________\n",
      "accuracy testing = 1.0\n",
      "loss testing = 1.1920930376163597e-07\n",
      "___________________________________\n",
      "accuracy training = 1.0\n",
      "loss training = 1.1920930376163597e-07\n",
      "___________________________________\n",
      "accuracy testing = 1.0\n",
      "loss testing = 1.1920930376163597e-07\n",
      "___________________________________\n",
      "accuracy training = 1.0\n",
      "loss training = 1.1920930376163597e-07\n",
      "___________________________________\n",
      "accuracy testing = 1.0\n",
      "loss testing = 1.1920930376163597e-07\n",
      "___________________________________\n",
      "accuracy training = 1.0\n",
      "loss training = 1.1920930376163597e-07\n",
      "___________________________________\n",
      "accuracy testing = 1.0\n",
      "loss testing = 1.1920930376163597e-07\n",
      "___________________________________\n",
      "accuracy training = 1.0\n",
      "loss training = 1.1920930376163597e-07\n",
      "___________________________________\n",
      "accuracy testing = 1.0\n",
      "loss testing = 1.1920930376163597e-07\n",
      "___________________________________\n",
      "accuracy training = 1.0\n",
      "loss training = 1.1920930376163597e-07\n",
      "___________________________________\n",
      "accuracy testing = 1.0\n",
      "loss testing = 1.1920930376163597e-07\n",
      "___________________________________\n",
      "accuracy training = 1.0\n",
      "loss training = 1.1920930376163597e-07\n",
      "___________________________________\n",
      "accuracy testing = 1.0\n",
      "loss testing = 1.1920930376163597e-07\n",
      "___________________________________\n",
      "accuracy training = 1.0\n",
      "loss training = 1.1920930376163597e-07\n",
      "___________________________________\n",
      "accuracy testing = 1.0\n",
      "loss testing = 1.1920930376163597e-07\n",
      "___________________________________\n",
      "accuracy training = 1.0\n",
      "loss training = 1.1920930376163597e-07\n",
      "___________________________________\n",
      "accuracy testing = 1.0\n",
      "loss testing = 1.1920930376163597e-07\n",
      "___________________________________\n",
      "accuracy training = 1.0\n",
      "loss training = 1.1920930376163597e-07\n",
      "___________________________________\n",
      "accuracy testing = 1.0\n",
      "loss testing = 1.1920930376163597e-07\n",
      "___________________________________\n",
      "accuracy training = 1.0\n",
      "loss training = 1.1920930376163597e-07\n",
      "___________________________________\n",
      "accuracy testing = 1.0\n",
      "loss testing = 1.1920930376163597e-07\n",
      "___________________________________\n",
      "accuracy training = 1.0\n",
      "loss training = 1.1920930376163597e-07\n",
      "___________________________________\n",
      "accuracy testing = 1.0\n",
      "loss testing = 1.1920930376163597e-07\n",
      "___________________________________\n",
      "accuracy training = 1.0\n",
      "loss training = 1.1920930376163597e-07\n",
      "___________________________________\n",
      "accuracy testing = 1.0\n",
      "loss testing = 1.1920930376163597e-07\n",
      "___________________________________\n"
     ]
    }
   ],
   "source": [
    "\n",
    "print('Train...')\n",
    "for epoch in range(15):\n",
    "    mean_tr_acc = []\n",
    "    mean_tr_loss = []\n",
    "    for i in range(len(X_train)):\n",
    "        y_true = y_train[i]\n",
    "        for j in range(max_len):\n",
    "            tr_loss, tr_acc = model.train_on_batch(np.expand_dims(np.expand_dims(X_train[i][j], axis=1), axis=1),\n",
    "                                                   np.array([y_true]))\n",
    "            mean_tr_acc.append(tr_acc)\n",
    "            mean_tr_loss.append(tr_loss)\n",
    "        model.reset_states()\n",
    "\n",
    "    print('accuracy training = {}'.format(np.mean(mean_tr_acc)))\n",
    "    print('loss training = {}'.format(np.mean(mean_tr_loss)))\n",
    "    print('___________________________________')\n",
    "\n",
    "    mean_te_acc = []\n",
    "    mean_te_loss = []\n",
    "    for i in range(len(X_test)):\n",
    "        for j in range(max_len):\n",
    "            te_loss, te_acc = model.test_on_batch(np.expand_dims(np.expand_dims(X_test[i][j], axis=1), axis=1),\n",
    "                                                  y_test[i])\n",
    "            mean_te_acc.append(te_acc)\n",
    "            mean_te_loss.append(te_loss)\n",
    "        model.reset_states()\n",
    "\n",
    "        for j in range(max_len):\n",
    "            y_pred = model.predict_on_batch(np.expand_dims(np.expand_dims(X_test[i][j], axis=1), axis=1))\n",
    "        model.reset_states()\n",
    "\n",
    "    print('accuracy testing = {}'.format(np.mean(mean_te_acc)))\n",
    "    print('loss testing = {}'.format(np.mean(mean_te_loss)))\n",
    "    print('___________________________________')"
   ]
  },
  {
   "cell_type": "code",
   "execution_count": null,
   "metadata": {
    "collapsed": true
   },
   "outputs": [],
   "source": [
    "import numpy as np\n",
    "\n",
    "def prepare_sequences(x_train, y_train, window_length):\n",
    "    windows = []\n",
    "    windows_y = []\n",
    "    for i, sequence in enumerate(x_train):\n",
    "        len_seq = len(sequence)\n",
    "        for window_start in range(0, len_seq - window_length + 1):\n",
    "            window_end = window_start + window_length\n",
    "            window = sequence[window_start:window_end]\n",
    "            windows.append(window)\n",
    "            windows_y.append(y_train[i])\n",
    "    return np.array(windows), np.array(windows_y)"
   ]
  },
  {
   "cell_type": "code",
   "execution_count": null,
   "metadata": {
    "collapsed": true
   },
   "outputs": [],
   "source": []
  }
 ],
 "metadata": {
  "kernelspec": {
   "display_name": "Python 3",
   "language": "python",
   "name": "python3"
  },
  "language_info": {
   "codemirror_mode": {
    "name": "ipython",
    "version": 3
   },
   "file_extension": ".py",
   "mimetype": "text/x-python",
   "name": "python",
   "nbconvert_exporter": "python",
   "pygments_lexer": "ipython3",
   "version": "3.5.1"
  }
 },
 "nbformat": 4,
 "nbformat_minor": 0
}
