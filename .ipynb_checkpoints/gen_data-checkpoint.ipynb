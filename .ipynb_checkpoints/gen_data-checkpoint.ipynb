{
 "cells": [
  {
   "cell_type": "code",
   "execution_count": 539,
   "metadata": {
    "collapsed": false
   },
   "outputs": [],
   "source": [
    "%matplotlib inline\n",
    "from time import sleep\n",
    "import numpy as np \n",
    "import scipy\n",
    "import os\n",
    "import sys\n",
    "import matplotlib.pyplot as plt\n",
    "\n",
    "from sklearn.ensemble import RandomForestRegressor, RandomForestClassifier\n",
    "from sklearn.metrics import mean_absolute_error, confusion_matrix\n",
    "\n",
    "from random import randint\n",
    "from keras.models import Sequential\n",
    "from keras.layers import Dense\n",
    "from keras.layers import GRU\n",
    "from keras.optimizers import RMSprop\n",
    "\n",
    "from keras.layers.core import Dense, Dropout, Activation, Flatten\n",
    "\n",
    "\n",
    "#Questions:\n",
    "#question: Is there a better way to do the input than just flattening?\n",
    "\n",
    "\n",
    "#Completed tasks\n",
    "#Write a normal neural net to try to predict the next measurement with the window method in multiple dimensions (train_baseline_multi)\n",
    "#Write a deep neural net to try to predict the next measurement with the window method in multiple dimensions (train_baseline_multi)\n",
    "#Write a Random Forest Regressor to try to predict the next measurement with the window method in multiple dimensions (train_forest)\n",
    "#Consolidate the pipeline - shape data / create models / validate models \n",
    "#Sliding window with a RNN to predict the next value (train_window_regression_rnn)\n",
    "#Random Forest Classifier to classify FLAG at the next measurement(30 trees, 30 features)\n",
    "#Neural Network Classifier (1 layer, 512 nodes) \n",
    "#Deep Neural Network Classifier (2 layers, 512 nodes) \n",
    "#Recurrent Neural Network for classification using window\n",
    "#Complete all the quizzes and submit a request for MIMIC\n",
    "#Sanity check for A = B\n",
    "    #If it doesn't work, make sure the rolling/unrolling is correct\n",
    "    #Switch order of patient and timestep\n",
    "    #If it still doesn't work, try only feeding it one previous instead of 20 previous\n",
    "#--------------------------------------------------------------------------------------------------------------------------------------------\n",
    "#Completed today\n",
    "#Fix the regression\n",
    "    #Make it so that the matrix predictor gives 0 error\n",
    "    #Make the other regressors make sense\n",
    "\n",
    "#--------------------------------------------------------------------------------------------------------------------------------------------\n",
    "#TODO \n",
    "#Fix the flags crap\n",
    "#Investigate if any of our methods can actually predict in the time period where the flag is being flipped: e.g. the previous window has both 0 and 1\n",
    "#Sequence to sequence rnn regression\n",
    "#Sequence to sequence rnn classification\n",
    "#Write a normal neural net to take prediction from rnn and predict 1/0\n",
    "#Add a stateful try where the rnn is an autoencoder ( http://papers.nips.cc/paper/5346-sequence-to-sequence-learning-with-neural-networks.pdf) and then another LSTM"
   ]
  },
  {
   "cell_type": "code",
   "execution_count": 540,
   "metadata": {
    "collapsed": false
   },
   "outputs": [
    {
     "name": "stdout",
     "output_type": "stream",
     "text": [
      "8.33980975239 8.33980975239\n"
     ]
    }
   ],
   "source": [
    "# fix random seed for reproducibility\n",
    "np.random.seed(7)\n",
    "V=np.random.randn(10)\n",
    "print(V.dot(V), np.linalg.norm(V)**2)"
   ]
  },
  {
   "cell_type": "code",
   "execution_count": 541,
   "metadata": {
    "collapsed": false
   },
   "outputs": [],
   "source": [
    "#Setup for the generation of the data \n",
    "d=10 ##number of measurements per patient per time unit\n",
    "k=2 ##complexity of the time series\n",
    "n=200 ## number of patients\n",
    "\n",
    "len_sequence = 1\n",
    "epochs = 25\n",
    "\n",
    "T=175 ## amount of time measured for each patient (also batch size)\n",
    "sigmaw=0.2##randomness\n",
    "#d by d\n",
    "U=np.random.randn(d,k).dot(np.random.randn(k,d))\n",
    "betashift=np.random.randn(d)/np.sqrt(d)  ## used to check when we switch to the other time series\n",
    "#normalized U\n",
    "A=0.9*U/np.linalg.norm(U,ord=2)\n",
    "#V is also d by d\n",
    "V=np.random.randn(d,k).dot(np.random.randn(k,d))\n",
    "#normalized V\n",
    "B=.9*V/np.linalg.norm(V,ord=2)\n",
    "B = A #Set B = A for sanity checking\n",
    "X = np.zeros((n,T,d)) #this represents n patients, in d-dimensions, for T time-steps\n",
    "\n",
    "flags = np.zeros(X.shape)\n",
    "flag=1"
   ]
  },
  {
   "cell_type": "code",
   "execution_count": 542,
   "metadata": {
    "collapsed": false
   },
   "outputs": [],
   "source": [
    "#Generate the data, fill in X, Y, flags\n",
    "flag_switches = []\n",
    "for j in range(n): #for each patient\n",
    "    X[j,0,:]=np.random.randn(d)/np.sqrt(d)\n",
    "    flag=1\n",
    "    flag_switch = -1\n",
    "    for i in range(1,T): #for each time      \n",
    "        if flag and ((X[j,i-1,:].dot(betashift))>.5): ##if flag was true and we go above a certain threshold, then set flag=0\n",
    "            flag=0\n",
    "            flag_switch = i\n",
    "            flag_switches.append(flag_switch)\n",
    "        ## we can think of flag has flag==1 means not critical, flag==0 means critical\n",
    "        if flag:\n",
    "            X[j,i,:]=A.dot(X[j,i-1,:])+sigmaw*np.random.randn(d)\n",
    "        else:\n",
    "            X[j,i,:]=B.dot(X[j,i-1,:])+sigmaw*np.random.randn(d)\n",
    "    for i in range(0, T - len_sequence): #for each time\n",
    "        if flag_switch >= 0: #if the flag ever switched\n",
    "            flags[j, i, :] = (flag_switch <= i + len_sequence) * np.ones(flags[j,i,:].shape) #set flags            \n",
    "## X is a n by d by T tensor\n",
    "## Y is just X but shifted one backwards\n",
    "## n represents independent trials (think of them as patients or time periods for patients separated)\n",
    "## T represents the time horizon (how long we observe a patient, for now T is the same for everybody, but we can imagine that changing)\n",
    "## d is the number of measurements that we have per patient per time."
   ]
  },
  {
   "cell_type": "code",
   "execution_count": 543,
   "metadata": {
    "collapsed": false
   },
   "outputs": [
    {
     "data": {
      "text/plain": [
       "array([[[ -1.17816963e-11,   1.52805855e-12,  -3.22767990e-11, ...,\n",
       "          -2.95892656e-11,  -5.11310346e-11,   5.69690160e-12]],\n",
       "\n",
       "       [[ -2.53464026e-11,   3.28809799e-12,  -6.94357551e-11, ...,\n",
       "          -6.36538704e-11,  -1.09996135e-10,   1.22572400e-11]],\n",
       "\n",
       "       [[ -2.67036052e-11,   3.46315151e-12,  -7.31572805e-11, ...,\n",
       "          -6.70659285e-11,  -1.15891513e-10,   1.29117869e-11]],\n",
       "\n",
       "       ..., \n",
       "       [[ -1.93819180e-11,   2.51519804e-12,  -5.30932665e-11, ...,\n",
       "          -4.86718581e-11,  -8.41073448e-11,   9.37438028e-12]],\n",
       "\n",
       "       [[  1.61846998e-11,  -2.10001107e-12,   4.43360451e-11, ...,\n",
       "           4.06440234e-11,   7.02346370e-11,  -7.82749547e-12]],\n",
       "\n",
       "       [[  8.49078924e-12,  -1.10162157e-12,   2.32597857e-11, ...,\n",
       "           2.13228943e-11,   3.68468235e-11,  -4.10630167e-12]]])"
      ]
     },
     "execution_count": 543,
     "metadata": {},
     "output_type": "execute_result"
    }
   ],
   "source": [
    "X.shape\n",
    "X[:, 19:20]"
   ]
  },
  {
   "cell_type": "code",
   "execution_count": 544,
   "metadata": {
    "collapsed": false,
    "scrolled": false
   },
   "outputs": [
    {
     "name": "stdout",
     "output_type": "stream",
     "text": [
      "(174, 200, 1, 10)\n",
      "(174, 200, 10)\n",
      "(173, 200, 10)\n",
      "(173, 200, 1)\n"
     ]
    }
   ],
   "source": [
    "#Format the data with a window of length len_sequence\n",
    "\n",
    "crazy = np.array([X[:, i: i + len_sequence] for i in range(X.shape[1] - len_sequence)])\n",
    "crazy_y = np.array([X[:, i + len_sequence] for i in range(X.shape[1] - len_sequence)])\n",
    "crazy_flags = np.array([flags[:, i] for i in range(X.shape[1] - len_sequence - 1)])\n",
    "oned_flags = np.array([flags[:, i, 0:1] for i in range(X.shape[1] - len_sequence - 1)])\n",
    "\n",
    "print(crazy.shape)\n",
    "print(crazy_y.shape)\n",
    "print(crazy_flags.shape)\n",
    "print(oned_flags.shape)"
   ]
  },
  {
   "cell_type": "code",
   "execution_count": 545,
   "metadata": {
    "collapsed": false
   },
   "outputs": [
    {
     "name": "stdout",
     "output_type": "stream",
     "text": [
      "patient 1: \n",
      "[ -2.73375739e-01  -1.53600527e-02   6.53648448e-03  -1.68700269e-03\n",
      "   5.78020097e-04  -1.67407673e-04   5.34434522e-05  -1.61120928e-05\n",
      "   5.02233429e-06  -1.53519960e-06   4.74665180e-07  -1.45782350e-07\n",
      "   4.49491083e-08  -1.38274938e-08   4.25938657e-09  -1.31102406e-09\n",
      "   4.03713360e-10  -1.24285156e-10   3.82677952e-11  -1.17816963e-11\n",
      "   3.62748380e-12  -1.11683631e-12   3.43859900e-13  -1.05869017e-13\n",
      "   3.25955982e-14  -1.00356946e-14   3.08984610e-15  -9.51318003e-16\n",
      "   2.92896985e-16  -9.01786856e-17   2.77647016e-17  -8.54834526e-18\n",
      "   2.63191062e-18  -8.10326789e-19   2.49487775e-19  -7.68136382e-20\n",
      "   2.36497964e-20  -7.28142655e-21   2.24184479e-21  -6.90231237e-22\n",
      "   2.12512108e-22  -6.54293712e-23   2.01447469e-23  -6.20227307e-24\n",
      "   1.90958921e-24  -5.87934601e-25   1.81016469e-25  -5.57323245e-26\n",
      "   1.71591680e-26  -5.28305697e-27   1.62657601e-27  -5.00798974e-28\n",
      "   1.54188683e-28  -4.74724414e-29   1.46160707e-29  -4.50007450e-30\n",
      "   1.38550715e-30  -4.26577398e-31   1.31336945e-31  -4.04367253e-32\n",
      "   1.24498766e-32  -3.83313499e-33   1.18016623e-33  -3.63355929e-34\n",
      "   1.11871979e-34  -3.44437468e-35   1.06047261e-35  -3.26504014e-36\n",
      "   1.00525813e-36  -3.09504281e-37   9.52918436e-38  -2.93389656e-38\n",
      "   9.03303860e-39  -2.78114053e-39   8.56272512e-40  -2.63633789e-40\n",
      "   8.11689895e-41  -2.49907453e-41   7.69428513e-42  -2.36895791e-42\n",
      "   7.29367509e-43  -2.24561593e-43   6.91392318e-44  -2.12869587e-44\n",
      "   6.55394340e-45  -2.01786336e-45   6.21270630e-46  -1.91280145e-46\n",
      "   5.88923602e-47  -1.81320968e-47   5.58260752e-48  -1.71880325e-48\n",
      "   5.29194392e-49  -1.62931217e-49   5.01641399e-50  -1.54448053e-50\n",
      "   4.75522977e-51  -1.46406573e-51   4.50764435e-52  -1.38783780e-52\n",
      "   4.27294970e-53  -1.31557875e-53   4.05047464e-54  -1.24708193e-54\n",
      "   3.83958294e-55  -1.18215146e-55   3.63967152e-56  -1.12060165e-56\n",
      "   3.45016867e-57  -1.06225650e-57   3.27053246e-58  -1.00694913e-58\n",
      "   3.10024917e-59  -9.54521399e-60   2.93883185e-60  -9.04823363e-61\n",
      "   2.78581886e-61  -8.57712901e-62   2.64077263e-62  -8.13055289e-63\n",
      "   2.50327837e-63  -7.70722816e-64   2.37294288e-64  -7.30594423e-65\n",
      "   2.24939342e-65  -6.92555351e-66   2.13227668e-66  -6.56496819e-67\n",
      "   2.02125773e-67  -6.22315707e-68   1.91601909e-68  -5.89914267e-69\n",
      "   1.81625979e-69  -5.59199837e-70   1.72169455e-70  -5.30084582e-71\n",
      "   1.63205294e-71  -5.02485240e-72   1.54707860e-72  -4.76322884e-73\n",
      "   1.46652853e-73  -4.51522694e-74   1.39017237e-74  -4.28013749e-75\n",
      "   1.31779176e-75  -4.05728819e-76   1.24917972e-76  -3.84604174e-77\n",
      "   1.18414003e-77  -3.64579403e-78   1.12248669e-78  -3.45597241e-79\n",
      "   1.06404338e-79  -3.27603402e-80   1.00864298e-80  -3.10546429e-81\n",
      "   9.56127058e-82  -2.94377544e-82   9.06345422e-83  -2.79050506e-83\n",
      "   8.59155712e-84  -2.64521484e-84   8.14422979e-85  -2.50748929e-85\n",
      "   7.72019296e-86  -2.37693455e-86   7.31823401e-87  -2.25317727e-87\n",
      "   6.93720341e-88  -2.13586352e-88   6.57601152e-89  -2.02465781e-89\n",
      "   6.23362543e-90  -1.91924214e-90   5.90906598e-91]\n",
      "crazy_patient 1: \n",
      "[[ -2.73375739e-01]\n",
      " [ -1.53600527e-02]\n",
      " [  6.53648448e-03]\n",
      " [ -1.68700269e-03]\n",
      " [  5.78020097e-04]\n",
      " [ -1.67407673e-04]\n",
      " [  5.34434522e-05]\n",
      " [ -1.61120928e-05]\n",
      " [  5.02233429e-06]\n",
      " [ -1.53519960e-06]\n",
      " [  4.74665180e-07]\n",
      " [ -1.45782350e-07]\n",
      " [  4.49491083e-08]\n",
      " [ -1.38274938e-08]\n",
      " [  4.25938657e-09]\n",
      " [ -1.31102406e-09]\n",
      " [  4.03713360e-10]\n",
      " [ -1.24285156e-10]\n",
      " [  3.82677952e-11]\n",
      " [ -1.17816963e-11]\n",
      " [  3.62748380e-12]\n",
      " [ -1.11683631e-12]\n",
      " [  3.43859900e-13]\n",
      " [ -1.05869017e-13]\n",
      " [  3.25955982e-14]\n",
      " [ -1.00356946e-14]\n",
      " [  3.08984610e-15]\n",
      " [ -9.51318003e-16]\n",
      " [  2.92896985e-16]\n",
      " [ -9.01786856e-17]\n",
      " [  2.77647016e-17]\n",
      " [ -8.54834526e-18]\n",
      " [  2.63191062e-18]\n",
      " [ -8.10326789e-19]\n",
      " [  2.49487775e-19]\n",
      " [ -7.68136382e-20]\n",
      " [  2.36497964e-20]\n",
      " [ -7.28142655e-21]\n",
      " [  2.24184479e-21]\n",
      " [ -6.90231237e-22]\n",
      " [  2.12512108e-22]\n",
      " [ -6.54293712e-23]\n",
      " [  2.01447469e-23]\n",
      " [ -6.20227307e-24]\n",
      " [  1.90958921e-24]\n",
      " [ -5.87934601e-25]\n",
      " [  1.81016469e-25]\n",
      " [ -5.57323245e-26]\n",
      " [  1.71591680e-26]\n",
      " [ -5.28305697e-27]\n",
      " [  1.62657601e-27]\n",
      " [ -5.00798974e-28]\n",
      " [  1.54188683e-28]\n",
      " [ -4.74724414e-29]\n",
      " [  1.46160707e-29]\n",
      " [ -4.50007450e-30]\n",
      " [  1.38550715e-30]\n",
      " [ -4.26577398e-31]\n",
      " [  1.31336945e-31]\n",
      " [ -4.04367253e-32]\n",
      " [  1.24498766e-32]\n",
      " [ -3.83313499e-33]\n",
      " [  1.18016623e-33]\n",
      " [ -3.63355929e-34]\n",
      " [  1.11871979e-34]\n",
      " [ -3.44437468e-35]\n",
      " [  1.06047261e-35]\n",
      " [ -3.26504014e-36]\n",
      " [  1.00525813e-36]\n",
      " [ -3.09504281e-37]\n",
      " [  9.52918436e-38]\n",
      " [ -2.93389656e-38]\n",
      " [  9.03303860e-39]\n",
      " [ -2.78114053e-39]\n",
      " [  8.56272512e-40]\n",
      " [ -2.63633789e-40]\n",
      " [  8.11689895e-41]\n",
      " [ -2.49907453e-41]\n",
      " [  7.69428513e-42]\n",
      " [ -2.36895791e-42]\n",
      " [  7.29367509e-43]\n",
      " [ -2.24561593e-43]\n",
      " [  6.91392318e-44]\n",
      " [ -2.12869587e-44]\n",
      " [  6.55394340e-45]\n",
      " [ -2.01786336e-45]\n",
      " [  6.21270630e-46]\n",
      " [ -1.91280145e-46]\n",
      " [  5.88923602e-47]\n",
      " [ -1.81320968e-47]\n",
      " [  5.58260752e-48]\n",
      " [ -1.71880325e-48]\n",
      " [  5.29194392e-49]\n",
      " [ -1.62931217e-49]\n",
      " [  5.01641399e-50]\n",
      " [ -1.54448053e-50]\n",
      " [  4.75522977e-51]\n",
      " [ -1.46406573e-51]\n",
      " [  4.50764435e-52]\n",
      " [ -1.38783780e-52]\n",
      " [  4.27294970e-53]\n",
      " [ -1.31557875e-53]\n",
      " [  4.05047464e-54]\n",
      " [ -1.24708193e-54]\n",
      " [  3.83958294e-55]\n",
      " [ -1.18215146e-55]\n",
      " [  3.63967152e-56]\n",
      " [ -1.12060165e-56]\n",
      " [  3.45016867e-57]\n",
      " [ -1.06225650e-57]\n",
      " [  3.27053246e-58]\n",
      " [ -1.00694913e-58]\n",
      " [  3.10024917e-59]\n",
      " [ -9.54521399e-60]\n",
      " [  2.93883185e-60]\n",
      " [ -9.04823363e-61]\n",
      " [  2.78581886e-61]\n",
      " [ -8.57712901e-62]\n",
      " [  2.64077263e-62]\n",
      " [ -8.13055289e-63]\n",
      " [  2.50327837e-63]\n",
      " [ -7.70722816e-64]\n",
      " [  2.37294288e-64]\n",
      " [ -7.30594423e-65]\n",
      " [  2.24939342e-65]\n",
      " [ -6.92555351e-66]\n",
      " [  2.13227668e-66]\n",
      " [ -6.56496819e-67]\n",
      " [  2.02125773e-67]\n",
      " [ -6.22315707e-68]\n",
      " [  1.91601909e-68]\n",
      " [ -5.89914267e-69]\n",
      " [  1.81625979e-69]\n",
      " [ -5.59199837e-70]\n",
      " [  1.72169455e-70]\n",
      " [ -5.30084582e-71]\n",
      " [  1.63205294e-71]\n",
      " [ -5.02485240e-72]\n",
      " [  1.54707860e-72]\n",
      " [ -4.76322884e-73]\n",
      " [  1.46652853e-73]\n",
      " [ -4.51522694e-74]\n",
      " [  1.39017237e-74]\n",
      " [ -4.28013749e-75]\n",
      " [  1.31779176e-75]\n",
      " [ -4.05728819e-76]\n",
      " [  1.24917972e-76]\n",
      " [ -3.84604174e-77]\n",
      " [  1.18414003e-77]\n",
      " [ -3.64579403e-78]\n",
      " [  1.12248669e-78]\n",
      " [ -3.45597241e-79]\n",
      " [  1.06404338e-79]\n",
      " [ -3.27603402e-80]\n",
      " [  1.00864298e-80]\n",
      " [ -3.10546429e-81]\n",
      " [  9.56127058e-82]\n",
      " [ -2.94377544e-82]\n",
      " [  9.06345422e-83]\n",
      " [ -2.79050506e-83]\n",
      " [  8.59155712e-84]\n",
      " [ -2.64521484e-84]\n",
      " [  8.14422979e-85]\n",
      " [ -2.50748929e-85]\n",
      " [  7.72019296e-86]\n",
      " [ -2.37693455e-86]\n",
      " [  7.31823401e-87]\n",
      " [ -2.25317727e-87]\n",
      " [  6.93720341e-88]\n",
      " [ -2.13586352e-88]\n",
      " [  6.57601152e-89]\n",
      " [ -2.02465781e-89]\n",
      " [  6.23362543e-90]\n",
      " [ -1.91924214e-90]]\n",
      "crazy_patient 1 y : \n",
      "[ -1.53600527e-02   6.53648448e-03  -1.68700269e-03   5.78020097e-04\n",
      "  -1.67407673e-04   5.34434522e-05  -1.61120928e-05   5.02233429e-06\n",
      "  -1.53519960e-06   4.74665180e-07  -1.45782350e-07   4.49491083e-08\n",
      "  -1.38274938e-08   4.25938657e-09  -1.31102406e-09   4.03713360e-10\n",
      "  -1.24285156e-10   3.82677952e-11  -1.17816963e-11   3.62748380e-12\n",
      "  -1.11683631e-12   3.43859900e-13  -1.05869017e-13   3.25955982e-14\n",
      "  -1.00356946e-14   3.08984610e-15  -9.51318003e-16   2.92896985e-16\n",
      "  -9.01786856e-17   2.77647016e-17  -8.54834526e-18   2.63191062e-18\n",
      "  -8.10326789e-19   2.49487775e-19  -7.68136382e-20   2.36497964e-20\n",
      "  -7.28142655e-21   2.24184479e-21  -6.90231237e-22   2.12512108e-22\n",
      "  -6.54293712e-23   2.01447469e-23  -6.20227307e-24   1.90958921e-24\n",
      "  -5.87934601e-25   1.81016469e-25  -5.57323245e-26   1.71591680e-26\n",
      "  -5.28305697e-27   1.62657601e-27  -5.00798974e-28   1.54188683e-28\n",
      "  -4.74724414e-29   1.46160707e-29  -4.50007450e-30   1.38550715e-30\n",
      "  -4.26577398e-31   1.31336945e-31  -4.04367253e-32   1.24498766e-32\n",
      "  -3.83313499e-33   1.18016623e-33  -3.63355929e-34   1.11871979e-34\n",
      "  -3.44437468e-35   1.06047261e-35  -3.26504014e-36   1.00525813e-36\n",
      "  -3.09504281e-37   9.52918436e-38  -2.93389656e-38   9.03303860e-39\n",
      "  -2.78114053e-39   8.56272512e-40  -2.63633789e-40   8.11689895e-41\n",
      "  -2.49907453e-41   7.69428513e-42  -2.36895791e-42   7.29367509e-43\n",
      "  -2.24561593e-43   6.91392318e-44  -2.12869587e-44   6.55394340e-45\n",
      "  -2.01786336e-45   6.21270630e-46  -1.91280145e-46   5.88923602e-47\n",
      "  -1.81320968e-47   5.58260752e-48  -1.71880325e-48   5.29194392e-49\n",
      "  -1.62931217e-49   5.01641399e-50  -1.54448053e-50   4.75522977e-51\n",
      "  -1.46406573e-51   4.50764435e-52  -1.38783780e-52   4.27294970e-53\n",
      "  -1.31557875e-53   4.05047464e-54  -1.24708193e-54   3.83958294e-55\n",
      "  -1.18215146e-55   3.63967152e-56  -1.12060165e-56   3.45016867e-57\n",
      "  -1.06225650e-57   3.27053246e-58  -1.00694913e-58   3.10024917e-59\n",
      "  -9.54521399e-60   2.93883185e-60  -9.04823363e-61   2.78581886e-61\n",
      "  -8.57712901e-62   2.64077263e-62  -8.13055289e-63   2.50327837e-63\n",
      "  -7.70722816e-64   2.37294288e-64  -7.30594423e-65   2.24939342e-65\n",
      "  -6.92555351e-66   2.13227668e-66  -6.56496819e-67   2.02125773e-67\n",
      "  -6.22315707e-68   1.91601909e-68  -5.89914267e-69   1.81625979e-69\n",
      "  -5.59199837e-70   1.72169455e-70  -5.30084582e-71   1.63205294e-71\n",
      "  -5.02485240e-72   1.54707860e-72  -4.76322884e-73   1.46652853e-73\n",
      "  -4.51522694e-74   1.39017237e-74  -4.28013749e-75   1.31779176e-75\n",
      "  -4.05728819e-76   1.24917972e-76  -3.84604174e-77   1.18414003e-77\n",
      "  -3.64579403e-78   1.12248669e-78  -3.45597241e-79   1.06404338e-79\n",
      "  -3.27603402e-80   1.00864298e-80  -3.10546429e-81   9.56127058e-82\n",
      "  -2.94377544e-82   9.06345422e-83  -2.79050506e-83   8.59155712e-84\n",
      "  -2.64521484e-84   8.14422979e-85  -2.50748929e-85   7.72019296e-86\n",
      "  -2.37693455e-86   7.31823401e-87  -2.25317727e-87   6.93720341e-88\n",
      "  -2.13586352e-88   6.57601152e-89  -2.02465781e-89   6.23362543e-90\n",
      "  -1.91924214e-90   5.90906598e-91]\n",
      "[ -2.92187373e-01   3.18724108e-01  -5.50049446e-02   3.80104559e-01\n",
      "  -4.95502639e-01   2.12761207e-02   3.65409086e-01  -9.84134953e-02\n",
      "   3.43563063e-01  -1.22254324e-01   6.18703544e-02   1.36883289e-02\n",
      "   5.16393435e-03   5.78356360e-02   5.42351208e-02  -3.73169986e-02\n",
      "  -7.88778971e-02   1.00596812e-02  -4.55860079e-02   3.11720853e-03\n",
      "   2.00637614e-02   2.40033908e-03   9.36011084e-04   1.96737899e-02\n",
      "   1.89771136e-02  -1.55746937e-02  -2.79237779e-02   6.52470030e-04\n",
      "  -1.78034502e-02   2.30797812e-03   6.23602816e-03   7.13527392e-04\n",
      "   2.79138951e-04   6.12947328e-03   5.92045193e-03  -4.89618995e-03\n",
      "  -8.71641030e-03   1.61159458e-04  -5.58168748e-03   7.38037464e-04\n",
      "   1.93390943e-03   2.20736880e-04   8.63700954e-05   1.90110865e-03\n",
      "   1.83641227e-03  -1.51932278e-03  -2.70374515e-03   4.92855419e-05\n",
      "  -1.73178820e-03   2.29223729e-04   5.99669824e-04   6.84374245e-05\n",
      "   2.67785095e-05   5.89502974e-04   5.69443898e-04  -4.71129500e-04\n",
      "  -8.38392140e-04   1.52709806e-05  -5.37009122e-04   7.10838180e-05\n",
      "   1.85945410e-04   2.12209020e-05   8.30341630e-06   1.82792944e-04\n",
      "   1.76573068e-04  -1.46087928e-04  -2.59968515e-04   4.73502743e-06\n",
      "  -1.66515824e-04   2.20417413e-05   5.76578677e-05   6.58016509e-06\n",
      "   2.57471862e-06   5.66803539e-05   5.47516979e-05  -4.52988822e-05\n",
      "  -8.06109215e-05   1.46823193e-06  -5.16331545e-05   6.83469469e-06\n",
      "   1.78785250e-05   2.04037451e-06   7.98367545e-07   1.75754179e-05\n",
      "   1.69773812e-05  -1.40462565e-05  -2.49957973e-05   4.55268623e-07\n",
      "  -1.60103847e-05   2.11929900e-06   5.54376475e-06   6.32678383e-07\n",
      "   2.47557439e-07   5.44977747e-06   5.26433851e-06  -4.35545673e-06\n",
      "  -7.75068527e-06   1.41169483e-07  -4.96449269e-06   6.57151253e-07]\n"
     ]
    }
   ],
   "source": [
    "patient_1 = X[0, :, 0]\n",
    "print(\"patient 1: \\n\" + str(patient_1))\n",
    "crazy_patient_1 = crazy[:,0,:,0]\n",
    "print(\"crazy_patient 1: \\n\" + str(crazy_patient_1))\n",
    "crazy_patient_1_y = crazy_y[:,0,0]\n",
    "print(\"crazy_patient 1 y : \\n\" + str(crazy_patient_1_y))\n",
    "print(X_train[0])"
   ]
  },
  {
   "cell_type": "code",
   "execution_count": 546,
   "metadata": {
    "collapsed": false
   },
   "outputs": [],
   "source": [
    "def prepare_baseline():\n",
    "    #Reshape data and flatten for baseline models\n",
    "    rolled_x = crazy[:,:,:,:]\n",
    "    rolled_y = crazy_y[:,:,:]\n",
    "\n",
    "    print (rolled_x.shape)\n",
    "    print (rolled_y.shape)\n",
    "\n",
    "    unrolled_x = np.zeros((crazy.shape[0]*crazy.shape[1], crazy.shape[2] * crazy.shape[3]))\n",
    "    unrolled_y = np.zeros((crazy.shape[0] * crazy.shape[1], crazy.shape[3]))\n",
    "\n",
    "    for i in range(crazy.shape[1]): #patients\n",
    "        for j in range(crazy.shape[0]): #time steps\n",
    "            unrolled_y[i * crazy.shape[0] + j] = rolled_y[j,i,:]            \n",
    "            for l in range(crazy.shape[2]):#len_sequence\n",
    "                for k in range(crazy.shape[3]): #dimensionality\n",
    "                    unrolled_x[i * crazy.shape[0] + j][l*crazy.shape[3] + k] = rolled_x[j,i,l,k]\n",
    "\n",
    "    print (unrolled_x.shape)\n",
    "    print (unrolled_y.shape)\n",
    "    transition_point = int(unrolled_x.shape[0] * .8)\n",
    "    \n",
    "    X_train = np.array(unrolled_x[:transition_point,:])\n",
    "    y_train = np.array(unrolled_y[:transition_point])\n",
    "    X_test = np.array(unrolled_x[transition_point:,:])\n",
    "    y_test = np.array(unrolled_y[transition_point:])\n",
    "\n",
    "    print (X_train.shape)\n",
    "    print (y_train.shape)\n",
    "    print (X_test.shape)\n",
    "    print (y_test.shape)\n",
    "    \n",
    "    return (X_train, y_train, X_test, y_test)"
   ]
  },
  {
   "cell_type": "code",
   "execution_count": 547,
   "metadata": {
    "collapsed": false
   },
   "outputs": [
    {
     "name": "stdout",
     "output_type": "stream",
     "text": [
      "(174, 200, 1, 10)\n",
      "(174, 200, 10)\n",
      "(34800, 10)\n",
      "(34800, 10)\n",
      "(27840, 10)\n",
      "(27840, 10)\n",
      "(6960, 10)\n",
      "(6960, 10)\n"
     ]
    }
   ],
   "source": [
    "(X_train, y_train, X_test, y_test) = prepare_baseline()\n"
   ]
  },
  {
   "cell_type": "code",
   "execution_count": 548,
   "metadata": {
    "collapsed": false
   },
   "outputs": [],
   "source": [
    "#Given a model that uses the flattened window, this will print its mean squared error and plot it's results versus reality\n",
    "def analyze(model, X_test, y_test):\n",
    "    plt.clf()\n",
    "    results = model.predict(X_test)\n",
    "    \n",
    "    manual = np.zeros(y_test.shape)\n",
    "    for i in range(manual.shape[0]):\n",
    "        manual[i,:] = A.dot(X_test[i,-d:])\n",
    "        \n",
    "    preds = results[int(manual.shape[0]*.5):(int(manual.shape[0]*.5) + 10),:]\n",
    "    reals = y_test[int(manual.shape[0]*.5):(int(manual.shape[0]*.5) + 10),:]\n",
    "    manuals = manual[int(manual.shape[0]*.5):(int(manual.shape[0]*.5) + 10), :]\n",
    "    \n",
    "    plt.plot(preds, color='red')\n",
    "    plt.plot(reals, color='blue')\n",
    "    plt.plot(manuals, color='yellow')\n",
    "    \n",
    "    all_z = np.zeros(y_test.shape)\n",
    "    \n",
    "    print(\"all_zero error: \" + str(mean_absolute_error(y_test, all_z)))\n",
    "    print(\"smart_predictor error: \" + str(mean_absolute_error(y_test, manual)))\n",
    "    print(\"Actual Error: \" + str(mean_absolute_error(y_test, results)))"
   ]
  },
  {
   "cell_type": "code",
   "execution_count": 549,
   "metadata": {
    "collapsed": true
   },
   "outputs": [],
   "source": [
    "#Given a model that uses the flattened window for classification,this will print its confusion matrix and plot it's results versus reality\n",
    "def analyze_classification(model, X_test, y_test):\n",
    "    results = model.predict(X_test)\n",
    "    #only plotting the first 400 because otherwise you can't see anything\n",
    "    preds = results[:400]\n",
    "    reals = y_test[:400]\n",
    "    plt.plot(preds, color='red')\n",
    "    plt.plot(reals, color='blue')\n",
    "    print(confusion_matrix(y_test, results))\n",
    "    #Compare to all zeros\n",
    "    \"\"\"\n",
    "    print(\"Try all zeros\")\n",
    "    zeros = np.zeros(5600)\n",
    "    print(confusion_matrix(y_test, zeros))\n",
    "    \"\"\""
   ]
  },
  {
   "cell_type": "code",
   "execution_count": 550,
   "metadata": {
    "collapsed": false
   },
   "outputs": [],
   "source": [
    "def train_forest(X_train, y_train):\n",
    "    ne = [10]\n",
    "    nf = [10]\n",
    "    models = []\n",
    "    for e in ne:\n",
    "        for f in nf:   \n",
    "            model = RandomForestRegressor(n_estimators=e, max_features = f, verbose=2)\n",
    "            model.fit(X_train, y_train)\n",
    "            models.append(model)\n",
    "    return models"
   ]
  },
  {
   "cell_type": "code",
   "execution_count": 551,
   "metadata": {
    "collapsed": false
   },
   "outputs": [],
   "source": [
    "def train_baseline_nn(X_train, y_train, X_test, y_test):\n",
    "    #Baseline model in multiple dimensions: predicts the next measurement, all 10 dimensions\n",
    "    rms = RMSprop()\n",
    "    model = Sequential()\n",
    "    model.add(Dense(512, input_shape=(X_train.shape[1],)))\n",
    "    model.add(Activation('relu'))\n",
    "    model.add(Dropout(0.25))\n",
    "    model.add(Dense(y_train.shape[1]))\n",
    "    model.compile(loss='mean_squared_error', optimizer=rms)\n",
    "    model.fit(X_train, y_train, batch_size=32, nb_epoch=10, verbose=1,\n",
    "              validation_data=(X_test, y_test))\n",
    "    return model"
   ]
  },
  {
   "cell_type": "code",
   "execution_count": 552,
   "metadata": {
    "collapsed": false
   },
   "outputs": [],
   "source": [
    "def train_baseline_multi_deep(X_train, y_train, X_test, y_test):\n",
    "    #Baseline model in multiple dimensions: predicts the next measurement, all 10 dimensions\n",
    "    rms = RMSprop()\n",
    "    model = Sequential()\n",
    "    model.add(Dense(512, input_shape=(X_train.shape[1],)))\n",
    "    model.add(Activation('relu'))\n",
    "    model.add(Dropout(0.25))\n",
    "    model.add(Dense(512))\n",
    "    model.add(Activation('relu'))\n",
    "    model.add(Dropout(0.25))\n",
    "    model.add(Dense(y_train.shape[1]))\n",
    "    model.compile(loss='mean_squared_error', optimizer=rms)\n",
    "    model.fit(X_train, y_train, batch_size=32, nb_epoch=10, verbose=1,\n",
    "              validation_data=(X_test, y_test))\n",
    "    return model"
   ]
  },
  {
   "cell_type": "code",
   "execution_count": 554,
   "metadata": {
    "collapsed": false
   },
   "outputs": [
    {
     "name": "stdout",
     "output_type": "stream",
     "text": [
      "Train on 27840 samples, validate on 6960 samples\n",
      "Epoch 1/10\n",
      "27840/27840 [==============================] - 3s - loss: 8.0751e-05 - val_loss: 6.2569e-05\n",
      "Epoch 2/10\n",
      "27840/27840 [==============================] - 3s - loss: 6.2622e-05 - val_loss: 5.0168e-05\n",
      "Epoch 3/10\n",
      "27840/27840 [==============================] - 3s - loss: 4.9459e-05 - val_loss: 4.1560e-05\n",
      "Epoch 4/10\n",
      "27840/27840 [==============================] - 3s - loss: 4.1086e-05 - val_loss: 3.5064e-05\n",
      "Epoch 5/10\n",
      "27840/27840 [==============================] - 3s - loss: 3.6462e-05 - val_loss: 3.0209e-05\n",
      "Epoch 6/10\n",
      "27840/27840 [==============================] - 3s - loss: 3.0535e-05 - val_loss: 2.5844e-05\n",
      "Epoch 7/10\n",
      "27840/27840 [==============================] - 3s - loss: 2.7624e-05 - val_loss: 2.2483e-05\n",
      "Epoch 8/10\n",
      "27840/27840 [==============================] - 3s - loss: 2.3435e-05 - val_loss: 1.9770e-05\n",
      "Epoch 9/10\n",
      "27840/27840 [==============================] - 3s - loss: 2.1001e-05 - val_loss: 1.7557e-05\n",
      "Epoch 10/10\n",
      "27840/27840 [==============================] - 3s - loss: 1.9376e-05 - val_loss: 1.5602e-05\n",
      "Train on 27840 samples, validate on 6960 samples\n",
      "Epoch 1/10\n",
      "27840/27840 [==============================] - 8s - loss: 7.4052e-05 - val_loss: 5.7060e-05\n",
      "Epoch 2/10\n",
      "27840/27840 [==============================] - 8s - loss: 6.1701e-05 - val_loss: 4.7601e-05\n",
      "Epoch 3/10\n",
      "27840/27840 [==============================] - 9s - loss: 5.2225e-05 - val_loss: 4.3238e-05\n",
      "Epoch 4/10\n",
      "27840/27840 [==============================] - 8s - loss: 4.4454e-05 - val_loss: 3.6012e-05\n",
      "Epoch 5/10\n",
      "27840/27840 [==============================] - 8s - loss: 4.0819e-05 - val_loss: 3.1303e-05\n",
      "Epoch 6/10\n",
      "27840/27840 [==============================] - 9s - loss: 3.6571e-05 - val_loss: 2.7102e-05\n",
      "Epoch 7/10\n",
      "27840/27840 [==============================] - 8s - loss: 3.2779e-05 - val_loss: 2.3717e-05\n",
      "Epoch 8/10\n",
      "27840/27840 [==============================] - 8s - loss: 2.9152e-05 - val_loss: 2.0613e-05\n",
      "Epoch 9/10\n",
      "27840/27840 [==============================] - 8s - loss: 2.5651e-05 - val_loss: 1.7982e-05\n",
      "Epoch 10/10\n",
      "27840/27840 [==============================] - 8s - loss: 2.3327e-05 - val_loss: 1.5647e-05\n"
     ]
    }
   ],
   "source": [
    "#(X_train, y_train, X_test, y_test) = prepare_baseline()\n",
    "models = {}\n",
    "#tree_models = train_forest(X_train, y_train)\n",
    "models['tree'] = tree_models[0]\n",
    "models['nn'] = train_baseline_nn(X_train, y_train, X_test, y_test)\n",
    "models['deep_nn'] = train_baseline_multi_deep(X_train, y_train, X_test, y_test)\n"
   ]
  },
  {
   "cell_type": "code",
   "execution_count": 555,
   "metadata": {
    "collapsed": false
   },
   "outputs": [
    {
     "data": {
      "text/plain": [
       "(6960, 10)"
      ]
     },
     "execution_count": 555,
     "metadata": {},
     "output_type": "execute_result"
    }
   ],
   "source": [
    "X_test.shape"
   ]
  },
  {
   "cell_type": "code",
   "execution_count": 556,
   "metadata": {
    "collapsed": false
   },
   "outputs": [
    {
     "name": "stdout",
     "output_type": "stream",
     "text": [
      "all_zero error: 0.000600289122713\n",
      "smart_predictor error: 0.0\n",
      "Actual Error: 0.000654325663573\n"
     ]
    },
    {
     "data": {
      "image/png": "[encoded data removed]",
      "text/plain": [
       "<matplotlib.figure.Figure at 0x1370c1080>"
      ]
     },
     "metadata": {},
     "output_type": "display_data"
    }
   ],
   "source": [
    "analyze(models['nn'], X_test, y_test)"
   ]
  },
  {
   "cell_type": "code",
   "execution_count": 238,
   "metadata": {
    "collapsed": false
   },
   "outputs": [],
   "source": [
    "def prepare_rnn():\n",
    "    #Reshape data and flatten for baseline models\n",
    "    rolled_x = crazy[:,:,:,:]\n",
    "    rolled_y = crazy_y[:,:,:]\n",
    "\n",
    "    print (rolled_x.shape)\n",
    "    print (rolled_y.shape)\n",
    "\n",
    "    unrolled_x = np.zeros((crazy.shape[0] * crazy.shape[1], crazy.shape[2], crazy.shape[3]))\n",
    "    unrolled_y = np.zeros((crazy.shape[0] * crazy.shape[1], crazy.shape[3]))\n",
    "\n",
    "    #maybe we should switch the order of these (but also maybe not it depends how batching works)\n",
    "    for i in range(crazy.shape[0]): #time steps\n",
    "        for j in range(crazy.shape[1]): #patients\n",
    "            unrolled_x[i * crazy.shape[1] + j] = rolled_x[i,j,:,:]\n",
    "            unrolled_y[i * crazy.shape[1] + j] = rolled_y[i,j,:]            \n",
    "\n",
    "    print (unrolled_x.shape)\n",
    "    print (unrolled_y.shape)\n",
    "\n",
    "    X_train = np.array(unrolled_x[:25000,:])\n",
    "    y_train = np.array(unrolled_y[:25000])\n",
    "    X_test = np.array(unrolled_x[25000:,:])\n",
    "    y_test = np.array(unrolled_y[25000:])\n",
    "\n",
    "    print (X_train.shape)\n",
    "    print (y_train.shape)\n",
    "    print (X_test.shape)\n",
    "    print (y_test.shape)\n",
    "    \n",
    "    return (X_train, y_train, X_test, y_test)\n",
    "    "
   ]
  },
  {
   "cell_type": "code",
   "execution_count": 239,
   "metadata": {
    "collapsed": false
   },
   "outputs": [
    {
     "name": "stdout",
     "output_type": "stream",
     "text": [
      "(154, 200, 10, 10)\n",
      "(154, 200, 10)\n",
      "(30800, 10, 10)\n",
      "(30800, 10)\n",
      "(25000, 10, 10)\n",
      "(25000, 10)\n",
      "(5800, 10, 10)\n",
      "(5800, 10)\n"
     ]
    }
   ],
   "source": [
    "(X_train, y_train, X_test, y_test) = prepare_rnn()"
   ]
  },
  {
   "cell_type": "code",
   "execution_count": 240,
   "metadata": {
    "collapsed": true
   },
   "outputs": [],
   "source": [
    "#Predict the next measurement.  Trained using the window method.  A GRU + a Dense layer\n",
    "def train_window_regression_rnn(X_train, y_train, X_test, y_test):\n",
    "    model = Sequential()\n",
    "    model.add(GRU(16,activation='relu', input_dim = d))\n",
    "    model.add(Dense(128))\n",
    "    model.add(Dropout(0.5))\n",
    "    model.add(Activation('relu'))\n",
    "    model.add(Dense(d))\n",
    "    model.compile(loss='mean_squared_error', optimizer='adam')\n",
    "    model.fit(X_train, y_train, batch_size=32, nb_epoch=10, verbose=1,\n",
    "              validation_data=(X_test, y_test))\n",
    "    return model"
   ]
  },
  {
   "cell_type": "code",
   "execution_count": 241,
   "metadata": {
    "collapsed": false
   },
   "outputs": [
    {
     "name": "stdout",
     "output_type": "stream",
     "text": [
      "Train on 25000 samples, validate on 5800 samples\n",
      "Epoch 1/10\n",
      "25000/25000 [==============================] - 4s - loss: 0.0451 - val_loss: 0.0442\n",
      "Epoch 2/10\n",
      "25000/25000 [==============================] - 4s - loss: 0.0449 - val_loss: 0.0441\n",
      "Epoch 3/10\n",
      "25000/25000 [==============================] - 4s - loss: 0.0448 - val_loss: 0.0441\n",
      "Epoch 4/10\n",
      "25000/25000 [==============================] - 4s - loss: 0.0448 - val_loss: 0.0441\n",
      "Epoch 5/10\n",
      "25000/25000 [==============================] - 4s - loss: 0.0448 - val_loss: 0.0440\n",
      "Epoch 6/10\n",
      "25000/25000 [==============================] - 4s - loss: 0.0448 - val_loss: 0.0440\n",
      "Epoch 7/10\n",
      "25000/25000 [==============================] - 4s - loss: 0.0448 - val_loss: 0.0440\n",
      "Epoch 8/10\n",
      "25000/25000 [==============================] - 4s - loss: 0.0448 - val_loss: 0.0440\n",
      "Epoch 9/10\n",
      "25000/25000 [==============================] - 4s - loss: 0.0447 - val_loss: 0.0440\n",
      "Epoch 10/10\n",
      "25000/25000 [==============================] - 4s - loss: 0.0447 - val_loss: 0.0440\n"
     ]
    }
   ],
   "source": [
    "rnn_regressor = train_window_regression_rnn(X_train, y_train, X_test, y_test)"
   ]
  },
  {
   "cell_type": "code",
   "execution_count": 242,
   "metadata": {
    "collapsed": false
   },
   "outputs": [
    {
     "name": "stdout",
     "output_type": "stream",
     "text": [
      "All Zero error: 0.167545578338\n",
      "Actual Error: 0.167065875155\n"
     ]
    },
    {
     "data": {
      "image/png": "[encoded data removed]",
      "text/plain": [
       "<matplotlib.figure.Figure at 0x1332a8f28>"
      ]
     },
     "metadata": {},
     "output_type": "display_data"
    }
   ],
   "source": [
    "analyze(rnn_regressor, X_test, y_test)"
   ]
  },
  {
   "cell_type": "code",
   "execution_count": 243,
   "metadata": {
    "collapsed": true
   },
   "outputs": [],
   "source": [
    "def prepare_classification_rnn():\n",
    "    #Reshape data and flatten for baseline models\n",
    "    rolled_x = crazy[:,:,:,:]\n",
    "    rolled_y = oned_flags[:,:,:]\n",
    "\n",
    "    print (rolled_x.shape)\n",
    "    print (rolled_y.shape)\n",
    "\n",
    "    unrolled_x = np.zeros((crazy.shape[0] * crazy.shape[1], crazy.shape[2], crazy.shape[3]))\n",
    "    unrolled_y = np.zeros((crazy.shape[0] * crazy.shape[1]))\n",
    "\n",
    "    #maybe we should switch the order of these (but also maybe not it depends how batching works)\n",
    "    for i in range(crazy.shape[0]): #time steps\n",
    "        for j in range(crazy.shape[1]): #patients\n",
    "            unrolled_x[i * crazy.shape[1] + j] = rolled_x[i,j,:,:]\n",
    "            unrolled_y[i * crazy.shape[1] + j] = rolled_y[i,j,:]            \n",
    "\n",
    "    print (unrolled_x.shape)\n",
    "    print (unrolled_y.shape)\n",
    "\n",
    "    X_train = np.array(unrolled_x[:25000,:])\n",
    "    y_train = np.array(unrolled_y[:25000])\n",
    "    X_test = np.array(unrolled_x[25000:,:])\n",
    "    y_test = np.array(unrolled_y[25000:])\n",
    "\n",
    "    print (X_train.shape)\n",
    "    print (y_train.shape)\n",
    "    print (X_test.shape)\n",
    "    print (y_test.shape)\n",
    "    \n",
    "    return (X_train, y_train, X_test, y_test)\n",
    "    "
   ]
  },
  {
   "cell_type": "code",
   "execution_count": 244,
   "metadata": {
    "collapsed": false
   },
   "outputs": [],
   "source": [
    "def prepare_classification_baseline():\n",
    "    #Reshape data and flatten for baseline models\n",
    "    rolled_x = crazy[:,:,:,:]\n",
    "    rolled_y = oned_flags[:,:,:]\n",
    "\n",
    "    print (rolled_x.shape)\n",
    "    print (rolled_y.shape)\n",
    "    unrolled_x = np.zeros((crazy.shape[0]*crazy.shape[1], crazy.shape[2] * crazy.shape[3]))\n",
    "    unrolled_y = np.zeros((crazy.shape[0] * crazy.shape[1]))\n",
    "\n",
    "    for i in range(crazy.shape[0]): #time steps\n",
    "        for j in range(crazy.shape[1]): #patients\n",
    "            unrolled_y[i * crazy.shape[1] + j] = rolled_y[i,j,:]            \n",
    "            for l in range(crazy.shape[3]):#dimensionality of data measurements\n",
    "                for k in range(crazy.shape[2]): #len_sequence\n",
    "                    unrolled_x[i * crazy.shape[1] + j][k*crazy.shape[3] + l] = rolled_x[i,j,k,l]\n",
    "\n",
    "    print (unrolled_x.shape)\n",
    "    print (unrolled_y.shape)\n",
    "\n",
    "    X_train = np.array(unrolled_x[:25000,:])\n",
    "    y_train = np.array(unrolled_y[:25000])\n",
    "    X_test = np.array(unrolled_x[25000:,:])\n",
    "    y_test = np.array(unrolled_y[25000:])\n",
    "\n",
    "    print (X_train.shape)\n",
    "    print (y_train.shape)\n",
    "    print (X_test.shape)\n",
    "    print (y_test.shape)\n",
    "    \n",
    "    return (X_train, y_train, X_test, y_test)"
   ]
  },
  {
   "cell_type": "code",
   "execution_count": 245,
   "metadata": {
    "collapsed": true
   },
   "outputs": [],
   "source": [
    "def train_classification_forest(X_train, y_train):\n",
    "    ne = [10]\n",
    "    nf = [10]\n",
    "    models = []\n",
    "    for e in ne:\n",
    "        for f in nf:   \n",
    "            model = RandomForestClassifier(n_estimators=e, max_features = f, verbose=2)\n",
    "            model.fit(X_train, y_train)\n",
    "            models.append(model)\n",
    "    return models"
   ]
  },
  {
   "cell_type": "code",
   "execution_count": 246,
   "metadata": {
    "collapsed": false
   },
   "outputs": [
    {
     "name": "stdout",
     "output_type": "stream",
     "text": [
      "(154, 200, 10, 10)\n",
      "(154, 200, 1)\n",
      "(30800, 100)\n",
      "(30800,)\n",
      "(25000, 100)\n",
      "(25000,)\n",
      "(5800, 100)\n",
      "(5800,)\n"
     ]
    }
   ],
   "source": [
    "(X_train, y_train, X_test, y_test) = prepare_classification_baseline()"
   ]
  },
  {
   "cell_type": "code",
   "execution_count": 247,
   "metadata": {
    "collapsed": false
   },
   "outputs": [
    {
     "name": "stdout",
     "output_type": "stream",
     "text": [
      "building tree 1 of 10\n",
      "building tree 2 of 10\n",
      "building tree 3 of 10\n",
      "building tree 4 of 10\n",
      "building tree 5 of 10\n",
      "building tree 6 of 10\n",
      "building tree 7 of 10\n",
      "building tree 8 of 10\n",
      "building tree 9 of 10\n",
      "building tree 10 of 10"
     ]
    },
    {
     "name": "stderr",
     "output_type": "stream",
     "text": [
      "[Parallel(n_jobs=1)]: Done   1 out of   1 | elapsed:    0.5s remaining:    0.0s\n",
      "[Parallel(n_jobs=1)]: Done  10 out of  10 | elapsed:    5.8s finished\n"
     ]
    },
    {
     "name": "stdout",
     "output_type": "stream",
     "text": [
      "\n"
     ]
    }
   ],
   "source": [
    "models = train_classification_forest(X_train, y_train)"
   ]
  },
  {
   "cell_type": "code",
   "execution_count": 248,
   "metadata": {
    "collapsed": false
   },
   "outputs": [
    {
     "name": "stdout",
     "output_type": "stream",
     "text": [
      "num_estimators: 10\n",
      "Max Features: 10\n",
      "[[ 287  211]\n",
      " [1107 4195]]\n"
     ]
    },
    {
     "name": "stderr",
     "output_type": "stream",
     "text": [
      "[Parallel(n_jobs=1)]: Done   1 out of   1 | elapsed:    0.0s remaining:    0.0s\n",
      "[Parallel(n_jobs=1)]: Done  10 out of  10 | elapsed:    0.0s finished\n"
     ]
    },
    {
     "data": {
      "image/png": "[encoded data removed]",
      "text/plain": [
       "<matplotlib.figure.Figure at 0x110b21da0>"
      ]
     },
     "metadata": {},
     "output_type": "display_data"
    }
   ],
   "source": [
    "for m in models: \n",
    "    print (\"num_estimators: \" + str(m.n_estimators))\n",
    "    print (\"Max Features: \" + str(m.max_features))\n",
    "    analyze_classification(m, X_test, y_test)"
   ]
  },
  {
   "cell_type": "code",
   "execution_count": 249,
   "metadata": {
    "collapsed": true
   },
   "outputs": [],
   "source": [
    "def train_window_classification_nn(X_train, y_train, X_test, y_test):\n",
    "    #Baseline model in multiple dimensions: predicts the next measurement, all 10 dimensions\n",
    "    rms = RMSprop()\n",
    "    model = Sequential()\n",
    "    model.add(Dense(512, input_shape=(X_train.shape[1],)))\n",
    "    model.add(Activation('relu'))\n",
    "    model.add(Dropout(0.25))\n",
    "    model.add(Dense(1))\n",
    "    model.add(Activation('sigmoid'))\n",
    "    model.compile(loss='binary_crossentropy', optimizer='rmsprop', metrics=['accuracy'])\n",
    "    model.fit(X_train, y_train, batch_size=32, nb_epoch=10, verbose=1,\n",
    "              validation_data=(X_test, y_test))    \n",
    "    return model"
   ]
  },
  {
   "cell_type": "code",
   "execution_count": 250,
   "metadata": {
    "collapsed": false
   },
   "outputs": [
    {
     "name": "stdout",
     "output_type": "stream",
     "text": [
      "Train on 25000 samples, validate on 5800 samples\n",
      "Epoch 1/10\n",
      "25000/25000 [==============================] - 2s - loss: 0.5018 - acc: 0.7584 - val_loss: 0.2583 - val_acc: 0.9410\n",
      "Epoch 2/10\n",
      "25000/25000 [==============================] - 2s - loss: 0.2599 - acc: 0.9103 - val_loss: 0.1584 - val_acc: 0.9541\n",
      "Epoch 3/10\n",
      "25000/25000 [==============================] - 2s - loss: 0.1932 - acc: 0.9316 - val_loss: 0.1156 - val_acc: 0.9648\n",
      "Epoch 4/10\n",
      "25000/25000 [==============================] - 2s - loss: 0.1587 - acc: 0.9451 - val_loss: 0.0965 - val_acc: 0.9678\n",
      "Epoch 5/10\n",
      "25000/25000 [==============================] - 2s - loss: 0.1349 - acc: 0.9546 - val_loss: 0.0816 - val_acc: 0.9724\n",
      "Epoch 6/10\n",
      "25000/25000 [==============================] - 2s - loss: 0.1159 - acc: 0.9608 - val_loss: 0.0781 - val_acc: 0.9731\n",
      "Epoch 7/10\n",
      "25000/25000 [==============================] - 2s - loss: 0.1028 - acc: 0.9661 - val_loss: 0.0932 - val_acc: 0.9662\n",
      "Epoch 8/10\n",
      "25000/25000 [==============================] - 2s - loss: 0.0936 - acc: 0.9692 - val_loss: 0.0871 - val_acc: 0.9688\n",
      "Epoch 9/10\n",
      "25000/25000 [==============================] - 2s - loss: 0.0833 - acc: 0.9716 - val_loss: 0.0719 - val_acc: 0.9752\n",
      "Epoch 10/10\n",
      "25000/25000 [==============================] - 2s - loss: 0.0742 - acc: 0.9750 - val_loss: 0.0768 - val_acc: 0.9697\n"
     ]
    }
   ],
   "source": [
    "model = train_window_classification_nn(X_train, y_train, X_test, y_test)"
   ]
  },
  {
   "cell_type": "code",
   "execution_count": 251,
   "metadata": {
    "collapsed": false
   },
   "outputs": [
    {
     "name": "stdout",
     "output_type": "stream",
     "text": [
      "[1 1 1 ..., 0 1 1]\n",
      "[[ 466   32]\n",
      " [ 144 5158]]\n"
     ]
    },
    {
     "data": {
      "image/png": "[encoded data removed]",
      "text/plain": [
       "<matplotlib.figure.Figure at 0x1201ac630>"
      ]
     },
     "metadata": {},
     "output_type": "display_data"
    }
   ],
   "source": [
    "results = model.predict(X_test)[:,0]\n",
    "results = np.where(results>.5, 1, 0)\n",
    "print (results)\n",
    "#only plotting the first 400 because otherwise you can't see anything\n",
    "preds = results[:400]\n",
    "reals = y_test[:400]\n",
    "\n",
    "plt.plot(preds, color='red')\n",
    "plt.plot(reals, color='blue')\n",
    "print(confusion_matrix(y_test, results))\n",
    "#Compare to all zeros"
   ]
  },
  {
   "cell_type": "code",
   "execution_count": 252,
   "metadata": {
    "collapsed": true
   },
   "outputs": [],
   "source": [
    "def train_window_classification_deep_nn(X_train, y_train, X_test, y_test):\n",
    "    #Baseline model in multiple dimensions: predicts the next measurement, all 10 dimensions\n",
    "    rms = RMSprop()\n",
    "    model = Sequential()\n",
    "    model.add(Dense(512, input_shape=(X_train.shape[1],)))\n",
    "    model.add(Activation('relu'))\n",
    "    model.add(Dropout(0.25))\n",
    "    model.add(Dense(512))\n",
    "    model.add(Activation('relu'))\n",
    "    model.add(Dropout(0.25))\n",
    "    model.add(Dense(1))\n",
    "    model.add(Activation('sigmoid'))\n",
    "    model.compile(loss='binary_crossentropy', optimizer='rmsprop', metrics=['accuracy'])\n",
    "    model.fit(X_train, y_train, batch_size=32, nb_epoch=10, verbose=1,\n",
    "              validation_data=(X_test, y_test))    \n",
    "    return model"
   ]
  },
  {
   "cell_type": "code",
   "execution_count": 253,
   "metadata": {
    "collapsed": false
   },
   "outputs": [
    {
     "name": "stdout",
     "output_type": "stream",
     "text": [
      "Train on 25000 samples, validate on 5800 samples\n",
      "Epoch 1/10\n",
      "25000/25000 [==============================] - 7s - loss: 0.4015 - acc: 0.8068 - val_loss: 0.1269 - val_acc: 0.9581\n",
      "Epoch 2/10\n",
      "25000/25000 [==============================] - 7s - loss: 0.2010 - acc: 0.9226 - val_loss: 0.0885 - val_acc: 0.9660\n",
      "Epoch 3/10\n",
      "25000/25000 [==============================] - 7s - loss: 0.1514 - acc: 0.9425 - val_loss: 0.1045 - val_acc: 0.9555\n",
      "Epoch 4/10\n",
      "25000/25000 [==============================] - 7s - loss: 0.1190 - acc: 0.9548 - val_loss: 0.1036 - val_acc: 0.9564\n",
      "Epoch 5/10\n",
      "25000/25000 [==============================] - 7s - loss: 0.1014 - acc: 0.9618 - val_loss: 0.0849 - val_acc: 0.9641\n",
      "Epoch 6/10\n",
      "25000/25000 [==============================] - 7s - loss: 0.0882 - acc: 0.9666 - val_loss: 0.0999 - val_acc: 0.9602\n",
      "Epoch 7/10\n",
      "25000/25000 [==============================] - 7s - loss: 0.0744 - acc: 0.9718 - val_loss: 0.0862 - val_acc: 0.9652\n",
      "Epoch 8/10\n",
      "25000/25000 [==============================] - 7s - loss: 0.0685 - acc: 0.9752 - val_loss: 0.0805 - val_acc: 0.9664\n",
      "Epoch 9/10\n",
      "25000/25000 [==============================] - 7s - loss: 0.0604 - acc: 0.9771 - val_loss: 0.1074 - val_acc: 0.9588\n",
      "Epoch 10/10\n",
      "25000/25000 [==============================] - 7s - loss: 0.0517 - acc: 0.9805 - val_loss: 0.0624 - val_acc: 0.9767\n"
     ]
    }
   ],
   "source": [
    "model2 = train_window_classification_deep_nn(X_train, y_train, X_test, y_test)"
   ]
  },
  {
   "cell_type": "code",
   "execution_count": 254,
   "metadata": {
    "collapsed": false
   },
   "outputs": [
    {
     "name": "stdout",
     "output_type": "stream",
     "text": [
      "[1 1 1 ..., 0 1 1]\n",
      "[[ 446   52]\n",
      " [  83 5219]]\n"
     ]
    },
    {
     "data": {
      "image/png": "[encoded data removed]",
      "text/plain": [
       "<matplotlib.figure.Figure at 0x133521748>"
      ]
     },
     "metadata": {},
     "output_type": "display_data"
    }
   ],
   "source": [
    "results = model2.predict(X_test)[:,0]\n",
    "results = np.where(results>.5, 1, 0)\n",
    "print (results)\n",
    "#only plotting the first 400 because otherwise you can't see anything\n",
    "preds = results[:400]\n",
    "reals = y_test[:400]\n",
    "\n",
    "plt.plot(preds, color='red')\n",
    "plt.plot(reals, color='blue')\n",
    "print(confusion_matrix(y_test, results))\n",
    "#Compare to all zeros"
   ]
  },
  {
   "cell_type": "code",
   "execution_count": 255,
   "metadata": {
    "collapsed": false
   },
   "outputs": [],
   "source": [
    "#Predict the next measurement.  Trained using the window method.  A GRU + a Dense layer\n",
    "def train_window_classification_rnn(X_train, y_train, X_test, y_test):\n",
    "    model = Sequential()\n",
    "    model.add(GRU(16,activation='relu', input_dim = d))\n",
    "    model.add(Dense(128))\n",
    "    model.add(Dropout(0.5))\n",
    "    model.add(Activation('relu'))\n",
    "    model.add(Dense(1))\n",
    "    model.add(Activation('sigmoid'))\n",
    "    model.compile(loss='binary_crossentropy', optimizer='rmsprop', metrics=['accuracy'])\n",
    "    model.fit(X_train, y_train, batch_size=32, nb_epoch=10, verbose=1,\n",
    "              validation_data=(X_test, y_test))\n",
    "    return model"
   ]
  },
  {
   "cell_type": "code",
   "execution_count": 256,
   "metadata": {
    "collapsed": false
   },
   "outputs": [
    {
     "name": "stdout",
     "output_type": "stream",
     "text": [
      "(154, 200, 10, 10)\n",
      "(154, 200, 1)\n",
      "(30800, 10, 10)\n",
      "(30800,)\n",
      "(25000, 10, 10)\n",
      "(25000,)\n",
      "(5800, 10, 10)\n",
      "(5800,)\n"
     ]
    }
   ],
   "source": [
    "(X_train, y_train, X_test, y_test) = prepare_classification_rnn()"
   ]
  },
  {
   "cell_type": "code",
   "execution_count": 257,
   "metadata": {
    "collapsed": false
   },
   "outputs": [
    {
     "name": "stdout",
     "output_type": "stream",
     "text": [
      "Train on 25000 samples, validate on 5800 samples\n",
      "Epoch 1/10\n",
      "25000/25000 [==============================] - 3s - loss: 0.5723 - acc: 0.6835 - val_loss: 0.2734 - val_acc: 0.8684\n",
      "Epoch 2/10\n",
      "25000/25000 [==============================] - 3s - loss: 0.3064 - acc: 0.8696 - val_loss: 0.1082 - val_acc: 0.9517\n",
      "Epoch 3/10\n",
      "25000/25000 [==============================] - 4s - loss: 0.2087 - acc: 0.9188 - val_loss: 0.1021 - val_acc: 0.9574\n",
      "Epoch 4/10\n",
      "25000/25000 [==============================] - 3s - loss: 0.1715 - acc: 0.9345 - val_loss: 0.1116 - val_acc: 0.9522\n",
      "Epoch 5/10\n",
      "25000/25000 [==============================] - 3s - loss: 0.1492 - acc: 0.9449 - val_loss: 0.1906 - val_acc: 0.9150\n",
      "Epoch 6/10\n",
      "25000/25000 [==============================] - 3s - loss: 0.1338 - acc: 0.9495 - val_loss: 0.0795 - val_acc: 0.9662\n",
      "Epoch 7/10\n",
      "25000/25000 [==============================] - 3s - loss: 0.1206 - acc: 0.9550 - val_loss: 0.0989 - val_acc: 0.9571\n",
      "Epoch 8/10\n",
      "25000/25000 [==============================] - 3s - loss: 0.1101 - acc: 0.9588 - val_loss: 0.0687 - val_acc: 0.9803\n",
      "Epoch 9/10\n",
      "25000/25000 [==============================] - 3s - loss: 0.1017 - acc: 0.9613 - val_loss: 0.1192 - val_acc: 0.9509\n",
      "Epoch 10/10\n",
      "25000/25000 [==============================] - 3s - loss: 0.0934 - acc: 0.9655 - val_loss: 0.0681 - val_acc: 0.9764\n"
     ]
    }
   ],
   "source": [
    "model = train_window_classification_rnn(X_train, y_train, X_test, y_test)"
   ]
  },
  {
   "cell_type": "code",
   "execution_count": 258,
   "metadata": {
    "collapsed": false
   },
   "outputs": [
    {
     "name": "stdout",
     "output_type": "stream",
     "text": [
      "[1 1 1 ..., 0 1 1]\n",
      "[[ 472   26]\n",
      " [ 111 5191]]\n"
     ]
    },
    {
     "data": {
      "image/png": "[encoded data removed]",
      "text/plain": [
       "<matplotlib.figure.Figure at 0x130d8b8d0>"
      ]
     },
     "metadata": {},
     "output_type": "display_data"
    }
   ],
   "source": [
    "results = model.predict(X_test)[:,0]\n",
    "results = np.where(results>.5, 1, 0)\n",
    "print (results)\n",
    "#only plotting the first 400 because otherwise you can't see anything\n",
    "preds = results[:400]\n",
    "reals = y_test[:400]\n",
    "\n",
    "plt.plot(preds, color='red')\n",
    "plt.plot(reals, color='blue')\n",
    "print(confusion_matrix(y_test, results))\n",
    "#Compare to all zeros"
   ]
  },
  {
   "cell_type": "code",
   "execution_count": null,
   "metadata": {
    "collapsed": true
   },
   "outputs": [],
   "source": [
    "#EVERYTHING BELOW HERE IS NOT WORKING / OLD CODE"
   ]
  },
  {
   "cell_type": "code",
   "execution_count": null,
   "metadata": {
    "collapsed": false
   },
   "outputs": [],
   "source": [
    "#given train_split, train the model using the first train_split examples\n",
    "#which = 0 for the normal prediction\n",
    "#which = 1 for crazy_flags\n",
    "#which = 2 for oned_flags\n",
    "def train_stage1(train_split, which):\n",
    "    #First model: Using the sliding window\n",
    "    hists = []\n",
    "    model = Sequential()\n",
    "    model.add(GRU(128,activation='relu', input_shape=(crazy.shape[2:])))\n",
    "    if which == 2:\n",
    "        model.add(Dense(1))\n",
    "    else:\n",
    "        model.add(Dense(d))\n",
    "    model.compile(loss='mean_squared_error', optimizer='adam')\n",
    "    for i in range(train_split): # for each patient\n",
    "        this_patient_x = crazy[:,i,:,:]\n",
    "        if which == 0:\n",
    "            this_patient_y = crazy_y[:,i,:]\n",
    "        elif which == 1:\n",
    "            this_patient_y = crazy_flags[:,i,:]\n",
    "        else:\n",
    "            this_patient_y = oned_flags[:,i,0:1]\n",
    "        for ii in range(crazy.shape[0]): #for each window of time sequence\n",
    "            this_patient_x_i = np.array([this_patient_x[ii,:,:]])\n",
    "            if which == 2:\n",
    "                this_patient_y_i = np.array([this_patient_y[ii,0:1]])\n",
    "            else:\n",
    "                this_patient_y_i = np.array([this_patient_y[ii,:]])\n",
    "            hists.append(model.train_on_batch(this_patient_x_i, this_patient_y_i))\n",
    "        model.reset_states()\n",
    "    return hists, model"
   ]
  },
  {
   "cell_type": "code",
   "execution_count": null,
   "metadata": {
    "collapsed": true
   },
   "outputs": [],
   "source": [
    "def train_stage2(train_split):\n",
    "    #second model: trading a stateful rnn using this batch thing\n",
    "    hists = []\n",
    "    model = Sequential()\n",
    "    \n",
    "    X  # this is our input data, of shape (32, 21, 16)\n",
    "    # we will feed it to our model in sequences of length 10\n",
    "\n",
    "    model = Sequential()\n",
    "    model.add(LSTM(32, batch_input_shape=(32, 10, 16), stateful=True))\n",
    "    model.add(Dense(16, activation='softmax'))\n",
    "\n",
    "    model.compile(optimizer='rmsprop', loss='categorical_crossentropy')\n",
    "\n",
    "    # we train the network to predict the 11th timestep given the first 10:\n",
    "    model.train_on_batch(X[:, :10, :], np.reshape(X[:, 10, :], (32, 16)))\n",
    "\n",
    "    # the state of the network has changed. We can feed the follow-up sequences:\n",
    "    model.train_on_batch(X[:, 10:20, :], np.reshape(X[:, 20, :], (32, 16)))\n",
    "\n",
    "    # let's reset the states of the LSTM layer:\n",
    "    model.reset_states()\n",
    "\n",
    "    # another way to do it in this case:\n",
    "    model.layers[0].reset_states()\n",
    "    \n",
    "    model.add(GRU(128,activation='relu', input_shape=(crazy.shape[2:])))\n",
    "    model.compile(loss='mean_squared_error', optimizer='adam')\n",
    "    for i in range(train_split): # for each patient\n",
    "        this_patient_x = crazy[:,i,:,:]\n",
    "        if which == 0:\n",
    "            this_patient_y = crazy_y[:,i,:]\n",
    "        elif which == 1:\n",
    "            this_patient_y = crazy_flags[:,i,:]\n",
    "        else:\n",
    "            this_patient_y = oned_flags[:,i,0:1]\n",
    "        for ii in range(crazy.shape[0]): #for each window of time sequence\n",
    "            this_patient_x_i = np.array([this_patient_x[ii,:,:]])\n",
    "            if which == 2:\n",
    "                this_patient_y_i = np.array([this_patient_y[ii,0:1]])\n",
    "            else:\n",
    "                this_patient_y_i = np.array([this_patient_y[ii,:]])\n",
    "            hists.append(model.train_on_batch(this_patient_x_i, this_patient_y_i))\n",
    "        model.reset_states()\n",
    "    return hists, model"
   ]
  },
  {
   "cell_type": "code",
   "execution_count": null,
   "metadata": {
    "collapsed": false
   },
   "outputs": [],
   "source": [
    "oned_flags.shape\n",
    "(hists, model) = train_stage1(10, 2)"
   ]
  },
  {
   "cell_type": "code",
   "execution_count": null,
   "metadata": {
    "collapsed": false
   },
   "outputs": [],
   "source": [
    "#compare the y between them\n",
    "print(oned_flags[:, 0, 0:1].shape)\n",
    "#this is y for normal stuff\n",
    "print(crazy_y[:,i,:][0,:].shape)\n",
    "#this is y for the newest one\n",
    "print((oned_flags[:,0,0:1][0,0:1]).shape)\n",
    "#compare the x between them\n"
   ]
  },
  {
   "cell_type": "code",
   "execution_count": null,
   "metadata": {
    "collapsed": false
   },
   "outputs": [],
   "source": [
    "print(crazy[:, patient_num, :, :].shape)\n",
    "print((crazy[:,0,:,:][0,:,:]).shape)\n",
    "\n",
    "crazy[:,patient_num,:,:]"
   ]
  },
  {
   "cell_type": "code",
   "execution_count": null,
   "metadata": {
    "collapsed": false
   },
   "outputs": [],
   "source": [
    "#evaluate the model on the last 10 samples\n",
    "#which = 0 for the normal prediction\n",
    "#which = 1 for crazy_flags\n",
    "#which = 2 for oned_flags\n",
    "def evaluate(model, which):\n",
    "    evaluations = []\n",
    "    for i in range(n-10, n): # for each patient not in the training\n",
    "        this_patient_x = crazy[:,i,:,:]\n",
    "        if which == 0:\n",
    "            this_patient_y = crazy_y[:,i,:]\n",
    "        elif which == 1:\n",
    "            this_patient_y = crazy_flags[:,i,:]\n",
    "        else:\n",
    "            this_patient_y = oned_flags[:,i,:]\n",
    "        for ii in range(crazy.shape[0]): #for each window of time sequence\n",
    "            this_patient_x_i = np.array([this_patient_x[ii,:,:]])            \n",
    "            this_patient_y_i = np.array([this_patient_y[ii,:]])\n",
    "            evaluations.append(model.evaluate(this_patient_x_i, this_patient_y_i, verbose=0))\n",
    "        model.reset_states()\n",
    "    return evaluations"
   ]
  },
  {
   "cell_type": "code",
   "execution_count": null,
   "metadata": {
    "collapsed": false,
    "scrolled": true
   },
   "outputs": [],
   "source": [
    "histories = {}\n",
    "all_evals = {}\n",
    "which = 2\n",
    "for training_amount in range(10, 100, 10):\n",
    "    #Train the model\n",
    "    (hists, model) = train_stage1(training_amount, which)\n",
    "\n",
    "    #Check training results of the data\n",
    "    hist_values = []\n",
    "    for hist in hists:\n",
    "        hist_values.append(hist.item())\n",
    "    #plt.plot(hist_values)\n",
    "    histories[training_amount] = (sum(hist_values)/float(len(hist_values)))\n",
    "\n",
    "    #Check evaluation of the model\n",
    "    evaluations = evaluate(model, which)\n",
    "    #plt.plot(evaluations)\n",
    "    all_evals[training_amount] = (sum(evaluations)/float(len(evaluations)))"
   ]
  },
  {
   "cell_type": "code",
   "execution_count": null,
   "metadata": {
    "collapsed": false,
    "scrolled": true
   },
   "outputs": [],
   "source": [
    "print(histories)\n",
    "for key in histories:\n",
    "    print (key)\n",
    "    print (histories[key] - all_evals[key])\n",
    "print(all_evals)"
   ]
  },
  {
   "cell_type": "code",
   "execution_count": null,
   "metadata": {
    "collapsed": false
   },
   "outputs": [],
   "source": [
    "#Visually check the prediction of the first reading versus what's actually happening\n",
    "#(178, 200, 20, 10)\n",
    "\n",
    "#choose a patient\n",
    "patient_num = randint(101,199)\n",
    "#choose a measuremen\n",
    "measurement = 0\n",
    "\n",
    "#Get what we are aiming for\n",
    "if which == 0:\n",
    "    reality = crazy_y[:, patient_num, measurement]\n",
    "elif which == 1:\n",
    "    reality = crazy_flags[:, patient_num, measurement]\n",
    "elif which == 2:\n",
    "    reality = oned_flags[:, patient_num, 0:1]\n",
    "#Get the predictions\n",
    "model.reset_states()\n",
    "predictions = model.predict(crazy[:,patient_num,:,:])\n",
    "\n",
    "#Plot prediction versus reality\n",
    "plt.plot(predictions[:,0], color='red')\n",
    "plt.plot(reality, color='blue')"
   ]
  },
  {
   "cell_type": "code",
   "execution_count": null,
   "metadata": {
    "collapsed": false
   },
   "outputs": [],
   "source": [
    "#Compute MSE\n",
    "dif = reality - predictions[:,0]\n",
    "dif = dif ** 2\n",
    "print (\"MSE:\")\n",
    "print (sum(dif)/178)\n",
    "\n",
    "#Plot the difference\n",
    "plt.plot(dif)"
   ]
  },
  {
   "cell_type": "markdown",
   "metadata": {
    "collapsed": true
   },
   "source": []
  }
 ],
 "metadata": {
  "kernelspec": {
   "display_name": "Python 3",
   "language": "python",
   "name": "python3"
  },
  "language_info": {
   "codemirror_mode": {
    "name": "ipython",
    "version": 3
   },
   "file_extension": ".py",
   "mimetype": "text/x-python",
   "name": "python",
   "nbconvert_exporter": "python",
   "pygments_lexer": "ipython3",
   "version": "3.5.1"
  }
 },
 "nbformat": 4,
 "nbformat_minor": 0
}
