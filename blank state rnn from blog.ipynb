{
 "cells": [
  {
   "cell_type": "code",
   "execution_count": 81,
   "metadata": {
    "collapsed": false
   },
   "outputs": [
    {
     "name": "stdout",
     "output_type": "stream",
     "text": [
      "X_train shape: (4, 5)\n",
      "X_test shape: (200, 5)\n"
     ]
    },
    {
     "name": "stderr",
     "output_type": "stream",
     "text": [
      "/Users/williamcai/anaconda3/lib/python3.5/site-packages/ipykernel/__main__.py:31: VisibleDeprecationWarning: using a non-integer number instead of an integer will result in an error in the future\n",
      "/Users/williamcai/anaconda3/lib/python3.5/site-packages/ipykernel/__main__.py:35: VisibleDeprecationWarning: using a non-integer number instead of an integer will result in an error in the future\n"
     ]
    }
   ],
   "source": [
    "from __future__ import print_function\n",
    "\n",
    "import numpy as np\n",
    "from keras.callbacks import Callback\n",
    "from keras.layers import Dense\n",
    "from keras.layers import LSTM\n",
    "from keras.models import Sequential\n",
    "from numpy.random import choice\n",
    "\n",
    "USE_SEQUENCES = False\n",
    "USE_STATELESS_MODEL = False\n",
    "\n",
    "# you can all the four possible combinations\n",
    "# USE_SEQUENCES and USE_STATELESS_MODEL\n",
    "\n",
    "max_len = 5\n",
    "batch_size = 1\n",
    "\n",
    "N_train = 4\n",
    "N_test = 200\n",
    "\n",
    "X_train = np.zeros((N_train, max_len))\n",
    "X_test = np.zeros((N_test, max_len))\n",
    "\n",
    "print('X_train shape:', X_train.shape)\n",
    "print('X_test shape:', X_test.shape)\n",
    "\n",
    "y_train = np.zeros((N_train, 1))\n",
    "y_test = np.zeros((N_test, 1))\n",
    "\n",
    "one_indexes = choice(a=N_train, size=N_train / 2, replace=False)\n",
    "X_train[one_indexes, 0] = 1\n",
    "y_train[one_indexes] = 1\n",
    "\n",
    "one_indexes = choice(a=N_test, size=N_test / 2, replace=False)\n",
    "X_test[one_indexes, 0] = 1\n",
    "y_test[one_indexes] = 1"
   ]
  },
  {
   "cell_type": "code",
   "execution_count": 82,
   "metadata": {
    "collapsed": false
   },
   "outputs": [],
   "source": [
    "class ResetStatesCallback(Callback):\n",
    "    def __init__(self):\n",
    "        self.counter = 0\n",
    "\n",
    "    def on_batch_begin(self, batch, logs={}):\n",
    "        if self.counter % max_len == 0:\n",
    "            self.model.reset_states()\n",
    "        self.counter += 1"
   ]
  },
  {
   "cell_type": "code",
   "execution_count": 83,
   "metadata": {
    "collapsed": false
   },
   "outputs": [
    {
     "name": "stdout",
     "output_type": "stream",
     "text": [
      "sequences_x_train shape: (4, 5, 1)\n",
      "sequences_y_train shape: (4, 1)\n",
      "sequences_x_test shape: (200, 5, 1)\n",
      "sequences_y_test shape: (200, 1)\n"
     ]
    }
   ],
   "source": [
    "X_train = np.expand_dims(X_train, axis=2)  # input dim is 1. Timesteps is the sequence length.\n",
    "X_test = np.expand_dims(X_test, axis=2)\n",
    "\n",
    "print('sequences_x_train shape:', X_train.shape)\n",
    "print('sequences_y_train shape:', y_train.shape)\n",
    "\n",
    "print('sequences_x_test shape:', X_test.shape)\n",
    "print('sequences_y_test shape:', y_test.shape)\n",
    "\n"
   ]
  },
  {
   "cell_type": "code",
   "execution_count": 84,
   "metadata": {
    "collapsed": false
   },
   "outputs": [
    {
     "name": "stdout",
     "output_type": "stream",
     "text": [
      "Build STATEFUL model...\n"
     ]
    }
   ],
   "source": [
    "# STATEFUL MODEL\n",
    "print('Build STATEFUL model...')\n",
    "model = Sequential()\n",
    "model.add(LSTM(512,\n",
    "               batch_input_shape=(1, 1, 2), return_sequences=False,\n",
    "               stateful=True))\n",
    "model.add(Dense(1, activation='sigmoid'))\n",
    "\n",
    "model.compile(loss='binary_crossentropy', optimizer='adam', metrics=['accuracy'])\n"
   ]
  },
  {
   "cell_type": "code",
   "execution_count": 85,
   "metadata": {
    "collapsed": false
   },
   "outputs": [],
   "source": [
    "n_train = 1000\n",
    "max_len = 8\n",
    "x = np.zeros((n_train,len_sequence,2))\n",
    "for i in range(x.shape[0]):\n",
    "    for ii in range(x.shape[1]):\n",
    "        for iii in range(x.shape[2]):\n",
    "            if i % 2 == 0 and ii == 0: \n",
    "                x[i][ii][iii] = 1\n"
   ]
  },
  {
   "cell_type": "code",
   "execution_count": 86,
   "metadata": {
    "collapsed": true
   },
   "outputs": [],
   "source": [
    "y = np.zeros((x.shape[0] * x.shape[1],1))\n",
    "for i in range(x.shape[0]):\n",
    "    for ii in range(x.shape[1]):\n",
    "        if i % 2 == 0:\n",
    "            y[i * x.shape[1] + ii] = 1"
   ]
  },
  {
   "cell_type": "code",
   "execution_count": 87,
   "metadata": {
    "collapsed": false
   },
   "outputs": [
    {
     "name": "stdout",
     "output_type": "stream",
     "text": [
      "(1000, 8, 2)\n",
      "(8000, 1)\n"
     ]
    }
   ],
   "source": [
    "print(x.shape)\n",
    "print(y.shape)\n"
   ]
  },
  {
   "cell_type": "code",
   "execution_count": 88,
   "metadata": {
    "collapsed": false
   },
   "outputs": [],
   "source": [
    "new_x = np.zeros((x.shape[0] * x.shape[1],x.shape[2],1))\n",
    "for i in range(x.shape[0]):\n",
    "    for ii in range(x.shape[1]):\n",
    "        for iii in range(2):\n",
    "            new_x[i * x.shape[1] + ii][iii][0] = x[i][ii][iii]"
   ]
  },
  {
   "cell_type": "code",
   "execution_count": 89,
   "metadata": {
    "collapsed": false
   },
   "outputs": [
    {
     "name": "stdout",
     "output_type": "stream",
     "text": [
      "(8000, 2, 1)\n",
      "(8000, 1)\n"
     ]
    }
   ],
   "source": [
    "print(new_x.shape)\n",
    "print(y.shape)"
   ]
  },
  {
   "cell_type": "code",
   "execution_count": 90,
   "metadata": {
    "collapsed": false
   },
   "outputs": [
    {
     "name": "stdout",
     "output_type": "stream",
     "text": [
      "0\n",
      "[[ 1.]\n",
      " [ 1.]]\n",
      "[ 1.]\n",
      "1\n",
      "[[ 0.]\n",
      " [ 0.]]\n",
      "[ 1.]\n",
      "2\n",
      "[[ 0.]\n",
      " [ 0.]]\n",
      "[ 1.]\n",
      "3\n",
      "[[ 0.]\n",
      " [ 0.]]\n",
      "[ 1.]\n",
      "4\n",
      "[[ 0.]\n",
      " [ 0.]]\n",
      "[ 1.]\n",
      "5\n",
      "[[ 0.]\n",
      " [ 0.]]\n",
      "[ 1.]\n",
      "6\n",
      "[[ 0.]\n",
      " [ 0.]]\n",
      "[ 1.]\n",
      "7\n",
      "[[ 0.]\n",
      " [ 0.]]\n",
      "[ 1.]\n",
      "8\n",
      "[[ 0.]\n",
      " [ 0.]]\n",
      "[ 0.]\n",
      "9\n",
      "[[ 0.]\n",
      " [ 0.]]\n",
      "[ 0.]\n"
     ]
    }
   ],
   "source": [
    "for i in range(10):\n",
    "    print (i)\n",
    "    print(new_x[i])\n",
    "    print(y[i])\n"
   ]
  },
  {
   "cell_type": "code",
   "execution_count": null,
   "metadata": {
    "collapsed": false
   },
   "outputs": [
    {
     "name": "stdout",
     "output_type": "stream",
     "text": [
      "Epoch 1/10\n",
      "8000/8000 [==============================] - 1132s - loss: 0.0068 - acc: 0.9978  \n",
      "Epoch 2/10\n",
      "6300/8000 [======================>.......] - ETA: 284s - loss: 9.5149e-07 - acc: 1.0000"
     ]
    }
   ],
   "source": [
    "model.fit(new_x,\n",
    "          y,\n",
    "          callbacks=[ResetStatesCallback()],\n",
    "      batch_size=1, nb_epoch=10,\n",
    "          shuffle=False)\n"
   ]
  },
  {
   "cell_type": "code",
   "execution_count": null,
   "metadata": {
    "collapsed": true
   },
   "outputs": [],
   "source": [
    "print('Train...')\n",
    "for epoch in range(15):\n",
    "    mean_tr_acc = []\n",
    "    mean_tr_loss = []\n",
    "    for i in range(len(X_train)):\n",
    "        y_true = y_train[i]\n",
    "        for j in range(max_len):\n",
    "            tr_loss, tr_acc = model.train_on_batch(np.expand_dims(np.expand_dims(X_train[i][j], axis=1), axis=1),\n",
    "                                                   np.array([y_true]))\n",
    "            mean_tr_acc.append(tr_acc)\n",
    "            mean_tr_loss.append(tr_loss)\n",
    "        model.reset_states()\n",
    "\n",
    "    print('accuracy training = {}'.format(np.mean(mean_tr_acc)))\n",
    "    print('loss training = {}'.format(np.mean(mean_tr_loss)))\n",
    "    print('___________________________________')\n",
    "\n",
    "    mean_te_acc = []\n",
    "    mean_te_loss = []\n",
    "    for i in range(len(X_test)):\n",
    "        for j in range(max_len):\n",
    "            te_loss, te_acc = model.test_on_batch(np.expand_dims(np.expand_dims(X_test[i][j], axis=1), axis=1),\n",
    "                                                  y_test[i])\n",
    "            mean_te_acc.append(te_acc)\n",
    "            mean_te_loss.append(te_loss)\n",
    "        model.reset_states()\n",
    "\n",
    "        for j in range(max_len):\n",
    "            y_pred = model.predict_on_batch(np.expand_dims(np.expand_dims(X_test[i][j], axis=1), axis=1))\n",
    "        model.reset_states()\n",
    "\n",
    "    print('accuracy testing = {}'.format(np.mean(mean_te_acc)))\n",
    "    print('loss testing = {}'.format(np.mean(mean_te_loss)))\n",
    "    print('___________________________________')"
   ]
  }
 ],
 "metadata": {
  "kernelspec": {
   "display_name": "Python 3",
   "language": "python",
   "name": "python3"
  },
  "language_info": {
   "codemirror_mode": {
    "name": "ipython",
    "version": 3
   },
   "file_extension": ".py",
   "mimetype": "text/x-python",
   "name": "python",
   "nbconvert_exporter": "python",
   "pygments_lexer": "ipython3",
   "version": "3.5.1"
  }
 },
 "nbformat": 4,
 "nbformat_minor": 0
}
