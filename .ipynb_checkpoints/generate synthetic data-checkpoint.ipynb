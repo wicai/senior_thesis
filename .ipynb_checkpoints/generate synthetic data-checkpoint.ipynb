{
 "cells": [
  {
   "cell_type": "code",
   "execution_count": 31,
   "metadata": {
    "collapsed": true
   },
   "outputs": [],
   "source": [
    "%matplotlib inline\n",
    "import numpy as np \n",
    "import os\n",
    "import sys\n",
    "import matplotlib.pyplot as plt"
   ]
  },
  {
   "cell_type": "code",
   "execution_count": 32,
   "metadata": {
    "collapsed": false
   },
   "outputs": [
    {
     "name": "stdout",
     "output_type": "stream",
     "text": [
      "9.18289466879 9.18289466879\n"
     ]
    }
   ],
   "source": [
    "V=np.random.randn(10)\n",
    "print V.dot(V), np.linalg.norm(V)**2"
   ]
  },
  {
   "cell_type": "code",
   "execution_count": 50,
   "metadata": {
    "collapsed": false
   },
   "outputs": [
    {
     "name": "stdout",
     "output_type": "stream",
     "text": [
      "29\n",
      "59\n",
      "7\n",
      "55\n",
      "9\n",
      "1\n",
      "36\n",
      "16\n",
      "40\n",
      "85\n",
      "35\n",
      "25\n",
      "65\n",
      "1\n",
      "32\n",
      "14\n",
      "41\n",
      "68\n",
      "6\n",
      "41\n",
      "1\n",
      "44\n",
      "57\n",
      "69\n",
      "8\n",
      "1\n",
      "2\n",
      "53\n",
      "21\n",
      "92\n",
      "37\n",
      "87\n",
      "10\n",
      "92\n",
      "54\n",
      "58\n",
      "10\n",
      "77\n",
      "1\n",
      "85\n",
      "25\n",
      "48\n",
      "82\n",
      "1\n",
      "40\n",
      "55\n",
      "1\n",
      "18\n",
      "6\n",
      "1\n",
      "12\n",
      "3\n",
      "55\n",
      "70\n",
      "68\n",
      "8\n",
      "89\n",
      "3\n",
      "59\n",
      "29\n",
      "61\n",
      "39\n",
      "79\n",
      "81\n",
      "1\n",
      "35\n",
      "87\n",
      "1\n",
      "16\n",
      "76\n",
      "68\n",
      "39\n",
      "97\n",
      "81\n",
      "33\n",
      "55\n",
      "1\n",
      "63\n",
      "39\n",
      "43\n",
      "78\n",
      "80\n",
      "43\n",
      "35\n",
      "53\n",
      "40\n",
      "14\n",
      "24\n",
      "65\n",
      "15\n",
      "36\n",
      "60\n",
      "99\n",
      "65\n",
      "83\n",
      "62\n",
      "17\n",
      "33\n",
      "20\n",
      "38\n",
      "43\n",
      "51\n",
      "98\n",
      "90\n",
      "53\n",
      "47\n",
      "79\n",
      "27\n",
      "9\n",
      "1\n",
      "1\n",
      "15\n",
      "40\n",
      "56\n",
      "92\n",
      "7\n",
      "77\n",
      "78\n",
      "1\n",
      "1\n",
      "77\n",
      "1\n",
      "19\n",
      "89\n",
      "56\n",
      "1\n",
      "94\n",
      "62\n",
      "22\n",
      "57\n",
      "33\n",
      "28\n",
      "80\n",
      "36\n",
      "2\n",
      "82\n",
      "13\n"
     ]
    }
   ],
   "source": [
    "d=10 ##number of measurements per patient per time unit\n",
    "k=2 ##complexity of the time series\n",
    "n=200 ## number of patients\n",
    "T=100 ## amount of time measured for each patient\n",
    "sigmaw=0.2 ##randomness\n",
    "U=np.random.randn(d,k).dot(np.random.randn(k,d))\n",
    "betashift=np.random.randn(d)/np.sqrt(d)  ## used to check when we switch to the other time series\n",
    "A=0.9*U/np.linalg.norm(U,ord=2)\n",
    "V=np.random.randn(d,k).dot(np.random.randn(k,d))\n",
    "B=0.9*V/np.linalg.norm(V,ord=2)\n",
    "X=np.zeros((n,d,T)) #this represents n different time series, in d-dimensions, for T time-steps\n",
    "flag=1\n",
    "for j in range(n):\n",
    "    X[j,:,0]=np.random.randn(d)/np.sqrt(d)\n",
    "    flag=1\n",
    "    for i in range(1,T):\n",
    "        if flag and ((X[j,:,i-1].dot(betashift))>.5): ##if flag was true and we go above a certain threshold, then set flag=0\n",
    "            flag=0\n",
    "        ## we can think of flag has flag==1 means not critical, flag==0 means critical\n",
    "        if flag:\n",
    "            X[j,:,i]=A.dot(X[j,:,i-1])+sigmaw*np.random.randn(d)\n",
    "        else:\n",
    "            X[j,:,i]=B.dot(X[j,:,i-1])+sigmaw*np.random.randn(d)\n",
    "## X is a n by d by T tensor\n",
    "## n represents independent trials (think of them as patients or time periods for patients separated)\n",
    "## T represents the time horizon (how long we observe a patient, for now T is the same for everybody, but we can imagine that changing)\n",
    "## d is the number of measurements that we have per patient per time."
   ]
  },
  {
   "cell_type": "code",
   "execution_count": 48,
   "metadata": {
    "collapsed": false
   },
   "outputs": [
    {
     "data": {
      "text/plain": [
       "0.55394760976974855"
      ]
     },
     "execution_count": 48,
     "metadata": {},
     "output_type": "execute_result"
    }
   ],
   "source": [
    "np.linalg.norm(X[0,:,2])"
   ]
  },
  {
   "cell_type": "code",
   "execution_count": null,
   "metadata": {
    "collapsed": true
   },
   "outputs": [],
   "source": []
  }
 ],
 "metadata": {
  "kernelspec": {
   "display_name": "Python 3",
   "language": "python",
   "name": "python3"
  },
  "language_info": {
   "codemirror_mode": {
    "name": "ipython",
    "version": 3
   },
   "file_extension": ".py",
   "mimetype": "text/x-python",
   "name": "python",
   "nbconvert_exporter": "python",
   "pygments_lexer": "ipython3",
   "version": "3.5.1"
  }
 },
 "nbformat": 4,
 "nbformat_minor": 0
}
